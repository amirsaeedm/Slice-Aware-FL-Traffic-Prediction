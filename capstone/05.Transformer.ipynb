{
 "cells": [
  {
   "cell_type": "markdown",
   "id": "36c60d02",
   "metadata": {
    "vscode": {
     "languageId": "plaintext"
    }
   },
   "source": [
    "Transformer Forecasting"
   ]
  },
  {
   "cell_type": "markdown",
   "id": "00e02c48",
   "metadata": {},
   "source": [
    "1. Install Dependencies"
   ]
  },
  {
   "cell_type": "code",
   "execution_count": 18,
   "id": "78009d1c",
   "metadata": {},
   "outputs": [
    {
     "name": "stdout",
     "output_type": "stream",
     "text": [
      "Requirement already satisfied: neuralforecast in c:\\users\\rebek\\anaconda3\\lib\\site-packages (3.0.2)\n",
      "Requirement already satisfied: coreforecast>=0.0.6 in c:\\users\\rebek\\anaconda3\\lib\\site-packages (from neuralforecast) (0.0.16)\n",
      "Requirement already satisfied: fsspec in c:\\users\\rebek\\anaconda3\\lib\\site-packages (from neuralforecast) (2023.4.0)\n",
      "Requirement already satisfied: numpy>=1.21.6 in c:\\users\\rebek\\anaconda3\\lib\\site-packages (from neuralforecast) (1.26.4)\n",
      "Requirement already satisfied: pandas>=1.3.5 in c:\\users\\rebek\\anaconda3\\lib\\site-packages (from neuralforecast) (2.2.1)\n",
      "Requirement already satisfied: torch<=2.6.0,>=2.0.0 in c:\\users\\rebek\\anaconda3\\lib\\site-packages (from neuralforecast) (2.5.1+cu121)\n",
      "Requirement already satisfied: pytorch-lightning>=2.0.0 in c:\\users\\rebek\\anaconda3\\lib\\site-packages (from neuralforecast) (2.5.2)\n",
      "Requirement already satisfied: ray>=2.2.0 in c:\\users\\rebek\\anaconda3\\lib\\site-packages (from ray[tune]>=2.2.0->neuralforecast) (2.48.0)\n",
      "Requirement already satisfied: optuna in c:\\users\\rebek\\anaconda3\\lib\\site-packages (from neuralforecast) (4.4.0)\n",
      "Requirement already satisfied: utilsforecast>=0.2.3 in c:\\users\\rebek\\anaconda3\\lib\\site-packages (from neuralforecast) (0.2.12)\n",
      "Requirement already satisfied: filelock in c:\\users\\rebek\\anaconda3\\lib\\site-packages (from torch<=2.6.0,>=2.0.0->neuralforecast) (3.9.0)\n",
      "Requirement already satisfied: typing-extensions>=4.8.0 in c:\\users\\rebek\\anaconda3\\lib\\site-packages (from torch<=2.6.0,>=2.0.0->neuralforecast) (4.14.1)\n",
      "Requirement already satisfied: networkx in c:\\users\\rebek\\anaconda3\\lib\\site-packages (from torch<=2.6.0,>=2.0.0->neuralforecast) (3.1)\n",
      "Requirement already satisfied: jinja2 in c:\\users\\rebek\\anaconda3\\lib\\site-packages (from torch<=2.6.0,>=2.0.0->neuralforecast) (3.1.2)\n",
      "Requirement already satisfied: sympy==1.13.1 in c:\\users\\rebek\\anaconda3\\lib\\site-packages (from torch<=2.6.0,>=2.0.0->neuralforecast) (1.13.1)\n",
      "Requirement already satisfied: mpmath<1.4,>=1.1.0 in c:\\users\\rebek\\anaconda3\\lib\\site-packages (from sympy==1.13.1->torch<=2.6.0,>=2.0.0->neuralforecast) (1.3.0)\n",
      "Requirement already satisfied: python-dateutil>=2.8.2 in c:\\users\\rebek\\anaconda3\\lib\\site-packages (from pandas>=1.3.5->neuralforecast) (2.8.2)\n",
      "Requirement already satisfied: pytz>=2020.1 in c:\\users\\rebek\\anaconda3\\lib\\site-packages (from pandas>=1.3.5->neuralforecast) (2023.3.post1)\n",
      "Requirement already satisfied: tzdata>=2022.7 in c:\\users\\rebek\\anaconda3\\lib\\site-packages (from pandas>=1.3.5->neuralforecast) (2023.3)\n",
      "Requirement already satisfied: six>=1.5 in c:\\users\\rebek\\anaconda3\\lib\\site-packages (from python-dateutil>=2.8.2->pandas>=1.3.5->neuralforecast) (1.16.0)\n",
      "Requirement already satisfied: tqdm>=4.57.0 in c:\\users\\rebek\\anaconda3\\lib\\site-packages (from pytorch-lightning>=2.0.0->neuralforecast) (4.65.0)\n",
      "Requirement already satisfied: PyYAML>=5.4 in c:\\users\\rebek\\anaconda3\\lib\\site-packages (from pytorch-lightning>=2.0.0->neuralforecast) (6.0)\n",
      "Requirement already satisfied: torchmetrics>=0.7.0 in c:\\users\\rebek\\anaconda3\\lib\\site-packages (from pytorch-lightning>=2.0.0->neuralforecast) (1.8.0)\n",
      "Requirement already satisfied: packaging>=20.0 in c:\\users\\rebek\\anaconda3\\lib\\site-packages (from pytorch-lightning>=2.0.0->neuralforecast) (23.1)\n",
      "Requirement already satisfied: lightning-utilities>=0.10.0 in c:\\users\\rebek\\anaconda3\\lib\\site-packages (from pytorch-lightning>=2.0.0->neuralforecast) (0.15.0)\n",
      "Requirement already satisfied: requests in c:\\users\\rebek\\anaconda3\\lib\\site-packages (from fsspec[http]>=2022.5.0->pytorch-lightning>=2.0.0->neuralforecast) (2.31.0)\n",
      "Requirement already satisfied: aiohttp!=4.0.0a0,!=4.0.0a1 in c:\\users\\rebek\\anaconda3\\lib\\site-packages (from fsspec[http]>=2022.5.0->pytorch-lightning>=2.0.0->neuralforecast) (3.8.5)\n",
      "Requirement already satisfied: attrs>=17.3.0 in c:\\users\\rebek\\anaconda3\\lib\\site-packages (from aiohttp!=4.0.0a0,!=4.0.0a1->fsspec[http]>=2022.5.0->pytorch-lightning>=2.0.0->neuralforecast) (22.1.0)\n",
      "Requirement already satisfied: charset-normalizer<4.0,>=2.0 in c:\\users\\rebek\\anaconda3\\lib\\site-packages (from aiohttp!=4.0.0a0,!=4.0.0a1->fsspec[http]>=2022.5.0->pytorch-lightning>=2.0.0->neuralforecast) (2.0.4)\n",
      "Requirement already satisfied: multidict<7.0,>=4.5 in c:\\users\\rebek\\anaconda3\\lib\\site-packages (from aiohttp!=4.0.0a0,!=4.0.0a1->fsspec[http]>=2022.5.0->pytorch-lightning>=2.0.0->neuralforecast) (6.0.2)\n",
      "Requirement already satisfied: async-timeout<5.0,>=4.0.0a3 in c:\\users\\rebek\\anaconda3\\lib\\site-packages (from aiohttp!=4.0.0a0,!=4.0.0a1->fsspec[http]>=2022.5.0->pytorch-lightning>=2.0.0->neuralforecast) (4.0.2)\n",
      "Requirement already satisfied: yarl<2.0,>=1.0 in c:\\users\\rebek\\anaconda3\\lib\\site-packages (from aiohttp!=4.0.0a0,!=4.0.0a1->fsspec[http]>=2022.5.0->pytorch-lightning>=2.0.0->neuralforecast) (1.8.1)\n",
      "Requirement already satisfied: frozenlist>=1.1.1 in c:\\users\\rebek\\anaconda3\\lib\\site-packages (from aiohttp!=4.0.0a0,!=4.0.0a1->fsspec[http]>=2022.5.0->pytorch-lightning>=2.0.0->neuralforecast) (1.3.3)\n",
      "Requirement already satisfied: aiosignal>=1.1.2 in c:\\users\\rebek\\anaconda3\\lib\\site-packages (from aiohttp!=4.0.0a0,!=4.0.0a1->fsspec[http]>=2022.5.0->pytorch-lightning>=2.0.0->neuralforecast) (1.2.0)\n",
      "Requirement already satisfied: idna>=2.0 in c:\\users\\rebek\\anaconda3\\lib\\site-packages (from yarl<2.0,>=1.0->aiohttp!=4.0.0a0,!=4.0.0a1->fsspec[http]>=2022.5.0->pytorch-lightning>=2.0.0->neuralforecast) (3.4)\n",
      "Requirement already satisfied: setuptools in c:\\users\\rebek\\anaconda3\\lib\\site-packages (from lightning-utilities>=0.10.0->pytorch-lightning>=2.0.0->neuralforecast) (68.0.0)\n",
      "Requirement already satisfied: click>=7.0 in c:\\users\\rebek\\anaconda3\\lib\\site-packages (from ray>=2.2.0->ray[tune]>=2.2.0->neuralforecast) (8.0.4)\n",
      "Requirement already satisfied: jsonschema in c:\\users\\rebek\\anaconda3\\lib\\site-packages (from ray>=2.2.0->ray[tune]>=2.2.0->neuralforecast) (4.17.3)\n",
      "Requirement already satisfied: msgpack<2.0.0,>=1.0.0 in c:\\users\\rebek\\anaconda3\\lib\\site-packages (from ray>=2.2.0->ray[tune]>=2.2.0->neuralforecast) (1.0.3)\n",
      "Requirement already satisfied: protobuf!=3.19.5,>=3.15.3 in c:\\users\\rebek\\anaconda3\\lib\\site-packages (from ray>=2.2.0->ray[tune]>=2.2.0->neuralforecast) (4.25.2)\n",
      "Requirement already satisfied: colorama in c:\\users\\rebek\\anaconda3\\lib\\site-packages (from click>=7.0->ray>=2.2.0->ray[tune]>=2.2.0->neuralforecast) (0.4.6)\n",
      "Requirement already satisfied: tensorboardX>=1.9 in c:\\users\\rebek\\anaconda3\\lib\\site-packages (from ray[tune]>=2.2.0->neuralforecast) (2.6.4)\n",
      "Requirement already satisfied: pyarrow>=9.0.0 in c:\\users\\rebek\\anaconda3\\lib\\site-packages (from ray[tune]>=2.2.0->neuralforecast) (11.0.0)\n",
      "Requirement already satisfied: MarkupSafe>=2.0 in c:\\users\\rebek\\anaconda3\\lib\\site-packages (from jinja2->torch<=2.6.0,>=2.0.0->neuralforecast) (2.1.1)\n",
      "Requirement already satisfied: pyrsistent!=0.17.0,!=0.17.1,!=0.17.2,>=0.14.0 in c:\\users\\rebek\\anaconda3\\lib\\site-packages (from jsonschema->ray>=2.2.0->ray[tune]>=2.2.0->neuralforecast) (0.18.0)\n",
      "Requirement already satisfied: alembic>=1.5.0 in c:\\users\\rebek\\anaconda3\\lib\\site-packages (from optuna->neuralforecast) (1.16.4)\n",
      "Requirement already satisfied: colorlog in c:\\users\\rebek\\anaconda3\\lib\\site-packages (from optuna->neuralforecast) (6.9.0)\n",
      "Requirement already satisfied: sqlalchemy>=1.4.2 in c:\\users\\rebek\\anaconda3\\lib\\site-packages (from optuna->neuralforecast) (1.4.39)\n",
      "Requirement already satisfied: Mako in c:\\users\\rebek\\anaconda3\\lib\\site-packages (from alembic>=1.5.0->optuna->neuralforecast) (1.3.10)\n",
      "Requirement already satisfied: greenlet!=0.4.17 in c:\\users\\rebek\\anaconda3\\lib\\site-packages (from sqlalchemy>=1.4.2->optuna->neuralforecast) (2.0.1)\n",
      "Requirement already satisfied: urllib3<3,>=1.21.1 in c:\\users\\rebek\\anaconda3\\lib\\site-packages (from requests->fsspec[http]>=2022.5.0->pytorch-lightning>=2.0.0->neuralforecast) (1.26.16)\n",
      "Requirement already satisfied: certifi>=2017.4.17 in c:\\users\\rebek\\anaconda3\\lib\\site-packages (from requests->fsspec[http]>=2022.5.0->pytorch-lightning>=2.0.0->neuralforecast) (2024.2.2)\n",
      "Requirement already satisfied: neuralforecast in c:\\users\\rebek\\anaconda3\\lib\\site-packages (3.0.2)\n",
      "Requirement already satisfied: pytorch-lightning in c:\\users\\rebek\\anaconda3\\lib\\site-packages (2.5.2)\n",
      "Requirement already satisfied: coreforecast>=0.0.6 in c:\\users\\rebek\\anaconda3\\lib\\site-packages (from neuralforecast) (0.0.16)\n",
      "Requirement already satisfied: fsspec in c:\\users\\rebek\\anaconda3\\lib\\site-packages (from neuralforecast) (2023.4.0)\n",
      "Requirement already satisfied: numpy>=1.21.6 in c:\\users\\rebek\\anaconda3\\lib\\site-packages (from neuralforecast) (1.26.4)\n",
      "Requirement already satisfied: pandas>=1.3.5 in c:\\users\\rebek\\anaconda3\\lib\\site-packages (from neuralforecast) (2.2.1)\n",
      "Requirement already satisfied: torch<=2.6.0,>=2.0.0 in c:\\users\\rebek\\anaconda3\\lib\\site-packages (from neuralforecast) (2.5.1+cu121)\n",
      "Requirement already satisfied: ray>=2.2.0 in c:\\users\\rebek\\anaconda3\\lib\\site-packages (from ray[tune]>=2.2.0->neuralforecast) (2.48.0)\n",
      "Requirement already satisfied: optuna in c:\\users\\rebek\\anaconda3\\lib\\site-packages (from neuralforecast) (4.4.0)\n",
      "Requirement already satisfied: utilsforecast>=0.2.3 in c:\\users\\rebek\\anaconda3\\lib\\site-packages (from neuralforecast) (0.2.12)\n",
      "Requirement already satisfied: filelock in c:\\users\\rebek\\anaconda3\\lib\\site-packages (from torch<=2.6.0,>=2.0.0->neuralforecast) (3.9.0)\n",
      "Requirement already satisfied: typing-extensions>=4.8.0 in c:\\users\\rebek\\anaconda3\\lib\\site-packages (from torch<=2.6.0,>=2.0.0->neuralforecast) (4.14.1)\n",
      "Requirement already satisfied: networkx in c:\\users\\rebek\\anaconda3\\lib\\site-packages (from torch<=2.6.0,>=2.0.0->neuralforecast) (3.1)\n",
      "Requirement already satisfied: jinja2 in c:\\users\\rebek\\anaconda3\\lib\\site-packages (from torch<=2.6.0,>=2.0.0->neuralforecast) (3.1.2)\n",
      "Requirement already satisfied: sympy==1.13.1 in c:\\users\\rebek\\anaconda3\\lib\\site-packages (from torch<=2.6.0,>=2.0.0->neuralforecast) (1.13.1)\n",
      "Requirement already satisfied: mpmath<1.4,>=1.1.0 in c:\\users\\rebek\\anaconda3\\lib\\site-packages (from sympy==1.13.1->torch<=2.6.0,>=2.0.0->neuralforecast) (1.3.0)\n",
      "Requirement already satisfied: tqdm>=4.57.0 in c:\\users\\rebek\\anaconda3\\lib\\site-packages (from pytorch-lightning) (4.65.0)\n",
      "Requirement already satisfied: PyYAML>=5.4 in c:\\users\\rebek\\anaconda3\\lib\\site-packages (from pytorch-lightning) (6.0)\n",
      "Requirement already satisfied: torchmetrics>=0.7.0 in c:\\users\\rebek\\anaconda3\\lib\\site-packages (from pytorch-lightning) (1.8.0)\n",
      "Requirement already satisfied: packaging>=20.0 in c:\\users\\rebek\\anaconda3\\lib\\site-packages (from pytorch-lightning) (23.1)\n",
      "Requirement already satisfied: lightning-utilities>=0.10.0 in c:\\users\\rebek\\anaconda3\\lib\\site-packages (from pytorch-lightning) (0.15.0)\n",
      "Requirement already satisfied: requests in c:\\users\\rebek\\anaconda3\\lib\\site-packages (from fsspec[http]>=2022.5.0->pytorch-lightning) (2.31.0)\n",
      "Requirement already satisfied: aiohttp!=4.0.0a0,!=4.0.0a1 in c:\\users\\rebek\\anaconda3\\lib\\site-packages (from fsspec[http]>=2022.5.0->pytorch-lightning) (3.8.5)\n",
      "Requirement already satisfied: attrs>=17.3.0 in c:\\users\\rebek\\anaconda3\\lib\\site-packages (from aiohttp!=4.0.0a0,!=4.0.0a1->fsspec[http]>=2022.5.0->pytorch-lightning) (22.1.0)\n",
      "Requirement already satisfied: charset-normalizer<4.0,>=2.0 in c:\\users\\rebek\\anaconda3\\lib\\site-packages (from aiohttp!=4.0.0a0,!=4.0.0a1->fsspec[http]>=2022.5.0->pytorch-lightning) (2.0.4)\n",
      "Requirement already satisfied: multidict<7.0,>=4.5 in c:\\users\\rebek\\anaconda3\\lib\\site-packages (from aiohttp!=4.0.0a0,!=4.0.0a1->fsspec[http]>=2022.5.0->pytorch-lightning) (6.0.2)\n",
      "Requirement already satisfied: async-timeout<5.0,>=4.0.0a3 in c:\\users\\rebek\\anaconda3\\lib\\site-packages (from aiohttp!=4.0.0a0,!=4.0.0a1->fsspec[http]>=2022.5.0->pytorch-lightning) (4.0.2)\n",
      "Requirement already satisfied: yarl<2.0,>=1.0 in c:\\users\\rebek\\anaconda3\\lib\\site-packages (from aiohttp!=4.0.0a0,!=4.0.0a1->fsspec[http]>=2022.5.0->pytorch-lightning) (1.8.1)\n",
      "Requirement already satisfied: frozenlist>=1.1.1 in c:\\users\\rebek\\anaconda3\\lib\\site-packages (from aiohttp!=4.0.0a0,!=4.0.0a1->fsspec[http]>=2022.5.0->pytorch-lightning) (1.3.3)\n",
      "Requirement already satisfied: aiosignal>=1.1.2 in c:\\users\\rebek\\anaconda3\\lib\\site-packages (from aiohttp!=4.0.0a0,!=4.0.0a1->fsspec[http]>=2022.5.0->pytorch-lightning) (1.2.0)\n",
      "Requirement already satisfied: idna>=2.0 in c:\\users\\rebek\\anaconda3\\lib\\site-packages (from yarl<2.0,>=1.0->aiohttp!=4.0.0a0,!=4.0.0a1->fsspec[http]>=2022.5.0->pytorch-lightning) (3.4)\n",
      "Requirement already satisfied: setuptools in c:\\users\\rebek\\anaconda3\\lib\\site-packages (from lightning-utilities>=0.10.0->pytorch-lightning) (68.0.0)\n",
      "Requirement already satisfied: python-dateutil>=2.8.2 in c:\\users\\rebek\\anaconda3\\lib\\site-packages (from pandas>=1.3.5->neuralforecast) (2.8.2)\n",
      "Requirement already satisfied: pytz>=2020.1 in c:\\users\\rebek\\anaconda3\\lib\\site-packages (from pandas>=1.3.5->neuralforecast) (2023.3.post1)\n",
      "Requirement already satisfied: tzdata>=2022.7 in c:\\users\\rebek\\anaconda3\\lib\\site-packages (from pandas>=1.3.5->neuralforecast) (2023.3)\n",
      "Requirement already satisfied: six>=1.5 in c:\\users\\rebek\\anaconda3\\lib\\site-packages (from python-dateutil>=2.8.2->pandas>=1.3.5->neuralforecast) (1.16.0)\n",
      "Requirement already satisfied: click>=7.0 in c:\\users\\rebek\\anaconda3\\lib\\site-packages (from ray>=2.2.0->ray[tune]>=2.2.0->neuralforecast) (8.0.4)\n",
      "Requirement already satisfied: jsonschema in c:\\users\\rebek\\anaconda3\\lib\\site-packages (from ray>=2.2.0->ray[tune]>=2.2.0->neuralforecast) (4.17.3)\n",
      "Requirement already satisfied: msgpack<2.0.0,>=1.0.0 in c:\\users\\rebek\\anaconda3\\lib\\site-packages (from ray>=2.2.0->ray[tune]>=2.2.0->neuralforecast) (1.0.3)\n",
      "Requirement already satisfied: protobuf!=3.19.5,>=3.15.3 in c:\\users\\rebek\\anaconda3\\lib\\site-packages (from ray>=2.2.0->ray[tune]>=2.2.0->neuralforecast) (4.25.2)\n",
      "Requirement already satisfied: colorama in c:\\users\\rebek\\anaconda3\\lib\\site-packages (from click>=7.0->ray>=2.2.0->ray[tune]>=2.2.0->neuralforecast) (0.4.6)\n",
      "Requirement already satisfied: tensorboardX>=1.9 in c:\\users\\rebek\\anaconda3\\lib\\site-packages (from ray[tune]>=2.2.0->neuralforecast) (2.6.4)\n",
      "Requirement already satisfied: pyarrow>=9.0.0 in c:\\users\\rebek\\anaconda3\\lib\\site-packages (from ray[tune]>=2.2.0->neuralforecast) (11.0.0)\n",
      "Requirement already satisfied: MarkupSafe>=2.0 in c:\\users\\rebek\\anaconda3\\lib\\site-packages (from jinja2->torch<=2.6.0,>=2.0.0->neuralforecast) (2.1.1)\n",
      "Requirement already satisfied: pyrsistent!=0.17.0,!=0.17.1,!=0.17.2,>=0.14.0 in c:\\users\\rebek\\anaconda3\\lib\\site-packages (from jsonschema->ray>=2.2.0->ray[tune]>=2.2.0->neuralforecast) (0.18.0)\n",
      "Requirement already satisfied: alembic>=1.5.0 in c:\\users\\rebek\\anaconda3\\lib\\site-packages (from optuna->neuralforecast) (1.16.4)\n",
      "Requirement already satisfied: colorlog in c:\\users\\rebek\\anaconda3\\lib\\site-packages (from optuna->neuralforecast) (6.9.0)\n",
      "Requirement already satisfied: sqlalchemy>=1.4.2 in c:\\users\\rebek\\anaconda3\\lib\\site-packages (from optuna->neuralforecast) (1.4.39)\n",
      "Requirement already satisfied: Mako in c:\\users\\rebek\\anaconda3\\lib\\site-packages (from alembic>=1.5.0->optuna->neuralforecast) (1.3.10)\n",
      "Requirement already satisfied: greenlet!=0.4.17 in c:\\users\\rebek\\anaconda3\\lib\\site-packages (from sqlalchemy>=1.4.2->optuna->neuralforecast) (2.0.1)\n",
      "Requirement already satisfied: urllib3<3,>=1.21.1 in c:\\users\\rebek\\anaconda3\\lib\\site-packages (from requests->fsspec[http]>=2022.5.0->pytorch-lightning) (1.26.16)\n",
      "Requirement already satisfied: certifi>=2017.4.17 in c:\\users\\rebek\\anaconda3\\lib\\site-packages (from requests->fsspec[http]>=2022.5.0->pytorch-lightning) (2024.2.2)\n",
      "Requirement already satisfied: neuralforecast in c:\\users\\rebek\\anaconda3\\lib\\site-packages (3.0.2)\n",
      "Requirement already satisfied: transformers in c:\\users\\rebek\\anaconda3\\lib\\site-packages (4.32.1)\n",
      "Requirement already satisfied: coreforecast>=0.0.6 in c:\\users\\rebek\\anaconda3\\lib\\site-packages (from neuralforecast) (0.0.16)\n",
      "Requirement already satisfied: fsspec in c:\\users\\rebek\\anaconda3\\lib\\site-packages (from neuralforecast) (2023.4.0)\n",
      "Requirement already satisfied: numpy>=1.21.6 in c:\\users\\rebek\\anaconda3\\lib\\site-packages (from neuralforecast) (1.26.4)\n",
      "Requirement already satisfied: pandas>=1.3.5 in c:\\users\\rebek\\anaconda3\\lib\\site-packages (from neuralforecast) (2.2.1)\n",
      "Requirement already satisfied: torch<=2.6.0,>=2.0.0 in c:\\users\\rebek\\anaconda3\\lib\\site-packages (from neuralforecast) (2.5.1+cu121)\n",
      "Requirement already satisfied: pytorch-lightning>=2.0.0 in c:\\users\\rebek\\anaconda3\\lib\\site-packages (from neuralforecast) (2.5.2)\n",
      "Requirement already satisfied: ray>=2.2.0 in c:\\users\\rebek\\anaconda3\\lib\\site-packages (from ray[tune]>=2.2.0->neuralforecast) (2.48.0)\n",
      "Requirement already satisfied: optuna in c:\\users\\rebek\\anaconda3\\lib\\site-packages (from neuralforecast) (4.4.0)\n",
      "Requirement already satisfied: utilsforecast>=0.2.3 in c:\\users\\rebek\\anaconda3\\lib\\site-packages (from neuralforecast) (0.2.12)\n",
      "Requirement already satisfied: filelock in c:\\users\\rebek\\anaconda3\\lib\\site-packages (from torch<=2.6.0,>=2.0.0->neuralforecast) (3.9.0)\n",
      "Requirement already satisfied: typing-extensions>=4.8.0 in c:\\users\\rebek\\anaconda3\\lib\\site-packages (from torch<=2.6.0,>=2.0.0->neuralforecast) (4.14.1)\n",
      "Requirement already satisfied: networkx in c:\\users\\rebek\\anaconda3\\lib\\site-packages (from torch<=2.6.0,>=2.0.0->neuralforecast) (3.1)\n",
      "Requirement already satisfied: jinja2 in c:\\users\\rebek\\anaconda3\\lib\\site-packages (from torch<=2.6.0,>=2.0.0->neuralforecast) (3.1.2)\n",
      "Requirement already satisfied: sympy==1.13.1 in c:\\users\\rebek\\anaconda3\\lib\\site-packages (from torch<=2.6.0,>=2.0.0->neuralforecast) (1.13.1)\n",
      "Requirement already satisfied: mpmath<1.4,>=1.1.0 in c:\\users\\rebek\\anaconda3\\lib\\site-packages (from sympy==1.13.1->torch<=2.6.0,>=2.0.0->neuralforecast) (1.3.0)\n",
      "Requirement already satisfied: huggingface-hub<1.0,>=0.15.1 in c:\\users\\rebek\\anaconda3\\lib\\site-packages (from transformers) (0.15.1)\n",
      "Requirement already satisfied: packaging>=20.0 in c:\\users\\rebek\\anaconda3\\lib\\site-packages (from transformers) (23.1)\n",
      "Requirement already satisfied: pyyaml>=5.1 in c:\\users\\rebek\\anaconda3\\lib\\site-packages (from transformers) (6.0)\n",
      "Requirement already satisfied: regex!=2019.12.17 in c:\\users\\rebek\\anaconda3\\lib\\site-packages (from transformers) (2022.7.9)\n",
      "Requirement already satisfied: requests in c:\\users\\rebek\\anaconda3\\lib\\site-packages (from transformers) (2.31.0)\n",
      "Requirement already satisfied: tokenizers!=0.11.3,<0.14,>=0.11.1 in c:\\users\\rebek\\anaconda3\\lib\\site-packages (from transformers) (0.13.2)\n",
      "Requirement already satisfied: safetensors>=0.3.1 in c:\\users\\rebek\\anaconda3\\lib\\site-packages (from transformers) (0.3.2)\n",
      "Requirement already satisfied: tqdm>=4.27 in c:\\users\\rebek\\anaconda3\\lib\\site-packages (from transformers) (4.65.0)\n",
      "Requirement already satisfied: python-dateutil>=2.8.2 in c:\\users\\rebek\\anaconda3\\lib\\site-packages (from pandas>=1.3.5->neuralforecast) (2.8.2)\n",
      "Requirement already satisfied: pytz>=2020.1 in c:\\users\\rebek\\anaconda3\\lib\\site-packages (from pandas>=1.3.5->neuralforecast) (2023.3.post1)\n",
      "Requirement already satisfied: tzdata>=2022.7 in c:\\users\\rebek\\anaconda3\\lib\\site-packages (from pandas>=1.3.5->neuralforecast) (2023.3)\n",
      "Requirement already satisfied: six>=1.5 in c:\\users\\rebek\\anaconda3\\lib\\site-packages (from python-dateutil>=2.8.2->pandas>=1.3.5->neuralforecast) (1.16.0)\n",
      "Requirement already satisfied: torchmetrics>=0.7.0 in c:\\users\\rebek\\anaconda3\\lib\\site-packages (from pytorch-lightning>=2.0.0->neuralforecast) (1.8.0)\n",
      "Requirement already satisfied: lightning-utilities>=0.10.0 in c:\\users\\rebek\\anaconda3\\lib\\site-packages (from pytorch-lightning>=2.0.0->neuralforecast) (0.15.0)\n",
      "Requirement already satisfied: aiohttp!=4.0.0a0,!=4.0.0a1 in c:\\users\\rebek\\anaconda3\\lib\\site-packages (from fsspec[http]>=2022.5.0->pytorch-lightning>=2.0.0->neuralforecast) (3.8.5)\n",
      "Requirement already satisfied: attrs>=17.3.0 in c:\\users\\rebek\\anaconda3\\lib\\site-packages (from aiohttp!=4.0.0a0,!=4.0.0a1->fsspec[http]>=2022.5.0->pytorch-lightning>=2.0.0->neuralforecast) (22.1.0)\n",
      "Requirement already satisfied: charset-normalizer<4.0,>=2.0 in c:\\users\\rebek\\anaconda3\\lib\\site-packages (from aiohttp!=4.0.0a0,!=4.0.0a1->fsspec[http]>=2022.5.0->pytorch-lightning>=2.0.0->neuralforecast) (2.0.4)\n",
      "Requirement already satisfied: multidict<7.0,>=4.5 in c:\\users\\rebek\\anaconda3\\lib\\site-packages (from aiohttp!=4.0.0a0,!=4.0.0a1->fsspec[http]>=2022.5.0->pytorch-lightning>=2.0.0->neuralforecast) (6.0.2)\n",
      "Requirement already satisfied: async-timeout<5.0,>=4.0.0a3 in c:\\users\\rebek\\anaconda3\\lib\\site-packages (from aiohttp!=4.0.0a0,!=4.0.0a1->fsspec[http]>=2022.5.0->pytorch-lightning>=2.0.0->neuralforecast) (4.0.2)\n",
      "Requirement already satisfied: yarl<2.0,>=1.0 in c:\\users\\rebek\\anaconda3\\lib\\site-packages (from aiohttp!=4.0.0a0,!=4.0.0a1->fsspec[http]>=2022.5.0->pytorch-lightning>=2.0.0->neuralforecast) (1.8.1)\n",
      "Requirement already satisfied: frozenlist>=1.1.1 in c:\\users\\rebek\\anaconda3\\lib\\site-packages (from aiohttp!=4.0.0a0,!=4.0.0a1->fsspec[http]>=2022.5.0->pytorch-lightning>=2.0.0->neuralforecast) (1.3.3)\n",
      "Requirement already satisfied: aiosignal>=1.1.2 in c:\\users\\rebek\\anaconda3\\lib\\site-packages (from aiohttp!=4.0.0a0,!=4.0.0a1->fsspec[http]>=2022.5.0->pytorch-lightning>=2.0.0->neuralforecast) (1.2.0)\n",
      "Requirement already satisfied: idna>=2.0 in c:\\users\\rebek\\anaconda3\\lib\\site-packages (from yarl<2.0,>=1.0->aiohttp!=4.0.0a0,!=4.0.0a1->fsspec[http]>=2022.5.0->pytorch-lightning>=2.0.0->neuralforecast) (3.4)\n",
      "Requirement already satisfied: setuptools in c:\\users\\rebek\\anaconda3\\lib\\site-packages (from lightning-utilities>=0.10.0->pytorch-lightning>=2.0.0->neuralforecast) (68.0.0)\n",
      "Requirement already satisfied: click>=7.0 in c:\\users\\rebek\\anaconda3\\lib\\site-packages (from ray>=2.2.0->ray[tune]>=2.2.0->neuralforecast) (8.0.4)\n",
      "Requirement already satisfied: jsonschema in c:\\users\\rebek\\anaconda3\\lib\\site-packages (from ray>=2.2.0->ray[tune]>=2.2.0->neuralforecast) (4.17.3)\n",
      "Requirement already satisfied: msgpack<2.0.0,>=1.0.0 in c:\\users\\rebek\\anaconda3\\lib\\site-packages (from ray>=2.2.0->ray[tune]>=2.2.0->neuralforecast) (1.0.3)\n",
      "Requirement already satisfied: protobuf!=3.19.5,>=3.15.3 in c:\\users\\rebek\\anaconda3\\lib\\site-packages (from ray>=2.2.0->ray[tune]>=2.2.0->neuralforecast) (4.25.2)\n",
      "Requirement already satisfied: colorama in c:\\users\\rebek\\anaconda3\\lib\\site-packages (from click>=7.0->ray>=2.2.0->ray[tune]>=2.2.0->neuralforecast) (0.4.6)\n",
      "Requirement already satisfied: tensorboardX>=1.9 in c:\\users\\rebek\\anaconda3\\lib\\site-packages (from ray[tune]>=2.2.0->neuralforecast) (2.6.4)\n",
      "Requirement already satisfied: pyarrow>=9.0.0 in c:\\users\\rebek\\anaconda3\\lib\\site-packages (from ray[tune]>=2.2.0->neuralforecast) (11.0.0)\n",
      "Requirement already satisfied: MarkupSafe>=2.0 in c:\\users\\rebek\\anaconda3\\lib\\site-packages (from jinja2->torch<=2.6.0,>=2.0.0->neuralforecast) (2.1.1)\n",
      "Requirement already satisfied: pyrsistent!=0.17.0,!=0.17.1,!=0.17.2,>=0.14.0 in c:\\users\\rebek\\anaconda3\\lib\\site-packages (from jsonschema->ray>=2.2.0->ray[tune]>=2.2.0->neuralforecast) (0.18.0)\n",
      "Requirement already satisfied: alembic>=1.5.0 in c:\\users\\rebek\\anaconda3\\lib\\site-packages (from optuna->neuralforecast) (1.16.4)\n",
      "Requirement already satisfied: colorlog in c:\\users\\rebek\\anaconda3\\lib\\site-packages (from optuna->neuralforecast) (6.9.0)\n",
      "Requirement already satisfied: sqlalchemy>=1.4.2 in c:\\users\\rebek\\anaconda3\\lib\\site-packages (from optuna->neuralforecast) (1.4.39)\n",
      "Requirement already satisfied: Mako in c:\\users\\rebek\\anaconda3\\lib\\site-packages (from alembic>=1.5.0->optuna->neuralforecast) (1.3.10)\n",
      "Requirement already satisfied: greenlet!=0.4.17 in c:\\users\\rebek\\anaconda3\\lib\\site-packages (from sqlalchemy>=1.4.2->optuna->neuralforecast) (2.0.1)\n",
      "Requirement already satisfied: urllib3<3,>=1.21.1 in c:\\users\\rebek\\anaconda3\\lib\\site-packages (from requests->transformers) (1.26.16)\n",
      "Requirement already satisfied: certifi>=2017.4.17 in c:\\users\\rebek\\anaconda3\\lib\\site-packages (from requests->transformers) (2024.2.2)\n"
     ]
    },
    {
     "name": "stderr",
     "output_type": "stream",
     "text": [
      "WARNING: neuralforecast 3.0.2 does not provide the extra 'timesnet'\n"
     ]
    },
    {
     "name": "stdout",
     "output_type": "stream",
     "text": [
      "Requirement already satisfied: neuralforecast in c:\\users\\rebek\\anaconda3\\lib\\site-packages (3.0.2)\n",
      "Requirement already satisfied: pandas in c:\\users\\rebek\\anaconda3\\lib\\site-packages (2.2.1)\n",
      "Requirement already satisfied: scikit-learn in c:\\users\\rebek\\anaconda3\\lib\\site-packages (1.7.1)\n",
      "Requirement already satisfied: coreforecast>=0.0.6 in c:\\users\\rebek\\anaconda3\\lib\\site-packages (from neuralforecast) (0.0.16)\n",
      "Requirement already satisfied: fsspec in c:\\users\\rebek\\anaconda3\\lib\\site-packages (from neuralforecast) (2023.4.0)\n",
      "Requirement already satisfied: numpy>=1.21.6 in c:\\users\\rebek\\anaconda3\\lib\\site-packages (from neuralforecast) (1.26.4)\n",
      "Requirement already satisfied: torch<=2.6.0,>=2.0.0 in c:\\users\\rebek\\anaconda3\\lib\\site-packages (from neuralforecast) (2.5.1+cu121)\n",
      "Requirement already satisfied: pytorch-lightning>=2.0.0 in c:\\users\\rebek\\anaconda3\\lib\\site-packages (from neuralforecast) (2.5.2)\n",
      "Requirement already satisfied: ray>=2.2.0 in c:\\users\\rebek\\anaconda3\\lib\\site-packages (from ray[tune]>=2.2.0->neuralforecast) (2.48.0)\n",
      "Requirement already satisfied: optuna in c:\\users\\rebek\\anaconda3\\lib\\site-packages (from neuralforecast) (4.4.0)\n",
      "Requirement already satisfied: utilsforecast>=0.2.3 in c:\\users\\rebek\\anaconda3\\lib\\site-packages (from neuralforecast) (0.2.12)\n",
      "Requirement already satisfied: filelock in c:\\users\\rebek\\anaconda3\\lib\\site-packages (from torch<=2.6.0,>=2.0.0->neuralforecast) (3.9.0)\n",
      "Requirement already satisfied: typing-extensions>=4.8.0 in c:\\users\\rebek\\anaconda3\\lib\\site-packages (from torch<=2.6.0,>=2.0.0->neuralforecast) (4.14.1)\n",
      "Requirement already satisfied: networkx in c:\\users\\rebek\\anaconda3\\lib\\site-packages (from torch<=2.6.0,>=2.0.0->neuralforecast) (3.1)\n",
      "Requirement already satisfied: jinja2 in c:\\users\\rebek\\anaconda3\\lib\\site-packages (from torch<=2.6.0,>=2.0.0->neuralforecast) (3.1.2)\n",
      "Requirement already satisfied: sympy==1.13.1 in c:\\users\\rebek\\anaconda3\\lib\\site-packages (from torch<=2.6.0,>=2.0.0->neuralforecast) (1.13.1)\n",
      "Requirement already satisfied: mpmath<1.4,>=1.1.0 in c:\\users\\rebek\\anaconda3\\lib\\site-packages (from sympy==1.13.1->torch<=2.6.0,>=2.0.0->neuralforecast) (1.3.0)\n",
      "Requirement already satisfied: python-dateutil>=2.8.2 in c:\\users\\rebek\\anaconda3\\lib\\site-packages (from pandas) (2.8.2)\n",
      "Requirement already satisfied: pytz>=2020.1 in c:\\users\\rebek\\anaconda3\\lib\\site-packages (from pandas) (2023.3.post1)\n",
      "Requirement already satisfied: tzdata>=2022.7 in c:\\users\\rebek\\anaconda3\\lib\\site-packages (from pandas) (2023.3)\n",
      "Requirement already satisfied: scipy>=1.8.0 in c:\\users\\rebek\\anaconda3\\lib\\site-packages (from scikit-learn) (1.11.1)\n",
      "Requirement already satisfied: joblib>=1.2.0 in c:\\users\\rebek\\anaconda3\\lib\\site-packages (from scikit-learn) (1.2.0)\n",
      "Requirement already satisfied: threadpoolctl>=3.1.0 in c:\\users\\rebek\\anaconda3\\lib\\site-packages (from scikit-learn) (3.6.0)\n",
      "Requirement already satisfied: six>=1.5 in c:\\users\\rebek\\anaconda3\\lib\\site-packages (from python-dateutil>=2.8.2->pandas) (1.16.0)\n",
      "Requirement already satisfied: tqdm>=4.57.0 in c:\\users\\rebek\\anaconda3\\lib\\site-packages (from pytorch-lightning>=2.0.0->neuralforecast) (4.65.0)\n",
      "Requirement already satisfied: PyYAML>=5.4 in c:\\users\\rebek\\anaconda3\\lib\\site-packages (from pytorch-lightning>=2.0.0->neuralforecast) (6.0)\n",
      "Requirement already satisfied: torchmetrics>=0.7.0 in c:\\users\\rebek\\anaconda3\\lib\\site-packages (from pytorch-lightning>=2.0.0->neuralforecast) (1.8.0)\n",
      "Requirement already satisfied: packaging>=20.0 in c:\\users\\rebek\\anaconda3\\lib\\site-packages (from pytorch-lightning>=2.0.0->neuralforecast) (23.1)\n",
      "Requirement already satisfied: lightning-utilities>=0.10.0 in c:\\users\\rebek\\anaconda3\\lib\\site-packages (from pytorch-lightning>=2.0.0->neuralforecast) (0.15.0)\n",
      "Requirement already satisfied: requests in c:\\users\\rebek\\anaconda3\\lib\\site-packages (from fsspec[http]>=2022.5.0->pytorch-lightning>=2.0.0->neuralforecast) (2.31.0)\n",
      "Requirement already satisfied: aiohttp!=4.0.0a0,!=4.0.0a1 in c:\\users\\rebek\\anaconda3\\lib\\site-packages (from fsspec[http]>=2022.5.0->pytorch-lightning>=2.0.0->neuralforecast) (3.8.5)\n",
      "Requirement already satisfied: attrs>=17.3.0 in c:\\users\\rebek\\anaconda3\\lib\\site-packages (from aiohttp!=4.0.0a0,!=4.0.0a1->fsspec[http]>=2022.5.0->pytorch-lightning>=2.0.0->neuralforecast) (22.1.0)\n",
      "Requirement already satisfied: charset-normalizer<4.0,>=2.0 in c:\\users\\rebek\\anaconda3\\lib\\site-packages (from aiohttp!=4.0.0a0,!=4.0.0a1->fsspec[http]>=2022.5.0->pytorch-lightning>=2.0.0->neuralforecast) (2.0.4)\n",
      "Requirement already satisfied: multidict<7.0,>=4.5 in c:\\users\\rebek\\anaconda3\\lib\\site-packages (from aiohttp!=4.0.0a0,!=4.0.0a1->fsspec[http]>=2022.5.0->pytorch-lightning>=2.0.0->neuralforecast) (6.0.2)\n",
      "Requirement already satisfied: async-timeout<5.0,>=4.0.0a3 in c:\\users\\rebek\\anaconda3\\lib\\site-packages (from aiohttp!=4.0.0a0,!=4.0.0a1->fsspec[http]>=2022.5.0->pytorch-lightning>=2.0.0->neuralforecast) (4.0.2)\n",
      "Requirement already satisfied: yarl<2.0,>=1.0 in c:\\users\\rebek\\anaconda3\\lib\\site-packages (from aiohttp!=4.0.0a0,!=4.0.0a1->fsspec[http]>=2022.5.0->pytorch-lightning>=2.0.0->neuralforecast) (1.8.1)\n",
      "Requirement already satisfied: frozenlist>=1.1.1 in c:\\users\\rebek\\anaconda3\\lib\\site-packages (from aiohttp!=4.0.0a0,!=4.0.0a1->fsspec[http]>=2022.5.0->pytorch-lightning>=2.0.0->neuralforecast) (1.3.3)\n",
      "Requirement already satisfied: aiosignal>=1.1.2 in c:\\users\\rebek\\anaconda3\\lib\\site-packages (from aiohttp!=4.0.0a0,!=4.0.0a1->fsspec[http]>=2022.5.0->pytorch-lightning>=2.0.0->neuralforecast) (1.2.0)\n",
      "Requirement already satisfied: idna>=2.0 in c:\\users\\rebek\\anaconda3\\lib\\site-packages (from yarl<2.0,>=1.0->aiohttp!=4.0.0a0,!=4.0.0a1->fsspec[http]>=2022.5.0->pytorch-lightning>=2.0.0->neuralforecast) (3.4)\n",
      "Requirement already satisfied: setuptools in c:\\users\\rebek\\anaconda3\\lib\\site-packages (from lightning-utilities>=0.10.0->pytorch-lightning>=2.0.0->neuralforecast) (68.0.0)\n",
      "Requirement already satisfied: click>=7.0 in c:\\users\\rebek\\anaconda3\\lib\\site-packages (from ray>=2.2.0->ray[tune]>=2.2.0->neuralforecast) (8.0.4)\n",
      "Requirement already satisfied: jsonschema in c:\\users\\rebek\\anaconda3\\lib\\site-packages (from ray>=2.2.0->ray[tune]>=2.2.0->neuralforecast) (4.17.3)\n",
      "Requirement already satisfied: msgpack<2.0.0,>=1.0.0 in c:\\users\\rebek\\anaconda3\\lib\\site-packages (from ray>=2.2.0->ray[tune]>=2.2.0->neuralforecast) (1.0.3)\n",
      "Requirement already satisfied: protobuf!=3.19.5,>=3.15.3 in c:\\users\\rebek\\anaconda3\\lib\\site-packages (from ray>=2.2.0->ray[tune]>=2.2.0->neuralforecast) (4.25.2)\n",
      "Requirement already satisfied: colorama in c:\\users\\rebek\\anaconda3\\lib\\site-packages (from click>=7.0->ray>=2.2.0->ray[tune]>=2.2.0->neuralforecast) (0.4.6)\n",
      "Requirement already satisfied: tensorboardX>=1.9 in c:\\users\\rebek\\anaconda3\\lib\\site-packages (from ray[tune]>=2.2.0->neuralforecast) (2.6.4)\n",
      "Requirement already satisfied: pyarrow>=9.0.0 in c:\\users\\rebek\\anaconda3\\lib\\site-packages (from ray[tune]>=2.2.0->neuralforecast) (11.0.0)\n",
      "Requirement already satisfied: MarkupSafe>=2.0 in c:\\users\\rebek\\anaconda3\\lib\\site-packages (from jinja2->torch<=2.6.0,>=2.0.0->neuralforecast) (2.1.1)\n",
      "Requirement already satisfied: pyrsistent!=0.17.0,!=0.17.1,!=0.17.2,>=0.14.0 in c:\\users\\rebek\\anaconda3\\lib\\site-packages (from jsonschema->ray>=2.2.0->ray[tune]>=2.2.0->neuralforecast) (0.18.0)\n",
      "Requirement already satisfied: alembic>=1.5.0 in c:\\users\\rebek\\anaconda3\\lib\\site-packages (from optuna->neuralforecast) (1.16.4)\n",
      "Requirement already satisfied: colorlog in c:\\users\\rebek\\anaconda3\\lib\\site-packages (from optuna->neuralforecast) (6.9.0)\n",
      "Requirement already satisfied: sqlalchemy>=1.4.2 in c:\\users\\rebek\\anaconda3\\lib\\site-packages (from optuna->neuralforecast) (1.4.39)\n",
      "Requirement already satisfied: Mako in c:\\users\\rebek\\anaconda3\\lib\\site-packages (from alembic>=1.5.0->optuna->neuralforecast) (1.3.10)\n",
      "Requirement already satisfied: greenlet!=0.4.17 in c:\\users\\rebek\\anaconda3\\lib\\site-packages (from sqlalchemy>=1.4.2->optuna->neuralforecast) (2.0.1)\n",
      "Requirement already satisfied: urllib3<3,>=1.21.1 in c:\\users\\rebek\\anaconda3\\lib\\site-packages (from requests->fsspec[http]>=2022.5.0->pytorch-lightning>=2.0.0->neuralforecast) (1.26.16)\n",
      "Requirement already satisfied: certifi>=2017.4.17 in c:\\users\\rebek\\anaconda3\\lib\\site-packages (from requests->fsspec[http]>=2022.5.0->pytorch-lightning>=2.0.0->neuralforecast) (2024.2.2)\n"
     ]
    }
   ],
   "source": [
    "!pip install --upgrade neuralforecast\n",
    "!pip install neuralforecast pytorch-lightning\n",
    "!pip install neuralforecast neuralforecast[timesnet] transformers\n",
    "!pip install neuralforecast pandas scikit-learn\n"
   ]
  },
  {
   "cell_type": "markdown",
   "id": "fc56d0ae",
   "metadata": {},
   "source": [
    "2. Import Libraries"
   ]
  },
  {
   "cell_type": "code",
   "execution_count": 1,
   "id": "624deb4c",
   "metadata": {},
   "outputs": [
    {
     "name": "stderr",
     "output_type": "stream",
     "text": [
      "c:\\Users\\rebek\\anaconda3\\Lib\\site-packages\\pandas\\core\\arrays\\masked.py:60: UserWarning: Pandas requires version '1.3.6' or newer of 'bottleneck' (version '1.3.5' currently installed).\n",
      "  from pandas.core import (\n"
     ]
    }
   ],
   "source": [
    "\n",
    "import os\n",
    "import pandas as pd\n",
    "import numpy as np\n",
    "import torch\n",
    "from sklearn.metrics import mean_absolute_error, mean_squared_error\n",
    "\n",
    "# NeuralForecast imports\n",
    "from neuralforecast import NeuralForecast\n",
    "from neuralforecast.models import TimesNet, Informer\n",
    "from neuralforecast.losses.pytorch import MAE"
   ]
  },
  {
   "cell_type": "markdown",
   "id": "2cbb8b10",
   "metadata": {},
   "source": [
    "3. Use TimesNet and Informer model "
   ]
  },
  {
   "cell_type": "code",
   "execution_count": null,
   "id": "12199b08",
   "metadata": {},
   "outputs": [
    {
     "name": "stderr",
     "output_type": "stream",
     "text": [
      "C:\\Users\\rebek\\AppData\\Local\\Temp\\ipykernel_50540\\3370867793.py:15: FutureWarning: 'T' is deprecated and will be removed in a future version, please use 'min' instead.\n",
      "  .resample('2T') \\\n",
      "C:\\Users\\rebek\\AppData\\Local\\Temp\\ipykernel_50540\\3370867793.py:21: FutureWarning: 'T' is deprecated and will be removed in a future version, please use 'min' instead.\n",
      "  .resample('2T') \\\n",
      "Seed set to 1\n",
      "Seed set to 1\n",
      "c:\\Users\\rebek\\anaconda3\\Lib\\site-packages\\neuralforecast\\common\\_base_model.py:537: UserWarning: val_check_steps is greater than max_steps, setting val_check_steps to max_steps.\n",
      "  warnings.warn(\n",
      "GPU available: True (cuda), used: True\n",
      "TPU available: False, using: 0 TPU cores\n",
      "HPU available: False, using: 0 HPUs\n",
      "You are using a CUDA device ('NVIDIA GeForce RTX 4070 Laptop GPU') that has Tensor Cores. To properly utilize them, you should set `torch.set_float32_matmul_precision('medium' | 'high')` which will trade-off precision for performance. For more details, read https://pytorch.org/docs/stable/generated/torch.set_float32_matmul_precision.html#torch.set_float32_matmul_precision\n"
     ]
    },
    {
     "name": "stdout",
     "output_type": "stream",
     "text": [
      "\n",
      "=== Training models for target: rnti_count ===\n"
     ]
    },
    {
     "name": "stderr",
     "output_type": "stream",
     "text": [
      "LOCAL_RANK: 0 - CUDA_VISIBLE_DEVICES: [0]\n",
      "\n",
      "  | Name           | Type          | Params | Mode \n",
      "---------------------------------------------------------\n",
      "0 | loss           | MAE           | 0      | train\n",
      "1 | padder_train   | ConstantPad1d | 0      | train\n",
      "2 | scaler         | TemporalNorm  | 0      | train\n",
      "3 | model          | ModuleList    | 4.7 M  | train\n",
      "4 | enc_embedding  | DataEmbedding | 192    | train\n",
      "5 | layer_norm     | LayerNorm     | 128    | train\n",
      "6 | predict_linear | Linear        | 234    | train\n",
      "7 | projection     | Linear        | 65     | train\n",
      "---------------------------------------------------------\n",
      "4.7 M     Trainable params\n",
      "0         Non-trainable params\n",
      "4.7 M     Total params\n",
      "18.752    Total estimated model params size (MB)\n",
      "50        Modules in train mode\n",
      "0         Modules in eval mode\n"
     ]
    },
    {
     "data": {
      "application/vnd.jupyter.widget-view+json": {
       "model_id": "9345e0a713e8401799c697440fd24363",
       "version_major": 2,
       "version_minor": 0
      },
      "text/plain": [
       "Sanity Checking: |          | 0/? [00:00<?, ?it/s]"
      ]
     },
     "metadata": {},
     "output_type": "display_data"
    },
    {
     "data": {
      "application/vnd.jupyter.widget-view+json": {
       "model_id": "f27ecb1e244f4b0e8d80b4718197d42d",
       "version_major": 2,
       "version_minor": 0
      },
      "text/plain": [
       "Training: |          | 0/? [00:00<?, ?it/s]"
      ]
     },
     "metadata": {},
     "output_type": "display_data"
    },
    {
     "data": {
      "application/vnd.jupyter.widget-view+json": {
       "model_id": "bb82b556489d44deb5d55c10f255ff93",
       "version_major": 2,
       "version_minor": 0
      },
      "text/plain": [
       "Validation: |          | 0/? [00:00<?, ?it/s]"
      ]
     },
     "metadata": {},
     "output_type": "display_data"
    },
    {
     "name": "stderr",
     "output_type": "stream",
     "text": [
      "`Trainer.fit` stopped: `max_steps=5` reached.\n",
      "c:\\Users\\rebek\\anaconda3\\Lib\\site-packages\\neuralforecast\\common\\_base_model.py:537: UserWarning: val_check_steps is greater than max_steps, setting val_check_steps to max_steps.\n",
      "  warnings.warn(\n",
      "GPU available: True (cuda), used: True\n",
      "TPU available: False, using: 0 TPU cores\n",
      "HPU available: False, using: 0 HPUs\n",
      "LOCAL_RANK: 0 - CUDA_VISIBLE_DEVICES: [0]\n",
      "\n",
      "  | Name          | Type          | Params | Mode \n",
      "--------------------------------------------------------\n",
      "0 | loss          | MAE           | 0      | train\n",
      "1 | padder_train  | ConstantPad1d | 0      | train\n",
      "2 | scaler        | TemporalNorm  | 0      | train\n",
      "3 | enc_embedding | DataEmbedding | 192    | train\n",
      "4 | dec_embedding | DataEmbedding | 192    | train\n",
      "5 | encoder       | TransEncoder  | 21.2 K | train\n",
      "6 | decoder       | TransDecoder  | 38.0 K | train\n",
      "--------------------------------------------------------\n",
      "59.6 K    Trainable params\n",
      "0         Non-trainable params\n",
      "59.6 K    Total params\n",
      "0.239     Total estimated model params size (MB)\n",
      "55        Modules in train mode\n",
      "0         Modules in eval mode\n"
     ]
    },
    {
     "data": {
      "application/vnd.jupyter.widget-view+json": {
       "model_id": "c2c3219678cd4393b4ac14a3a2afdeea",
       "version_major": 2,
       "version_minor": 0
      },
      "text/plain": [
       "Sanity Checking: |          | 0/? [00:00<?, ?it/s]"
      ]
     },
     "metadata": {},
     "output_type": "display_data"
    },
    {
     "data": {
      "application/vnd.jupyter.widget-view+json": {
       "model_id": "63b41469af9c4677b271a7673261652c",
       "version_major": 2,
       "version_minor": 0
      },
      "text/plain": [
       "Training: |          | 0/? [00:00<?, ?it/s]"
      ]
     },
     "metadata": {},
     "output_type": "display_data"
    },
    {
     "data": {
      "application/vnd.jupyter.widget-view+json": {
       "model_id": "7ee656f207ae4b5880b73740e192b4b8",
       "version_major": 2,
       "version_minor": 0
      },
      "text/plain": [
       "Validation: |          | 0/? [00:00<?, ?it/s]"
      ]
     },
     "metadata": {},
     "output_type": "display_data"
    },
    {
     "name": "stderr",
     "output_type": "stream",
     "text": [
      "`Trainer.fit` stopped: `max_steps=5` reached.\n",
      "c:\\Users\\rebek\\anaconda3\\Lib\\site-packages\\utilsforecast\\processing.py:384: FutureWarning: 'T' is deprecated and will be removed in a future version, please use 'min' instead.\n",
      "  freq = pd.tseries.frequencies.to_offset(freq)\n",
      "c:\\Users\\rebek\\anaconda3\\Lib\\site-packages\\utilsforecast\\processing.py:440: FutureWarning: 'T' is deprecated and will be removed in a future version, please use 'min' instead.\n",
      "  freq = pd.tseries.frequencies.to_offset(freq)\n",
      "GPU available: True (cuda), used: True\n",
      "TPU available: False, using: 0 TPU cores\n",
      "HPU available: False, using: 0 HPUs\n",
      "LOCAL_RANK: 0 - CUDA_VISIBLE_DEVICES: [0]\n"
     ]
    },
    {
     "data": {
      "application/vnd.jupyter.widget-view+json": {
       "model_id": "3eea7ce4cb42417bbfc2ea5cdd7d95f3",
       "version_major": 2,
       "version_minor": 0
      },
      "text/plain": [
       "Predicting: |          | 0/? [00:00<?, ?it/s]"
      ]
     },
     "metadata": {},
     "output_type": "display_data"
    },
    {
     "name": "stderr",
     "output_type": "stream",
     "text": [
      "GPU available: True (cuda), used: True\n",
      "TPU available: False, using: 0 TPU cores\n",
      "HPU available: False, using: 0 HPUs\n",
      "LOCAL_RANK: 0 - CUDA_VISIBLE_DEVICES: [0]\n"
     ]
    },
    {
     "data": {
      "application/vnd.jupyter.widget-view+json": {
       "model_id": "9b1d482cfa544d489f97797afe553c33",
       "version_major": 2,
       "version_minor": 0
      },
      "text/plain": [
       "Predicting: |          | 0/? [00:00<?, ?it/s]"
      ]
     },
     "metadata": {},
     "output_type": "display_data"
    },
    {
     "name": "stderr",
     "output_type": "stream",
     "text": [
      "Seed set to 1\n",
      "Seed set to 1\n",
      "c:\\Users\\rebek\\anaconda3\\Lib\\site-packages\\neuralforecast\\common\\_base_model.py:537: UserWarning: val_check_steps is greater than max_steps, setting val_check_steps to max_steps.\n",
      "  warnings.warn(\n",
      "GPU available: True (cuda), used: True\n",
      "TPU available: False, using: 0 TPU cores\n",
      "HPU available: False, using: 0 HPUs\n",
      "LOCAL_RANK: 0 - CUDA_VISIBLE_DEVICES: [0]\n",
      "\n",
      "  | Name           | Type          | Params | Mode \n",
      "---------------------------------------------------------\n",
      "0 | loss           | MAE           | 0      | train\n",
      "1 | padder_train   | ConstantPad1d | 0      | train\n",
      "2 | scaler         | TemporalNorm  | 0      | train\n",
      "3 | model          | ModuleList    | 4.7 M  | train\n",
      "4 | enc_embedding  | DataEmbedding | 192    | train\n",
      "5 | layer_norm     | LayerNorm     | 128    | train\n",
      "6 | predict_linear | Linear        | 234    | train\n",
      "7 | projection     | Linear        | 65     | train\n",
      "---------------------------------------------------------\n",
      "4.7 M     Trainable params\n",
      "0         Non-trainable params\n",
      "4.7 M     Total params\n",
      "18.752    Total estimated model params size (MB)\n",
      "50        Modules in train mode\n",
      "0         Modules in eval mode\n"
     ]
    },
    {
     "name": "stdout",
     "output_type": "stream",
     "text": [
      "rnti_count - TimesNet: MAE=0.20, RMSE=0.21\n",
      "rnti_count - Informer: MAE=5737.73, RMSE=5737.73\n",
      "\n",
      "=== Training models for target: rb_down ===\n"
     ]
    },
    {
     "data": {
      "application/vnd.jupyter.widget-view+json": {
       "model_id": "d81f729024564338a531e4c7b5250d39",
       "version_major": 2,
       "version_minor": 0
      },
      "text/plain": [
       "Sanity Checking: |          | 0/? [00:00<?, ?it/s]"
      ]
     },
     "metadata": {},
     "output_type": "display_data"
    },
    {
     "data": {
      "application/vnd.jupyter.widget-view+json": {
       "model_id": "8c48a3361b6e4148939977ba5cf57d77",
       "version_major": 2,
       "version_minor": 0
      },
      "text/plain": [
       "Training: |          | 0/? [00:00<?, ?it/s]"
      ]
     },
     "metadata": {},
     "output_type": "display_data"
    },
    {
     "data": {
      "application/vnd.jupyter.widget-view+json": {
       "model_id": "058da408865147148944fa5cbd43e930",
       "version_major": 2,
       "version_minor": 0
      },
      "text/plain": [
       "Validation: |          | 0/? [00:00<?, ?it/s]"
      ]
     },
     "metadata": {},
     "output_type": "display_data"
    },
    {
     "name": "stderr",
     "output_type": "stream",
     "text": [
      "`Trainer.fit` stopped: `max_steps=5` reached.\n",
      "GPU available: True (cuda), used: True\n",
      "TPU available: False, using: 0 TPU cores\n",
      "HPU available: False, using: 0 HPUs\n",
      "LOCAL_RANK: 0 - CUDA_VISIBLE_DEVICES: [0]\n",
      "\n",
      "  | Name          | Type          | Params | Mode \n",
      "--------------------------------------------------------\n",
      "0 | loss          | MAE           | 0      | train\n",
      "1 | padder_train  | ConstantPad1d | 0      | train\n",
      "2 | scaler        | TemporalNorm  | 0      | train\n",
      "3 | enc_embedding | DataEmbedding | 192    | train\n",
      "4 | dec_embedding | DataEmbedding | 192    | train\n",
      "5 | encoder       | TransEncoder  | 21.2 K | train\n",
      "6 | decoder       | TransDecoder  | 38.0 K | train\n",
      "--------------------------------------------------------\n",
      "59.6 K    Trainable params\n",
      "0         Non-trainable params\n",
      "59.6 K    Total params\n",
      "0.239     Total estimated model params size (MB)\n",
      "55        Modules in train mode\n",
      "0         Modules in eval mode\n"
     ]
    },
    {
     "data": {
      "application/vnd.jupyter.widget-view+json": {
       "model_id": "c321a682cbf24f008789ecaad3d27d40",
       "version_major": 2,
       "version_minor": 0
      },
      "text/plain": [
       "Sanity Checking: |          | 0/? [00:00<?, ?it/s]"
      ]
     },
     "metadata": {},
     "output_type": "display_data"
    },
    {
     "data": {
      "application/vnd.jupyter.widget-view+json": {
       "model_id": "31f7ff85b0b44a6bb8b421004380599d",
       "version_major": 2,
       "version_minor": 0
      },
      "text/plain": [
       "Training: |          | 0/? [00:00<?, ?it/s]"
      ]
     },
     "metadata": {},
     "output_type": "display_data"
    },
    {
     "data": {
      "application/vnd.jupyter.widget-view+json": {
       "model_id": "ba16760e4a7046bea23cac3b72b572b0",
       "version_major": 2,
       "version_minor": 0
      },
      "text/plain": [
       "Validation: |          | 0/? [00:00<?, ?it/s]"
      ]
     },
     "metadata": {},
     "output_type": "display_data"
    },
    {
     "name": "stderr",
     "output_type": "stream",
     "text": [
      "`Trainer.fit` stopped: `max_steps=5` reached.\n",
      "c:\\Users\\rebek\\anaconda3\\Lib\\site-packages\\utilsforecast\\processing.py:384: FutureWarning: 'T' is deprecated and will be removed in a future version, please use 'min' instead.\n",
      "  freq = pd.tseries.frequencies.to_offset(freq)\n",
      "c:\\Users\\rebek\\anaconda3\\Lib\\site-packages\\utilsforecast\\processing.py:440: FutureWarning: 'T' is deprecated and will be removed in a future version, please use 'min' instead.\n",
      "  freq = pd.tseries.frequencies.to_offset(freq)\n",
      "GPU available: True (cuda), used: True\n",
      "TPU available: False, using: 0 TPU cores\n",
      "HPU available: False, using: 0 HPUs\n",
      "LOCAL_RANK: 0 - CUDA_VISIBLE_DEVICES: [0]\n"
     ]
    },
    {
     "data": {
      "application/vnd.jupyter.widget-view+json": {
       "model_id": "ee1a0330351443b19942f31344a22f0a",
       "version_major": 2,
       "version_minor": 0
      },
      "text/plain": [
       "Predicting: |          | 0/? [00:00<?, ?it/s]"
      ]
     },
     "metadata": {},
     "output_type": "display_data"
    },
    {
     "name": "stderr",
     "output_type": "stream",
     "text": [
      "GPU available: True (cuda), used: True\n",
      "TPU available: False, using: 0 TPU cores\n",
      "HPU available: False, using: 0 HPUs\n",
      "LOCAL_RANK: 0 - CUDA_VISIBLE_DEVICES: [0]\n"
     ]
    },
    {
     "data": {
      "application/vnd.jupyter.widget-view+json": {
       "model_id": "fec0edd29fba4270aa098383de592d72",
       "version_major": 2,
       "version_minor": 0
      },
      "text/plain": [
       "Predicting: |          | 0/? [00:00<?, ?it/s]"
      ]
     },
     "metadata": {},
     "output_type": "display_data"
    },
    {
     "name": "stderr",
     "output_type": "stream",
     "text": [
      "Seed set to 1\n",
      "Seed set to 1\n",
      "c:\\Users\\rebek\\anaconda3\\Lib\\site-packages\\neuralforecast\\common\\_base_model.py:537: UserWarning: val_check_steps is greater than max_steps, setting val_check_steps to max_steps.\n",
      "  warnings.warn(\n",
      "GPU available: True (cuda), used: True\n",
      "TPU available: False, using: 0 TPU cores\n",
      "HPU available: False, using: 0 HPUs\n",
      "LOCAL_RANK: 0 - CUDA_VISIBLE_DEVICES: [0]\n",
      "\n",
      "  | Name           | Type          | Params | Mode \n",
      "---------------------------------------------------------\n",
      "0 | loss           | MAE           | 0      | train\n",
      "1 | padder_train   | ConstantPad1d | 0      | train\n",
      "2 | scaler         | TemporalNorm  | 0      | train\n",
      "3 | model          | ModuleList    | 4.7 M  | train\n",
      "4 | enc_embedding  | DataEmbedding | 192    | train\n",
      "5 | layer_norm     | LayerNorm     | 128    | train\n",
      "6 | predict_linear | Linear        | 234    | train\n",
      "7 | projection     | Linear        | 65     | train\n",
      "---------------------------------------------------------\n",
      "4.7 M     Trainable params\n",
      "0         Non-trainable params\n",
      "4.7 M     Total params\n",
      "18.752    Total estimated model params size (MB)\n",
      "50        Modules in train mode\n",
      "0         Modules in eval mode\n"
     ]
    },
    {
     "name": "stdout",
     "output_type": "stream",
     "text": [
      "rb_down - TimesNet: MAE=0.00, RMSE=0.00\n",
      "rb_down - Informer: MAE=0.29, RMSE=0.33\n",
      "\n",
      "=== Training models for target: rb_up ===\n"
     ]
    },
    {
     "data": {
      "application/vnd.jupyter.widget-view+json": {
       "model_id": "2eaac475f91141a382fbf132f573ff68",
       "version_major": 2,
       "version_minor": 0
      },
      "text/plain": [
       "Sanity Checking: |          | 0/? [00:00<?, ?it/s]"
      ]
     },
     "metadata": {},
     "output_type": "display_data"
    },
    {
     "data": {
      "application/vnd.jupyter.widget-view+json": {
       "model_id": "dd0ab7afbb42452fa8e465427c35b561",
       "version_major": 2,
       "version_minor": 0
      },
      "text/plain": [
       "Training: |          | 0/? [00:00<?, ?it/s]"
      ]
     },
     "metadata": {},
     "output_type": "display_data"
    },
    {
     "data": {
      "application/vnd.jupyter.widget-view+json": {
       "model_id": "cd70d77fcbfe43aba965a86a6fe4c449",
       "version_major": 2,
       "version_minor": 0
      },
      "text/plain": [
       "Validation: |          | 0/? [00:00<?, ?it/s]"
      ]
     },
     "metadata": {},
     "output_type": "display_data"
    },
    {
     "name": "stderr",
     "output_type": "stream",
     "text": [
      "`Trainer.fit` stopped: `max_steps=5` reached.\n",
      "GPU available: True (cuda), used: True\n",
      "TPU available: False, using: 0 TPU cores\n",
      "HPU available: False, using: 0 HPUs\n",
      "LOCAL_RANK: 0 - CUDA_VISIBLE_DEVICES: [0]\n",
      "\n",
      "  | Name          | Type          | Params | Mode \n",
      "--------------------------------------------------------\n",
      "0 | loss          | MAE           | 0      | train\n",
      "1 | padder_train  | ConstantPad1d | 0      | train\n",
      "2 | scaler        | TemporalNorm  | 0      | train\n",
      "3 | enc_embedding | DataEmbedding | 192    | train\n",
      "4 | dec_embedding | DataEmbedding | 192    | train\n",
      "5 | encoder       | TransEncoder  | 21.2 K | train\n",
      "6 | decoder       | TransDecoder  | 38.0 K | train\n",
      "--------------------------------------------------------\n",
      "59.6 K    Trainable params\n",
      "0         Non-trainable params\n",
      "59.6 K    Total params\n",
      "0.239     Total estimated model params size (MB)\n",
      "55        Modules in train mode\n",
      "0         Modules in eval mode\n"
     ]
    },
    {
     "data": {
      "application/vnd.jupyter.widget-view+json": {
       "model_id": "12a89d286ddc465cb4eb90e8bc3214fc",
       "version_major": 2,
       "version_minor": 0
      },
      "text/plain": [
       "Sanity Checking: |          | 0/? [00:00<?, ?it/s]"
      ]
     },
     "metadata": {},
     "output_type": "display_data"
    },
    {
     "data": {
      "application/vnd.jupyter.widget-view+json": {
       "model_id": "1b6d8018f0f349beab917b0536f42afb",
       "version_major": 2,
       "version_minor": 0
      },
      "text/plain": [
       "Training: |          | 0/? [00:00<?, ?it/s]"
      ]
     },
     "metadata": {},
     "output_type": "display_data"
    },
    {
     "data": {
      "application/vnd.jupyter.widget-view+json": {
       "model_id": "6a8732c722774b978d9984a79dd97d94",
       "version_major": 2,
       "version_minor": 0
      },
      "text/plain": [
       "Validation: |          | 0/? [00:00<?, ?it/s]"
      ]
     },
     "metadata": {},
     "output_type": "display_data"
    },
    {
     "name": "stderr",
     "output_type": "stream",
     "text": [
      "`Trainer.fit` stopped: `max_steps=5` reached.\n",
      "c:\\Users\\rebek\\anaconda3\\Lib\\site-packages\\utilsforecast\\processing.py:384: FutureWarning: 'T' is deprecated and will be removed in a future version, please use 'min' instead.\n",
      "  freq = pd.tseries.frequencies.to_offset(freq)\n",
      "c:\\Users\\rebek\\anaconda3\\Lib\\site-packages\\utilsforecast\\processing.py:440: FutureWarning: 'T' is deprecated and will be removed in a future version, please use 'min' instead.\n",
      "  freq = pd.tseries.frequencies.to_offset(freq)\n",
      "GPU available: True (cuda), used: True\n",
      "TPU available: False, using: 0 TPU cores\n",
      "HPU available: False, using: 0 HPUs\n",
      "LOCAL_RANK: 0 - CUDA_VISIBLE_DEVICES: [0]\n"
     ]
    },
    {
     "data": {
      "application/vnd.jupyter.widget-view+json": {
       "model_id": "359ad6ae741748af874249cb576809df",
       "version_major": 2,
       "version_minor": 0
      },
      "text/plain": [
       "Predicting: |          | 0/? [00:00<?, ?it/s]"
      ]
     },
     "metadata": {},
     "output_type": "display_data"
    },
    {
     "name": "stderr",
     "output_type": "stream",
     "text": [
      "GPU available: True (cuda), used: True\n",
      "TPU available: False, using: 0 TPU cores\n",
      "HPU available: False, using: 0 HPUs\n",
      "LOCAL_RANK: 0 - CUDA_VISIBLE_DEVICES: [0]\n"
     ]
    },
    {
     "data": {
      "application/vnd.jupyter.widget-view+json": {
       "model_id": "57627e2107ef4c7faa328ce68c8e23fc",
       "version_major": 2,
       "version_minor": 0
      },
      "text/plain": [
       "Predicting: |          | 0/? [00:00<?, ?it/s]"
      ]
     },
     "metadata": {},
     "output_type": "display_data"
    },
    {
     "name": "stderr",
     "output_type": "stream",
     "text": [
      "Seed set to 1\n",
      "Seed set to 1\n",
      "c:\\Users\\rebek\\anaconda3\\Lib\\site-packages\\neuralforecast\\common\\_base_model.py:537: UserWarning: val_check_steps is greater than max_steps, setting val_check_steps to max_steps.\n",
      "  warnings.warn(\n",
      "GPU available: True (cuda), used: True\n",
      "TPU available: False, using: 0 TPU cores\n",
      "HPU available: False, using: 0 HPUs\n",
      "LOCAL_RANK: 0 - CUDA_VISIBLE_DEVICES: [0]\n",
      "\n",
      "  | Name           | Type          | Params | Mode \n",
      "---------------------------------------------------------\n",
      "0 | loss           | MAE           | 0      | train\n",
      "1 | padder_train   | ConstantPad1d | 0      | train\n",
      "2 | scaler         | TemporalNorm  | 0      | train\n",
      "3 | model          | ModuleList    | 4.7 M  | train\n",
      "4 | enc_embedding  | DataEmbedding | 192    | train\n",
      "5 | layer_norm     | LayerNorm     | 128    | train\n",
      "6 | predict_linear | Linear        | 234    | train\n",
      "7 | projection     | Linear        | 65     | train\n",
      "---------------------------------------------------------\n",
      "4.7 M     Trainable params\n",
      "0         Non-trainable params\n",
      "4.7 M     Total params\n",
      "18.752    Total estimated model params size (MB)\n",
      "50        Modules in train mode\n",
      "0         Modules in eval mode\n"
     ]
    },
    {
     "name": "stdout",
     "output_type": "stream",
     "text": [
      "rb_up - TimesNet: MAE=0.00, RMSE=0.00\n",
      "rb_up - Informer: MAE=0.29, RMSE=0.33\n",
      "\n",
      "=== Training models for target: down ===\n"
     ]
    },
    {
     "data": {
      "application/vnd.jupyter.widget-view+json": {
       "model_id": "8ae62ac82eb54a6ea503e13425716de8",
       "version_major": 2,
       "version_minor": 0
      },
      "text/plain": [
       "Sanity Checking: |          | 0/? [00:00<?, ?it/s]"
      ]
     },
     "metadata": {},
     "output_type": "display_data"
    },
    {
     "data": {
      "application/vnd.jupyter.widget-view+json": {
       "model_id": "5087b67461d24f51869dcb29445e8765",
       "version_major": 2,
       "version_minor": 0
      },
      "text/plain": [
       "Training: |          | 0/? [00:00<?, ?it/s]"
      ]
     },
     "metadata": {},
     "output_type": "display_data"
    },
    {
     "data": {
      "application/vnd.jupyter.widget-view+json": {
       "model_id": "f48ce841fbc940acb364777b79eb7803",
       "version_major": 2,
       "version_minor": 0
      },
      "text/plain": [
       "Validation: |          | 0/? [00:00<?, ?it/s]"
      ]
     },
     "metadata": {},
     "output_type": "display_data"
    },
    {
     "name": "stderr",
     "output_type": "stream",
     "text": [
      "`Trainer.fit` stopped: `max_steps=5` reached.\n",
      "GPU available: True (cuda), used: True\n",
      "TPU available: False, using: 0 TPU cores\n",
      "HPU available: False, using: 0 HPUs\n",
      "LOCAL_RANK: 0 - CUDA_VISIBLE_DEVICES: [0]\n",
      "\n",
      "  | Name          | Type          | Params | Mode \n",
      "--------------------------------------------------------\n",
      "0 | loss          | MAE           | 0      | train\n",
      "1 | padder_train  | ConstantPad1d | 0      | train\n",
      "2 | scaler        | TemporalNorm  | 0      | train\n",
      "3 | enc_embedding | DataEmbedding | 192    | train\n",
      "4 | dec_embedding | DataEmbedding | 192    | train\n",
      "5 | encoder       | TransEncoder  | 21.2 K | train\n",
      "6 | decoder       | TransDecoder  | 38.0 K | train\n",
      "--------------------------------------------------------\n",
      "59.6 K    Trainable params\n",
      "0         Non-trainable params\n",
      "59.6 K    Total params\n",
      "0.239     Total estimated model params size (MB)\n",
      "55        Modules in train mode\n",
      "0         Modules in eval mode\n"
     ]
    },
    {
     "data": {
      "application/vnd.jupyter.widget-view+json": {
       "model_id": "b239a27e17a94706bd765e189af1276f",
       "version_major": 2,
       "version_minor": 0
      },
      "text/plain": [
       "Sanity Checking: |          | 0/? [00:00<?, ?it/s]"
      ]
     },
     "metadata": {},
     "output_type": "display_data"
    },
    {
     "data": {
      "application/vnd.jupyter.widget-view+json": {
       "model_id": "a817efe94e4f464a8c53cba8ec982695",
       "version_major": 2,
       "version_minor": 0
      },
      "text/plain": [
       "Training: |          | 0/? [00:00<?, ?it/s]"
      ]
     },
     "metadata": {},
     "output_type": "display_data"
    },
    {
     "data": {
      "application/vnd.jupyter.widget-view+json": {
       "model_id": "c3271153eb0143f887450c8787b2f7a4",
       "version_major": 2,
       "version_minor": 0
      },
      "text/plain": [
       "Validation: |          | 0/? [00:00<?, ?it/s]"
      ]
     },
     "metadata": {},
     "output_type": "display_data"
    },
    {
     "name": "stderr",
     "output_type": "stream",
     "text": [
      "`Trainer.fit` stopped: `max_steps=5` reached.\n",
      "c:\\Users\\rebek\\anaconda3\\Lib\\site-packages\\utilsforecast\\processing.py:384: FutureWarning: 'T' is deprecated and will be removed in a future version, please use 'min' instead.\n",
      "  freq = pd.tseries.frequencies.to_offset(freq)\n",
      "c:\\Users\\rebek\\anaconda3\\Lib\\site-packages\\utilsforecast\\processing.py:440: FutureWarning: 'T' is deprecated and will be removed in a future version, please use 'min' instead.\n",
      "  freq = pd.tseries.frequencies.to_offset(freq)\n",
      "GPU available: True (cuda), used: True\n",
      "TPU available: False, using: 0 TPU cores\n",
      "HPU available: False, using: 0 HPUs\n",
      "LOCAL_RANK: 0 - CUDA_VISIBLE_DEVICES: [0]\n"
     ]
    },
    {
     "data": {
      "application/vnd.jupyter.widget-view+json": {
       "model_id": "b5b440b99af94c3a839c2d4a51bb90cc",
       "version_major": 2,
       "version_minor": 0
      },
      "text/plain": [
       "Predicting: |          | 0/? [00:00<?, ?it/s]"
      ]
     },
     "metadata": {},
     "output_type": "display_data"
    },
    {
     "name": "stderr",
     "output_type": "stream",
     "text": [
      "GPU available: True (cuda), used: True\n",
      "TPU available: False, using: 0 TPU cores\n",
      "HPU available: False, using: 0 HPUs\n",
      "LOCAL_RANK: 0 - CUDA_VISIBLE_DEVICES: [0]\n"
     ]
    },
    {
     "data": {
      "application/vnd.jupyter.widget-view+json": {
       "model_id": "2deb832108f04f52897138b38887d927",
       "version_major": 2,
       "version_minor": 0
      },
      "text/plain": [
       "Predicting: |          | 0/? [00:00<?, ?it/s]"
      ]
     },
     "metadata": {},
     "output_type": "display_data"
    },
    {
     "name": "stderr",
     "output_type": "stream",
     "text": [
      "Seed set to 1\n",
      "Seed set to 1\n",
      "c:\\Users\\rebek\\anaconda3\\Lib\\site-packages\\neuralforecast\\common\\_base_model.py:537: UserWarning: val_check_steps is greater than max_steps, setting val_check_steps to max_steps.\n",
      "  warnings.warn(\n",
      "GPU available: True (cuda), used: True\n",
      "TPU available: False, using: 0 TPU cores\n",
      "HPU available: False, using: 0 HPUs\n",
      "LOCAL_RANK: 0 - CUDA_VISIBLE_DEVICES: [0]\n",
      "\n",
      "  | Name           | Type          | Params | Mode \n",
      "---------------------------------------------------------\n",
      "0 | loss           | MAE           | 0      | train\n",
      "1 | padder_train   | ConstantPad1d | 0      | train\n",
      "2 | scaler         | TemporalNorm  | 0      | train\n",
      "3 | model          | ModuleList    | 4.7 M  | train\n",
      "4 | enc_embedding  | DataEmbedding | 192    | train\n",
      "5 | layer_norm     | LayerNorm     | 128    | train\n",
      "6 | predict_linear | Linear        | 234    | train\n",
      "7 | projection     | Linear        | 65     | train\n",
      "---------------------------------------------------------\n",
      "4.7 M     Trainable params\n",
      "0         Non-trainable params\n",
      "4.7 M     Total params\n",
      "18.752    Total estimated model params size (MB)\n",
      "50        Modules in train mode\n",
      "0         Modules in eval mode\n"
     ]
    },
    {
     "name": "stdout",
     "output_type": "stream",
     "text": [
      "down - TimesNet: MAE=4616.25, RMSE=4771.36\n",
      "down - Informer: MAE=67017541.07, RMSE=67017541.08\n",
      "\n",
      "=== Training models for target: up ===\n"
     ]
    },
    {
     "data": {
      "application/vnd.jupyter.widget-view+json": {
       "model_id": "26c3697dc81d4421a07a654d7315a08b",
       "version_major": 2,
       "version_minor": 0
      },
      "text/plain": [
       "Sanity Checking: |          | 0/? [00:00<?, ?it/s]"
      ]
     },
     "metadata": {},
     "output_type": "display_data"
    },
    {
     "data": {
      "application/vnd.jupyter.widget-view+json": {
       "model_id": "a68c7cad2d3842cbac6c9b6fc643012b",
       "version_major": 2,
       "version_minor": 0
      },
      "text/plain": [
       "Training: |          | 0/? [00:00<?, ?it/s]"
      ]
     },
     "metadata": {},
     "output_type": "display_data"
    },
    {
     "data": {
      "application/vnd.jupyter.widget-view+json": {
       "model_id": "ea458415885445ef97861e30a04bef51",
       "version_major": 2,
       "version_minor": 0
      },
      "text/plain": [
       "Validation: |          | 0/? [00:00<?, ?it/s]"
      ]
     },
     "metadata": {},
     "output_type": "display_data"
    },
    {
     "name": "stderr",
     "output_type": "stream",
     "text": [
      "`Trainer.fit` stopped: `max_steps=5` reached.\n",
      "GPU available: True (cuda), used: True\n",
      "TPU available: False, using: 0 TPU cores\n",
      "HPU available: False, using: 0 HPUs\n",
      "LOCAL_RANK: 0 - CUDA_VISIBLE_DEVICES: [0]\n",
      "\n",
      "  | Name          | Type          | Params | Mode \n",
      "--------------------------------------------------------\n",
      "0 | loss          | MAE           | 0      | train\n",
      "1 | padder_train  | ConstantPad1d | 0      | train\n",
      "2 | scaler        | TemporalNorm  | 0      | train\n",
      "3 | enc_embedding | DataEmbedding | 192    | train\n",
      "4 | dec_embedding | DataEmbedding | 192    | train\n",
      "5 | encoder       | TransEncoder  | 21.2 K | train\n",
      "6 | decoder       | TransDecoder  | 38.0 K | train\n",
      "--------------------------------------------------------\n",
      "59.6 K    Trainable params\n",
      "0         Non-trainable params\n",
      "59.6 K    Total params\n",
      "0.239     Total estimated model params size (MB)\n",
      "55        Modules in train mode\n",
      "0         Modules in eval mode\n"
     ]
    },
    {
     "data": {
      "application/vnd.jupyter.widget-view+json": {
       "model_id": "0647a1a5b39f406ebd4fec8f69f858f9",
       "version_major": 2,
       "version_minor": 0
      },
      "text/plain": [
       "Sanity Checking: |          | 0/? [00:00<?, ?it/s]"
      ]
     },
     "metadata": {},
     "output_type": "display_data"
    },
    {
     "data": {
      "application/vnd.jupyter.widget-view+json": {
       "model_id": "005e3b2554d04a14a43a40023ada671f",
       "version_major": 2,
       "version_minor": 0
      },
      "text/plain": [
       "Training: |          | 0/? [00:00<?, ?it/s]"
      ]
     },
     "metadata": {},
     "output_type": "display_data"
    },
    {
     "data": {
      "application/vnd.jupyter.widget-view+json": {
       "model_id": "3342d5f929d54a3b9428cb84b0ff2121",
       "version_major": 2,
       "version_minor": 0
      },
      "text/plain": [
       "Validation: |          | 0/? [00:00<?, ?it/s]"
      ]
     },
     "metadata": {},
     "output_type": "display_data"
    },
    {
     "name": "stderr",
     "output_type": "stream",
     "text": [
      "`Trainer.fit` stopped: `max_steps=5` reached.\n",
      "c:\\Users\\rebek\\anaconda3\\Lib\\site-packages\\utilsforecast\\processing.py:384: FutureWarning: 'T' is deprecated and will be removed in a future version, please use 'min' instead.\n",
      "  freq = pd.tseries.frequencies.to_offset(freq)\n",
      "c:\\Users\\rebek\\anaconda3\\Lib\\site-packages\\utilsforecast\\processing.py:440: FutureWarning: 'T' is deprecated and will be removed in a future version, please use 'min' instead.\n",
      "  freq = pd.tseries.frequencies.to_offset(freq)\n",
      "GPU available: True (cuda), used: True\n",
      "TPU available: False, using: 0 TPU cores\n",
      "HPU available: False, using: 0 HPUs\n",
      "LOCAL_RANK: 0 - CUDA_VISIBLE_DEVICES: [0]\n"
     ]
    },
    {
     "data": {
      "application/vnd.jupyter.widget-view+json": {
       "model_id": "bcf7a462b8884a41bfaa8a4d6fdcc532",
       "version_major": 2,
       "version_minor": 0
      },
      "text/plain": [
       "Predicting: |          | 0/? [00:00<?, ?it/s]"
      ]
     },
     "metadata": {},
     "output_type": "display_data"
    },
    {
     "name": "stderr",
     "output_type": "stream",
     "text": [
      "GPU available: True (cuda), used: True\n",
      "TPU available: False, using: 0 TPU cores\n",
      "HPU available: False, using: 0 HPUs\n",
      "LOCAL_RANK: 0 - CUDA_VISIBLE_DEVICES: [0]\n"
     ]
    },
    {
     "data": {
      "application/vnd.jupyter.widget-view+json": {
       "model_id": "3b9feab4ddb64e74a35f7ac8be740e63",
       "version_major": 2,
       "version_minor": 0
      },
      "text/plain": [
       "Predicting: |          | 0/? [00:00<?, ?it/s]"
      ]
     },
     "metadata": {},
     "output_type": "display_data"
    },
    {
     "name": "stdout",
     "output_type": "stream",
     "text": [
      "up - TimesNet: MAE=612.60, RMSE=668.41\n",
      "up - Informer: MAE=15136743.60, RMSE=15136743.60\n",
      "\n",
      "=== Final Results Across All Targets ===\n",
      "       Target  TimesNet_MAE  TimesNet_RMSE  Informer_MAE  Informer_RMSE\n",
      "0  rnti_count  2.017256e-01   2.086089e-01  5.737732e+03   5.737732e+03\n",
      "1     rb_down  1.607511e-07   1.790084e-07  2.880206e-01   3.331137e-01\n",
      "2       rb_up  1.969040e-07   2.533938e-07  2.879445e-01   3.325104e-01\n",
      "3        down  4.616250e+03   4.771360e+03  6.701754e+07   6.701754e+07\n",
      "4          up  6.126050e+02   6.684116e+02  1.513674e+07   1.513674e+07\n"
     ]
    }
   ],
   "source": [
    "\n",
    "# ==== GPU SETTINGS ====\n",
    "accelerator = 'gpu' if torch.cuda.is_available() else 'cpu'\n",
    "devices = 1\n",
    "\n",
    "# ==== LOAD DATA ====\n",
    "df = pd.read_csv('../dataset/combined_with_cluster_feature.csv')\n",
    "df['time'] = pd.to_datetime(df['time'])\n",
    "\n",
    "# Separate numeric & non-numeric columns\n",
    "numeric_cols = df.select_dtypes(include=[np.number]).columns\n",
    "non_numeric_cols = df.select_dtypes(exclude=[np.number]).columns.drop('time', errors='ignore')\n",
    "\n",
    "# ==== RESAMPLE ====\n",
    "df_num = df.set_index('time')[numeric_cols] \\\n",
    "           .resample('2T') \\\n",
    "           .mean() \\\n",
    "           .interpolate(method='linear') \\\n",
    "           .ffill().bfill()\n",
    "\n",
    "df_nonnum = df.set_index('time')[non_numeric_cols] \\\n",
    "              .resample('2T') \\\n",
    "              .ffill()\n",
    "\n",
    "# Merge back and reset index\n",
    "df = pd.concat([df_num, df_nonnum], axis=1).reset_index()\n",
    "\n",
    "# ==== TARGETS ====\n",
    "targets = ['rnti_count', 'rb_down', 'rb_up', 'down', 'up']\n",
    "results = []\n",
    "\n",
    "# ==== TRAIN & EVALUATE ====\n",
    "for target in targets:\n",
    "    print(f\"\\n=== Training models for target: {target} ===\")\n",
    "\n",
    "    # Format for NeuralForecast\n",
    "    df_nf = pd.DataFrame({\n",
    "        'unique_id': 'bs1',\n",
    "        'ds': df['time'],\n",
    "        'y': df[target]\n",
    "    })\n",
    "\n",
    "    # Ensure no NaNs in y\n",
    "    df_nf['y'] = df_nf['y'].interpolate(method='linear').ffill().bfill()\n",
    "\n",
    "    # Train/test split\n",
    "    train_size = int(len(df_nf) * 0.8)\n",
    "    df_train = df_nf.iloc[:train_size]\n",
    "    df_test = df_nf.iloc[train_size:]\n",
    "    #h = len(df_test)\n",
    "    h=10\n",
    "\n",
    "    # Models\n",
    "    model_tn = TimesNet(\n",
    "        h=h, input_size=12, loss=MAE(),\n",
    "        max_steps=5, batch_size=16,\n",
    "        accelerator=accelerator, devices=devices\n",
    "    )\n",
    "\n",
    "    model_if = Informer(\n",
    "        h=h, input_size=12, hidden_size=64, n_head=4, factor=3,\n",
    "        encoder_layers=1, decoder_layers=1, dropout=0.05,\n",
    "        distil=True, loss=MAE(),\n",
    "        max_steps=5, batch_size=16,\n",
    "        accelerator=accelerator, devices=devices\n",
    "    )\n",
    "\n",
    "    # Train\n",
    "    nf = NeuralForecast(models=[model_tn, model_if], freq='2T')\n",
    "    nf.fit(df_train)\n",
    "\n",
    "    # Predict\n",
    "    pred_df = nf.predict()\n",
    "    pred_df['ds'] = pd.to_datetime(pred_df['ds'])\n",
    "\n",
    "    # Merge predictions with test set (ensuring alignment)\n",
    "    merged = pd.merge(df_test, pred_df, on=['unique_id', 'ds'], how='inner')\n",
    "\n",
    "    if merged.empty:\n",
    "        print(f\"No overlap for {target} — check freq or timestamp alignment.\")\n",
    "        continue\n",
    "\n",
    "    # Evaluation\n",
    "    mae_tn = mean_absolute_error(merged['y'], merged['TimesNet'])\n",
    "    rmse_tn = np.sqrt(mean_squared_error(merged['y'], merged['TimesNet']))\n",
    "\n",
    "    mae_if = mean_absolute_error(merged['y'], merged['Informer'])\n",
    "    rmse_if = np.sqrt(mean_squared_error(merged['y'], merged['Informer']))\n",
    "\n",
    "    results.append({\n",
    "        'Target': target,\n",
    "        'TimesNet_MAE': mae_tn,\n",
    "        'TimesNet_RMSE': rmse_tn,\n",
    "        'Informer_MAE': mae_if,\n",
    "        'Informer_RMSE': rmse_if\n",
    "    })\n",
    "\n",
    "    print(f\"{target} - TimesNet: MAE={mae_tn:.2f}, RMSE={rmse_tn:.2f}\")\n",
    "    print(f\"{target} - Informer: MAE={mae_if:.2f}, RMSE={rmse_if:.2f}\")\n",
    "\n",
    "# ==== RESULTS TABLE ====\n",
    "results_df = pd.DataFrame(results)\n",
    "print(\"\\n=== Final Results Across All Targets ===\")\n",
    "print(results_df)\n"
   ]
  },
  {
   "cell_type": "markdown",
   "id": "6bdba908",
   "metadata": {},
   "source": [
    "Visualization"
   ]
  },
  {
   "cell_type": "code",
   "execution_count": 4,
   "id": "04da6a85",
   "metadata": {},
   "outputs": [
    {
     "data": {
      "image/png": "[encoded data removed]",
      "text/plain": [
       "<Figure size 1400x500 with 1 Axes>"
      ]
     },
     "metadata": {},
     "output_type": "display_data"
    },
    {
     "data": {
      "image/png": "[encoded data removed]",
      "text/plain": [
       "<Figure size 1400x500 with 1 Axes>"
      ]
     },
     "metadata": {},
     "output_type": "display_data"
    },
    {
     "data": {
      "image/png": "[encoded data removed]",
      "text/plain": [
       "<Figure size 1400x500 with 1 Axes>"
      ]
     },
     "metadata": {},
     "output_type": "display_data"
    },
    {
     "data": {
      "image/png": "[encoded data removed]",
      "text/plain": [
       "<Figure size 1400x500 with 1 Axes>"
      ]
     },
     "metadata": {},
     "output_type": "display_data"
    },
    {
     "data": {
      "image/png": "[encoded data removed]",
      "text/plain": [
       "<Figure size 1400x500 with 1 Axes>"
      ]
     },
     "metadata": {},
     "output_type": "display_data"
    }
   ],
   "source": [
    "import matplotlib.pyplot as plt\n",
    "\n",
    "# Loop through each target and plot Actual vs Predicted for both models\n",
    "for target in targets:\n",
    "    plt.figure(figsize=(14, 5))\n",
    "\n",
    "    # Filter the merged DataFrame for the current target\n",
    "    merged_target = merged[merged['Target'] == target] if 'Target' in merged.columns else merged\n",
    "\n",
    "    # Plot Actual\n",
    "    plt.plot(merged_target['ds'], merged_target['y'], label='Actual', color='black', linewidth=2)\n",
    "\n",
    "    # Plot TimesNet Predictions\n",
    "    if 'TimesNet' in merged_target.columns:\n",
    "        plt.plot(merged_target['ds'], merged_target['TimesNet'], label='TimesNet Prediction', linestyle='--')\n",
    "\n",
    "    # Plot Informer Predictions\n",
    "    if 'Informer' in merged_target.columns:\n",
    "        plt.plot(merged_target['ds'], merged_target['Informer'], label='Informer Prediction', linestyle=':')\n",
    "\n",
    "    plt.title(f\"Actual vs Predicted - {target}\")\n",
    "    plt.xlabel(\"Time\")\n",
    "    plt.ylabel(target)\n",
    "    plt.legend()\n",
    "    plt.grid(True)\n",
    "    plt.tight_layout()\n",
    "    plt.show()\n"
   ]
  }
 ],
 "metadata": {
  "kernelspec": {
   "display_name": "base",
   "language": "python",
   "name": "python3"
  },
  "language_info": {
   "codemirror_mode": {
    "name": "ipython",
    "version": 3
   },
   "file_extension": ".py",
   "mimetype": "text/x-python",
   "name": "python",
   "nbconvert_exporter": "python",
   "pygments_lexer": "ipython3",
   "version": "3.11.5"
  }
 },
 "nbformat": 4,
 "nbformat_minor": 5
}
