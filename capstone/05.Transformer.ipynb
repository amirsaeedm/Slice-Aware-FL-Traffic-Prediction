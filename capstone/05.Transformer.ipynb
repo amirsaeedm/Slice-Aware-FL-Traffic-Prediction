{
 "cells": [
  {
   "cell_type": "markdown",
   "id": "36c60d02",
   "metadata": {
    "vscode": {
     "languageId": "plaintext"
    }
   },
   "source": [
    "Transformer Forecasting"
   ]
  },
  {
   "cell_type": "markdown",
   "id": "00e02c48",
   "metadata": {},
   "source": [
    "1. Install Dependencies"
   ]
  },
  {
   "cell_type": "code",
   "execution_count": 1,
   "id": "78009d1c",
   "metadata": {},
   "outputs": [
    {
     "name": "stdout",
     "output_type": "stream",
     "text": [
      "Requirement already satisfied: neuralforecast in c:\\users\\rebek\\anaconda3\\lib\\site-packages (3.0.2)\n",
      "Requirement already satisfied: pytorch-lightning in c:\\users\\rebek\\anaconda3\\lib\\site-packages (2.5.2)\n",
      "Requirement already satisfied: coreforecast>=0.0.6 in c:\\users\\rebek\\anaconda3\\lib\\site-packages (from neuralforecast) (0.0.16)\n",
      "Requirement already satisfied: fsspec in c:\\users\\rebek\\anaconda3\\lib\\site-packages (from neuralforecast) (2023.4.0)\n",
      "Requirement already satisfied: numpy>=1.21.6 in c:\\users\\rebek\\anaconda3\\lib\\site-packages (from neuralforecast) (1.26.4)\n",
      "Requirement already satisfied: pandas>=1.3.5 in c:\\users\\rebek\\anaconda3\\lib\\site-packages (from neuralforecast) (2.2.1)\n",
      "Requirement already satisfied: torch<=2.6.0,>=2.0.0 in c:\\users\\rebek\\anaconda3\\lib\\site-packages (from neuralforecast) (2.5.1+cu121)\n",
      "Requirement already satisfied: ray>=2.2.0 in c:\\users\\rebek\\anaconda3\\lib\\site-packages (from ray[tune]>=2.2.0->neuralforecast) (2.48.0)\n",
      "Requirement already satisfied: optuna in c:\\users\\rebek\\anaconda3\\lib\\site-packages (from neuralforecast) (4.4.0)\n",
      "Requirement already satisfied: utilsforecast>=0.2.3 in c:\\users\\rebek\\anaconda3\\lib\\site-packages (from neuralforecast) (0.2.12)\n",
      "Requirement already satisfied: filelock in c:\\users\\rebek\\anaconda3\\lib\\site-packages (from torch<=2.6.0,>=2.0.0->neuralforecast) (3.9.0)\n",
      "Requirement already satisfied: typing-extensions>=4.8.0 in c:\\users\\rebek\\anaconda3\\lib\\site-packages (from torch<=2.6.0,>=2.0.0->neuralforecast) (4.14.1)\n",
      "Requirement already satisfied: networkx in c:\\users\\rebek\\anaconda3\\lib\\site-packages (from torch<=2.6.0,>=2.0.0->neuralforecast) (3.1)\n",
      "Requirement already satisfied: jinja2 in c:\\users\\rebek\\anaconda3\\lib\\site-packages (from torch<=2.6.0,>=2.0.0->neuralforecast) (3.1.2)\n",
      "Requirement already satisfied: sympy==1.13.1 in c:\\users\\rebek\\anaconda3\\lib\\site-packages (from torch<=2.6.0,>=2.0.0->neuralforecast) (1.13.1)\n",
      "Requirement already satisfied: mpmath<1.4,>=1.1.0 in c:\\users\\rebek\\anaconda3\\lib\\site-packages (from sympy==1.13.1->torch<=2.6.0,>=2.0.0->neuralforecast) (1.3.0)\n",
      "Requirement already satisfied: tqdm>=4.57.0 in c:\\users\\rebek\\anaconda3\\lib\\site-packages (from pytorch-lightning) (4.65.0)\n",
      "Requirement already satisfied: PyYAML>=5.4 in c:\\users\\rebek\\anaconda3\\lib\\site-packages (from pytorch-lightning) (6.0)\n",
      "Requirement already satisfied: torchmetrics>=0.7.0 in c:\\users\\rebek\\anaconda3\\lib\\site-packages (from pytorch-lightning) (1.8.0)\n",
      "Requirement already satisfied: packaging>=20.0 in c:\\users\\rebek\\anaconda3\\lib\\site-packages (from pytorch-lightning) (23.1)\n",
      "Requirement already satisfied: lightning-utilities>=0.10.0 in c:\\users\\rebek\\anaconda3\\lib\\site-packages (from pytorch-lightning) (0.15.0)\n",
      "Requirement already satisfied: requests in c:\\users\\rebek\\anaconda3\\lib\\site-packages (from fsspec[http]>=2022.5.0->pytorch-lightning) (2.31.0)\n",
      "Requirement already satisfied: aiohttp!=4.0.0a0,!=4.0.0a1 in c:\\users\\rebek\\anaconda3\\lib\\site-packages (from fsspec[http]>=2022.5.0->pytorch-lightning) (3.8.5)\n",
      "Requirement already satisfied: attrs>=17.3.0 in c:\\users\\rebek\\anaconda3\\lib\\site-packages (from aiohttp!=4.0.0a0,!=4.0.0a1->fsspec[http]>=2022.5.0->pytorch-lightning) (22.1.0)\n",
      "Requirement already satisfied: charset-normalizer<4.0,>=2.0 in c:\\users\\rebek\\anaconda3\\lib\\site-packages (from aiohttp!=4.0.0a0,!=4.0.0a1->fsspec[http]>=2022.5.0->pytorch-lightning) (2.0.4)\n",
      "Requirement already satisfied: multidict<7.0,>=4.5 in c:\\users\\rebek\\anaconda3\\lib\\site-packages (from aiohttp!=4.0.0a0,!=4.0.0a1->fsspec[http]>=2022.5.0->pytorch-lightning) (6.0.2)\n",
      "Requirement already satisfied: async-timeout<5.0,>=4.0.0a3 in c:\\users\\rebek\\anaconda3\\lib\\site-packages (from aiohttp!=4.0.0a0,!=4.0.0a1->fsspec[http]>=2022.5.0->pytorch-lightning) (4.0.2)\n",
      "Requirement already satisfied: yarl<2.0,>=1.0 in c:\\users\\rebek\\anaconda3\\lib\\site-packages (from aiohttp!=4.0.0a0,!=4.0.0a1->fsspec[http]>=2022.5.0->pytorch-lightning) (1.8.1)\n",
      "Requirement already satisfied: frozenlist>=1.1.1 in c:\\users\\rebek\\anaconda3\\lib\\site-packages (from aiohttp!=4.0.0a0,!=4.0.0a1->fsspec[http]>=2022.5.0->pytorch-lightning) (1.3.3)\n",
      "Requirement already satisfied: aiosignal>=1.1.2 in c:\\users\\rebek\\anaconda3\\lib\\site-packages (from aiohttp!=4.0.0a0,!=4.0.0a1->fsspec[http]>=2022.5.0->pytorch-lightning) (1.2.0)\n",
      "Requirement already satisfied: idna>=2.0 in c:\\users\\rebek\\anaconda3\\lib\\site-packages (from yarl<2.0,>=1.0->aiohttp!=4.0.0a0,!=4.0.0a1->fsspec[http]>=2022.5.0->pytorch-lightning) (3.4)\n",
      "Requirement already satisfied: setuptools in c:\\users\\rebek\\anaconda3\\lib\\site-packages (from lightning-utilities>=0.10.0->pytorch-lightning) (68.0.0)\n",
      "Requirement already satisfied: python-dateutil>=2.8.2 in c:\\users\\rebek\\anaconda3\\lib\\site-packages (from pandas>=1.3.5->neuralforecast) (2.8.2)\n",
      "Requirement already satisfied: pytz>=2020.1 in c:\\users\\rebek\\anaconda3\\lib\\site-packages (from pandas>=1.3.5->neuralforecast) (2023.3.post1)\n",
      "Requirement already satisfied: tzdata>=2022.7 in c:\\users\\rebek\\anaconda3\\lib\\site-packages (from pandas>=1.3.5->neuralforecast) (2023.3)\n",
      "Requirement already satisfied: six>=1.5 in c:\\users\\rebek\\anaconda3\\lib\\site-packages (from python-dateutil>=2.8.2->pandas>=1.3.5->neuralforecast) (1.16.0)\n",
      "Requirement already satisfied: click>=7.0 in c:\\users\\rebek\\anaconda3\\lib\\site-packages (from ray>=2.2.0->ray[tune]>=2.2.0->neuralforecast) (8.0.4)\n",
      "Requirement already satisfied: jsonschema in c:\\users\\rebek\\anaconda3\\lib\\site-packages (from ray>=2.2.0->ray[tune]>=2.2.0->neuralforecast) (4.17.3)\n",
      "Requirement already satisfied: msgpack<2.0.0,>=1.0.0 in c:\\users\\rebek\\anaconda3\\lib\\site-packages (from ray>=2.2.0->ray[tune]>=2.2.0->neuralforecast) (1.0.3)\n",
      "Requirement already satisfied: protobuf!=3.19.5,>=3.15.3 in c:\\users\\rebek\\anaconda3\\lib\\site-packages (from ray>=2.2.0->ray[tune]>=2.2.0->neuralforecast) (4.25.2)\n",
      "Requirement already satisfied: colorama in c:\\users\\rebek\\anaconda3\\lib\\site-packages (from click>=7.0->ray>=2.2.0->ray[tune]>=2.2.0->neuralforecast) (0.4.6)\n",
      "Requirement already satisfied: tensorboardX>=1.9 in c:\\users\\rebek\\anaconda3\\lib\\site-packages (from ray[tune]>=2.2.0->neuralforecast) (2.6.4)\n",
      "Requirement already satisfied: pyarrow>=9.0.0 in c:\\users\\rebek\\anaconda3\\lib\\site-packages (from ray[tune]>=2.2.0->neuralforecast) (11.0.0)\n",
      "Requirement already satisfied: MarkupSafe>=2.0 in c:\\users\\rebek\\anaconda3\\lib\\site-packages (from jinja2->torch<=2.6.0,>=2.0.0->neuralforecast) (2.1.1)\n",
      "Requirement already satisfied: pyrsistent!=0.17.0,!=0.17.1,!=0.17.2,>=0.14.0 in c:\\users\\rebek\\anaconda3\\lib\\site-packages (from jsonschema->ray>=2.2.0->ray[tune]>=2.2.0->neuralforecast) (0.18.0)\n",
      "Requirement already satisfied: alembic>=1.5.0 in c:\\users\\rebek\\anaconda3\\lib\\site-packages (from optuna->neuralforecast) (1.16.4)\n",
      "Requirement already satisfied: colorlog in c:\\users\\rebek\\anaconda3\\lib\\site-packages (from optuna->neuralforecast) (6.9.0)\n",
      "Requirement already satisfied: sqlalchemy>=1.4.2 in c:\\users\\rebek\\anaconda3\\lib\\site-packages (from optuna->neuralforecast) (1.4.39)\n",
      "Requirement already satisfied: Mako in c:\\users\\rebek\\anaconda3\\lib\\site-packages (from alembic>=1.5.0->optuna->neuralforecast) (1.3.10)\n",
      "Requirement already satisfied: greenlet!=0.4.17 in c:\\users\\rebek\\anaconda3\\lib\\site-packages (from sqlalchemy>=1.4.2->optuna->neuralforecast) (2.0.1)\n",
      "Requirement already satisfied: urllib3<3,>=1.21.1 in c:\\users\\rebek\\anaconda3\\lib\\site-packages (from requests->fsspec[http]>=2022.5.0->pytorch-lightning) (1.26.16)\n",
      "Requirement already satisfied: certifi>=2017.4.17 in c:\\users\\rebek\\anaconda3\\lib\\site-packages (from requests->fsspec[http]>=2022.5.0->pytorch-lightning) (2024.2.2)\n",
      "Requirement already satisfied: neuralforecast in c:\\users\\rebek\\anaconda3\\lib\\site-packages (3.0.2)\n",
      "Requirement already satisfied: transformers in c:\\users\\rebek\\anaconda3\\lib\\site-packages (4.32.1)\n",
      "Requirement already satisfied: coreforecast>=0.0.6 in c:\\users\\rebek\\anaconda3\\lib\\site-packages (from neuralforecast) (0.0.16)\n",
      "Requirement already satisfied: fsspec in c:\\users\\rebek\\anaconda3\\lib\\site-packages (from neuralforecast) (2023.4.0)\n",
      "Requirement already satisfied: numpy>=1.21.6 in c:\\users\\rebek\\anaconda3\\lib\\site-packages (from neuralforecast) (1.26.4)\n",
      "Requirement already satisfied: pandas>=1.3.5 in c:\\users\\rebek\\anaconda3\\lib\\site-packages (from neuralforecast) (2.2.1)\n",
      "Requirement already satisfied: torch<=2.6.0,>=2.0.0 in c:\\users\\rebek\\anaconda3\\lib\\site-packages (from neuralforecast) (2.5.1+cu121)\n",
      "Requirement already satisfied: pytorch-lightning>=2.0.0 in c:\\users\\rebek\\anaconda3\\lib\\site-packages (from neuralforecast) (2.5.2)\n",
      "Requirement already satisfied: ray>=2.2.0 in c:\\users\\rebek\\anaconda3\\lib\\site-packages (from ray[tune]>=2.2.0->neuralforecast) (2.48.0)\n",
      "Requirement already satisfied: optuna in c:\\users\\rebek\\anaconda3\\lib\\site-packages (from neuralforecast) (4.4.0)\n",
      "Requirement already satisfied: utilsforecast>=0.2.3 in c:\\users\\rebek\\anaconda3\\lib\\site-packages (from neuralforecast) (0.2.12)\n",
      "Requirement already satisfied: filelock in c:\\users\\rebek\\anaconda3\\lib\\site-packages (from torch<=2.6.0,>=2.0.0->neuralforecast) (3.9.0)\n",
      "Requirement already satisfied: typing-extensions>=4.8.0 in c:\\users\\rebek\\anaconda3\\lib\\site-packages (from torch<=2.6.0,>=2.0.0->neuralforecast) (4.14.1)\n",
      "Requirement already satisfied: networkx in c:\\users\\rebek\\anaconda3\\lib\\site-packages (from torch<=2.6.0,>=2.0.0->neuralforecast) (3.1)\n",
      "Requirement already satisfied: jinja2 in c:\\users\\rebek\\anaconda3\\lib\\site-packages (from torch<=2.6.0,>=2.0.0->neuralforecast) (3.1.2)\n",
      "Requirement already satisfied: sympy==1.13.1 in c:\\users\\rebek\\anaconda3\\lib\\site-packages (from torch<=2.6.0,>=2.0.0->neuralforecast) (1.13.1)\n",
      "Requirement already satisfied: mpmath<1.4,>=1.1.0 in c:\\users\\rebek\\anaconda3\\lib\\site-packages (from sympy==1.13.1->torch<=2.6.0,>=2.0.0->neuralforecast) (1.3.0)\n",
      "Requirement already satisfied: huggingface-hub<1.0,>=0.15.1 in c:\\users\\rebek\\anaconda3\\lib\\site-packages (from transformers) (0.15.1)\n",
      "Requirement already satisfied: packaging>=20.0 in c:\\users\\rebek\\anaconda3\\lib\\site-packages (from transformers) (23.1)\n",
      "Requirement already satisfied: pyyaml>=5.1 in c:\\users\\rebek\\anaconda3\\lib\\site-packages (from transformers) (6.0)\n",
      "Requirement already satisfied: regex!=2019.12.17 in c:\\users\\rebek\\anaconda3\\lib\\site-packages (from transformers) (2022.7.9)\n",
      "Requirement already satisfied: requests in c:\\users\\rebek\\anaconda3\\lib\\site-packages (from transformers) (2.31.0)\n",
      "Requirement already satisfied: tokenizers!=0.11.3,<0.14,>=0.11.1 in c:\\users\\rebek\\anaconda3\\lib\\site-packages (from transformers) (0.13.2)\n",
      "Requirement already satisfied: safetensors>=0.3.1 in c:\\users\\rebek\\anaconda3\\lib\\site-packages (from transformers) (0.3.2)\n",
      "Requirement already satisfied: tqdm>=4.27 in c:\\users\\rebek\\anaconda3\\lib\\site-packages (from transformers) (4.65.0)\n",
      "Requirement already satisfied: python-dateutil>=2.8.2 in c:\\users\\rebek\\anaconda3\\lib\\site-packages (from pandas>=1.3.5->neuralforecast) (2.8.2)\n",
      "Requirement already satisfied: pytz>=2020.1 in c:\\users\\rebek\\anaconda3\\lib\\site-packages (from pandas>=1.3.5->neuralforecast) (2023.3.post1)\n",
      "Requirement already satisfied: tzdata>=2022.7 in c:\\users\\rebek\\anaconda3\\lib\\site-packages (from pandas>=1.3.5->neuralforecast) (2023.3)\n",
      "Requirement already satisfied: six>=1.5 in c:\\users\\rebek\\anaconda3\\lib\\site-packages (from python-dateutil>=2.8.2->pandas>=1.3.5->neuralforecast) (1.16.0)\n",
      "Requirement already satisfied: torchmetrics>=0.7.0 in c:\\users\\rebek\\anaconda3\\lib\\site-packages (from pytorch-lightning>=2.0.0->neuralforecast) (1.8.0)\n",
      "Requirement already satisfied: lightning-utilities>=0.10.0 in c:\\users\\rebek\\anaconda3\\lib\\site-packages (from pytorch-lightning>=2.0.0->neuralforecast) (0.15.0)\n",
      "Requirement already satisfied: aiohttp!=4.0.0a0,!=4.0.0a1 in c:\\users\\rebek\\anaconda3\\lib\\site-packages (from fsspec[http]>=2022.5.0->pytorch-lightning>=2.0.0->neuralforecast) (3.8.5)\n",
      "Requirement already satisfied: attrs>=17.3.0 in c:\\users\\rebek\\anaconda3\\lib\\site-packages (from aiohttp!=4.0.0a0,!=4.0.0a1->fsspec[http]>=2022.5.0->pytorch-lightning>=2.0.0->neuralforecast) (22.1.0)\n",
      "Requirement already satisfied: charset-normalizer<4.0,>=2.0 in c:\\users\\rebek\\anaconda3\\lib\\site-packages (from aiohttp!=4.0.0a0,!=4.0.0a1->fsspec[http]>=2022.5.0->pytorch-lightning>=2.0.0->neuralforecast) (2.0.4)\n",
      "Requirement already satisfied: multidict<7.0,>=4.5 in c:\\users\\rebek\\anaconda3\\lib\\site-packages (from aiohttp!=4.0.0a0,!=4.0.0a1->fsspec[http]>=2022.5.0->pytorch-lightning>=2.0.0->neuralforecast) (6.0.2)\n",
      "Requirement already satisfied: async-timeout<5.0,>=4.0.0a3 in c:\\users\\rebek\\anaconda3\\lib\\site-packages (from aiohttp!=4.0.0a0,!=4.0.0a1->fsspec[http]>=2022.5.0->pytorch-lightning>=2.0.0->neuralforecast) (4.0.2)\n",
      "Requirement already satisfied: yarl<2.0,>=1.0 in c:\\users\\rebek\\anaconda3\\lib\\site-packages (from aiohttp!=4.0.0a0,!=4.0.0a1->fsspec[http]>=2022.5.0->pytorch-lightning>=2.0.0->neuralforecast) (1.8.1)\n",
      "Requirement already satisfied: frozenlist>=1.1.1 in c:\\users\\rebek\\anaconda3\\lib\\site-packages (from aiohttp!=4.0.0a0,!=4.0.0a1->fsspec[http]>=2022.5.0->pytorch-lightning>=2.0.0->neuralforecast) (1.3.3)\n",
      "Requirement already satisfied: aiosignal>=1.1.2 in c:\\users\\rebek\\anaconda3\\lib\\site-packages (from aiohttp!=4.0.0a0,!=4.0.0a1->fsspec[http]>=2022.5.0->pytorch-lightning>=2.0.0->neuralforecast) (1.2.0)\n",
      "Requirement already satisfied: idna>=2.0 in c:\\users\\rebek\\anaconda3\\lib\\site-packages (from yarl<2.0,>=1.0->aiohttp!=4.0.0a0,!=4.0.0a1->fsspec[http]>=2022.5.0->pytorch-lightning>=2.0.0->neuralforecast) (3.4)\n",
      "Requirement already satisfied: setuptools in c:\\users\\rebek\\anaconda3\\lib\\site-packages (from lightning-utilities>=0.10.0->pytorch-lightning>=2.0.0->neuralforecast) (68.0.0)\n",
      "Requirement already satisfied: click>=7.0 in c:\\users\\rebek\\anaconda3\\lib\\site-packages (from ray>=2.2.0->ray[tune]>=2.2.0->neuralforecast) (8.0.4)\n",
      "Requirement already satisfied: jsonschema in c:\\users\\rebek\\anaconda3\\lib\\site-packages (from ray>=2.2.0->ray[tune]>=2.2.0->neuralforecast) (4.17.3)\n",
      "Requirement already satisfied: msgpack<2.0.0,>=1.0.0 in c:\\users\\rebek\\anaconda3\\lib\\site-packages (from ray>=2.2.0->ray[tune]>=2.2.0->neuralforecast) (1.0.3)\n",
      "Requirement already satisfied: protobuf!=3.19.5,>=3.15.3 in c:\\users\\rebek\\anaconda3\\lib\\site-packages (from ray>=2.2.0->ray[tune]>=2.2.0->neuralforecast) (4.25.2)\n",
      "Requirement already satisfied: colorama in c:\\users\\rebek\\anaconda3\\lib\\site-packages (from click>=7.0->ray>=2.2.0->ray[tune]>=2.2.0->neuralforecast) (0.4.6)\n",
      "Requirement already satisfied: tensorboardX>=1.9 in c:\\users\\rebek\\anaconda3\\lib\\site-packages (from ray[tune]>=2.2.0->neuralforecast) (2.6.4)\n",
      "Requirement already satisfied: pyarrow>=9.0.0 in c:\\users\\rebek\\anaconda3\\lib\\site-packages (from ray[tune]>=2.2.0->neuralforecast) (11.0.0)\n",
      "Requirement already satisfied: MarkupSafe>=2.0 in c:\\users\\rebek\\anaconda3\\lib\\site-packages (from jinja2->torch<=2.6.0,>=2.0.0->neuralforecast) (2.1.1)\n",
      "Requirement already satisfied: pyrsistent!=0.17.0,!=0.17.1,!=0.17.2,>=0.14.0 in c:\\users\\rebek\\anaconda3\\lib\\site-packages (from jsonschema->ray>=2.2.0->ray[tune]>=2.2.0->neuralforecast) (0.18.0)\n",
      "Requirement already satisfied: alembic>=1.5.0 in c:\\users\\rebek\\anaconda3\\lib\\site-packages (from optuna->neuralforecast) (1.16.4)\n",
      "Requirement already satisfied: colorlog in c:\\users\\rebek\\anaconda3\\lib\\site-packages (from optuna->neuralforecast) (6.9.0)\n",
      "Requirement already satisfied: sqlalchemy>=1.4.2 in c:\\users\\rebek\\anaconda3\\lib\\site-packages (from optuna->neuralforecast) (1.4.39)\n",
      "Requirement already satisfied: Mako in c:\\users\\rebek\\anaconda3\\lib\\site-packages (from alembic>=1.5.0->optuna->neuralforecast) (1.3.10)\n",
      "Requirement already satisfied: greenlet!=0.4.17 in c:\\users\\rebek\\anaconda3\\lib\\site-packages (from sqlalchemy>=1.4.2->optuna->neuralforecast) (2.0.1)\n",
      "Requirement already satisfied: urllib3<3,>=1.21.1 in c:\\users\\rebek\\anaconda3\\lib\\site-packages (from requests->transformers) (1.26.16)\n",
      "Requirement already satisfied: certifi>=2017.4.17 in c:\\users\\rebek\\anaconda3\\lib\\site-packages (from requests->transformers) (2024.2.2)\n"
     ]
    },
    {
     "name": "stderr",
     "output_type": "stream",
     "text": [
      "WARNING: neuralforecast 3.0.2 does not provide the extra 'timesnet'\n"
     ]
    }
   ],
   "source": [
    "!pip install neuralforecast pytorch-lightning\n",
    "!pip install neuralforecast neuralforecast[timesnet] transformers"
   ]
  },
  {
   "cell_type": "markdown",
   "id": "259075cf",
   "metadata": {},
   "source": [
    "2. Load & Prepare Data"
   ]
  },
  {
   "cell_type": "code",
   "execution_count": 2,
   "id": "562e2462",
   "metadata": {},
   "outputs": [
    {
     "name": "stderr",
     "output_type": "stream",
     "text": [
      "c:\\Users\\rebek\\anaconda3\\Lib\\site-packages\\pandas\\core\\arrays\\masked.py:60: UserWarning: Pandas requires version '1.3.6' or newer of 'bottleneck' (version '1.3.5' currently installed).\n",
      "  from pandas.core import (\n"
     ]
    }
   ],
   "source": [
    "import pandas as pd\n",
    "\n",
    "# Load the dataset\n",
    "df = pd.read_csv(\"../dataset/combined_with_cluster_feature.csv\")\n",
    "\n",
    "# Convert 'time' column to datetime format\n",
    "df['ds'] = pd.to_datetime(df['time'])\n",
    "\n",
    "# Rename relevant columns for NeuralForecast\n",
    "df = df.rename(columns={\n",
    "    'down': 'y',\n",
    "    'Cluster_Feature': 'slice_label'\n",
    "})\n",
    "\n",
    "# Add a unique_id (can be 'District' if you treat districts as stations)\n",
    "df['unique_id'] = df['District'].astype(str)\n",
    "\n",
    "# Retain required columns\n",
    "df = df[['unique_id', 'ds', 'y', 'slice_label']]\n"
   ]
  },
  {
   "cell_type": "markdown",
   "id": "1b24e9ae",
   "metadata": {},
   "source": [
    "3. Import Transformer Models"
   ]
  },
  {
   "cell_type": "code",
   "execution_count": 3,
   "id": "fc601a72",
   "metadata": {},
   "outputs": [
    {
     "name": "stdout",
     "output_type": "stream",
     "text": [
      "Requirement already satisfied: typing_extensions in c:\\users\\rebek\\anaconda3\\lib\\site-packages (4.14.1)\n"
     ]
    }
   ],
   "source": [
    "!pip install --upgrade typing_extensions"
   ]
  },
  {
   "cell_type": "code",
   "execution_count": 5,
   "id": "54427f18",
   "metadata": {},
   "outputs": [],
   "source": [
    "from neuralforecast import NeuralForecast\n",
    "from neuralforecast.models import TimesNet, Informer\n",
    "from neuralforecast.losses.pytorch import MAE\n"
   ]
  },
  {
   "cell_type": "code",
   "execution_count": 4,
   "id": "41ac7528",
   "metadata": {},
   "outputs": [
    {
     "name": "stdout",
     "output_type": "stream",
     "text": [
      "True\n",
      "2.5.1+cu121\n",
      "12.1\n"
     ]
    }
   ],
   "source": [
    "import torch\n",
    "print(torch.cuda.is_available())\n",
    "print(torch.__version__)\n",
    "print(torch.version.cuda)\n"
   ]
  },
  {
   "cell_type": "markdown",
   "id": "15929bc1",
   "metadata": {},
   "source": [
    "4. Define the Transformer Models"
   ]
  },
  {
   "cell_type": "markdown",
   "id": "d0af2aa0",
   "metadata": {},
   "source": [
    "TimesNet"
   ]
  },
  {
   "cell_type": "code",
   "execution_count": 6,
   "id": "12199b08",
   "metadata": {},
   "outputs": [
    {
     "name": "stderr",
     "output_type": "stream",
     "text": [
      "Seed set to 1\n"
     ]
    }
   ],
   "source": [
    "model_tn = TimesNet(\n",
    "    h=6,                      # Predict next 6 steps\n",
    "    input_size=12,           # Look-back window of 12 time steps\n",
    "    hidden_size=64,\n",
    "    conv_hidden_size=32,\n",
    "    num_kernels=4,\n",
    "    encoder_layers=2,\n",
    "    loss=MAE(),\n",
    "    max_steps=500,\n",
    "    batch_size=32,\n",
    "    # GPU SETTINGS\n",
    "    accelerator='gpu',\n",
    "    devices=1,\n",
    ")\n"
   ]
  },
  {
   "cell_type": "markdown",
   "id": "f08f80f4",
   "metadata": {},
   "source": [
    "Informer"
   ]
  },
  {
   "cell_type": "code",
   "execution_count": 7,
   "id": "a1402ba9",
   "metadata": {},
   "outputs": [
    {
     "name": "stderr",
     "output_type": "stream",
     "text": [
      "Seed set to 1\n"
     ]
    }
   ],
   "source": [
    "model_if = Informer(\n",
    "    h=6,\n",
    "    input_size=12,\n",
    "    hidden_size=64,\n",
    "    n_head=4,\n",
    "    factor=3,\n",
    "    encoder_layers=2,\n",
    "    decoder_layers=1,\n",
    "    dropout=0.05,\n",
    "    distil=True,\n",
    "    loss=MAE(),\n",
    "    max_steps=500,\n",
    "    batch_size=32,\n",
    "    # GPU SETTINGS\n",
    "    accelerator='gpu',\n",
    "    devices=1,\n",
    ")\n"
   ]
  },
  {
   "cell_type": "markdown",
   "id": "6bdba908",
   "metadata": {},
   "source": [
    "5. Fit the Models"
   ]
  },
  {
   "cell_type": "code",
   "execution_count": 8,
   "id": "04da6a85",
   "metadata": {},
   "outputs": [
    {
     "name": "stderr",
     "output_type": "stream",
     "text": [
      "GPU available: True (cuda), used: True\n",
      "TPU available: False, using: 0 TPU cores\n",
      "HPU available: False, using: 0 HPUs\n",
      "You are using a CUDA device ('NVIDIA GeForce RTX 4070 Laptop GPU') that has Tensor Cores. To properly utilize them, you should set `torch.set_float32_matmul_precision('medium' | 'high')` which will trade-off precision for performance. For more details, read https://pytorch.org/docs/stable/generated/torch.set_float32_matmul_precision.html#torch.set_float32_matmul_precision\n",
      "LOCAL_RANK: 0 - CUDA_VISIBLE_DEVICES: [0]\n",
      "\n",
      "  | Name           | Type          | Params | Mode \n",
      "---------------------------------------------------------\n",
      "0 | loss           | MAE           | 0      | train\n",
      "1 | padder_train   | ConstantPad1d | 0      | train\n",
      "2 | scaler         | TemporalNorm  | 0      | train\n",
      "3 | model          | ModuleList    | 688 K  | train\n",
      "4 | enc_embedding  | DataEmbedding | 192    | train\n",
      "5 | layer_norm     | LayerNorm     | 128    | train\n",
      "6 | predict_linear | Linear        | 234    | train\n",
      "7 | projection     | Linear        | 65     | train\n",
      "---------------------------------------------------------\n",
      "689 K     Trainable params\n",
      "0         Non-trainable params\n",
      "689 K     Total params\n",
      "2.758     Total estimated model params size (MB)\n",
      "42        Modules in train mode\n",
      "0         Modules in eval mode\n"
     ]
    },
    {
     "data": {
      "application/vnd.jupyter.widget-view+json": {
       "model_id": "126d1ab23b894e0f86995e4ccc780c07",
       "version_major": 2,
       "version_minor": 0
      },
      "text/plain": [
       "Sanity Checking: |          | 0/? [00:00<?, ?it/s]"
      ]
     },
     "metadata": {},
     "output_type": "display_data"
    },
    {
     "data": {
      "application/vnd.jupyter.widget-view+json": {
       "model_id": "0c5f346a1442446991418ecb840e2369",
       "version_major": 2,
       "version_minor": 0
      },
      "text/plain": [
       "Training: |          | 0/? [00:00<?, ?it/s]"
      ]
     },
     "metadata": {},
     "output_type": "display_data"
    },
    {
     "data": {
      "application/vnd.jupyter.widget-view+json": {
       "model_id": "66346f31575b49d09146e857d5d1a6c5",
       "version_major": 2,
       "version_minor": 0
      },
      "text/plain": [
       "Validation: |          | 0/? [00:00<?, ?it/s]"
      ]
     },
     "metadata": {},
     "output_type": "display_data"
    },
    {
     "data": {
      "application/vnd.jupyter.widget-view+json": {
       "model_id": "9b36d9ed4886436db4d5531191616bb2",
       "version_major": 2,
       "version_minor": 0
      },
      "text/plain": [
       "Validation: |          | 0/? [00:00<?, ?it/s]"
      ]
     },
     "metadata": {},
     "output_type": "display_data"
    },
    {
     "data": {
      "application/vnd.jupyter.widget-view+json": {
       "model_id": "0e2e24af7592483eb78f371f4fe69126",
       "version_major": 2,
       "version_minor": 0
      },
      "text/plain": [
       "Validation: |          | 0/? [00:00<?, ?it/s]"
      ]
     },
     "metadata": {},
     "output_type": "display_data"
    },
    {
     "data": {
      "application/vnd.jupyter.widget-view+json": {
       "model_id": "8c6a7d5e90ce4309ae546ccb12df3b39",
       "version_major": 2,
       "version_minor": 0
      },
      "text/plain": [
       "Validation: |          | 0/? [00:00<?, ?it/s]"
      ]
     },
     "metadata": {},
     "output_type": "display_data"
    },
    {
     "data": {
      "application/vnd.jupyter.widget-view+json": {
       "model_id": "b3b6872ab0fc4962bc883b0265d4a1d9",
       "version_major": 2,
       "version_minor": 0
      },
      "text/plain": [
       "Validation: |          | 0/? [00:00<?, ?it/s]"
      ]
     },
     "metadata": {},
     "output_type": "display_data"
    },
    {
     "name": "stderr",
     "output_type": "stream",
     "text": [
      "`Trainer.fit` stopped: `max_steps=500` reached.\n",
      "GPU available: True (cuda), used: True\n",
      "TPU available: False, using: 0 TPU cores\n",
      "HPU available: False, using: 0 HPUs\n",
      "LOCAL_RANK: 0 - CUDA_VISIBLE_DEVICES: [0]\n",
      "\n",
      "  | Name          | Type          | Params | Mode \n",
      "--------------------------------------------------------\n",
      "0 | loss          | MAE           | 0      | train\n",
      "1 | padder_train  | ConstantPad1d | 0      | train\n",
      "2 | scaler        | TemporalNorm  | 0      | train\n",
      "3 | enc_embedding | DataEmbedding | 192    | train\n",
      "4 | dec_embedding | DataEmbedding | 192    | train\n",
      "5 | encoder       | TransEncoder  | 54.8 K | train\n",
      "6 | decoder       | TransDecoder  | 38.0 K | train\n",
      "--------------------------------------------------------\n",
      "93.2 K    Trainable params\n",
      "0         Non-trainable params\n",
      "93.2 K    Total params\n",
      "0.373     Total estimated model params size (MB)\n",
      "73        Modules in train mode\n",
      "0         Modules in eval mode\n"
     ]
    },
    {
     "data": {
      "application/vnd.jupyter.widget-view+json": {
       "model_id": "0d8983f447584e2798428faabb09f199",
       "version_major": 2,
       "version_minor": 0
      },
      "text/plain": [
       "Sanity Checking: |          | 0/? [00:00<?, ?it/s]"
      ]
     },
     "metadata": {},
     "output_type": "display_data"
    },
    {
     "data": {
      "application/vnd.jupyter.widget-view+json": {
       "model_id": "31e83b4759ea41889eaca1a1625640ee",
       "version_major": 2,
       "version_minor": 0
      },
      "text/plain": [
       "Training: |          | 0/? [00:00<?, ?it/s]"
      ]
     },
     "metadata": {},
     "output_type": "display_data"
    },
    {
     "data": {
      "application/vnd.jupyter.widget-view+json": {
       "model_id": "fed82333d0b947faa9f8ad4669248fb6",
       "version_major": 2,
       "version_minor": 0
      },
      "text/plain": [
       "Validation: |          | 0/? [00:00<?, ?it/s]"
      ]
     },
     "metadata": {},
     "output_type": "display_data"
    },
    {
     "data": {
      "application/vnd.jupyter.widget-view+json": {
       "model_id": "955855761f874f94aa2826ac0e34ada7",
       "version_major": 2,
       "version_minor": 0
      },
      "text/plain": [
       "Validation: |          | 0/? [00:00<?, ?it/s]"
      ]
     },
     "metadata": {},
     "output_type": "display_data"
    },
    {
     "data": {
      "application/vnd.jupyter.widget-view+json": {
       "model_id": "e85d43de9b1f493e8309e10ef12a74b9",
       "version_major": 2,
       "version_minor": 0
      },
      "text/plain": [
       "Validation: |          | 0/? [00:00<?, ?it/s]"
      ]
     },
     "metadata": {},
     "output_type": "display_data"
    },
    {
     "data": {
      "application/vnd.jupyter.widget-view+json": {
       "model_id": "1ce874ee4e9e4c7993a146e87b8629af",
       "version_major": 2,
       "version_minor": 0
      },
      "text/plain": [
       "Validation: |          | 0/? [00:00<?, ?it/s]"
      ]
     },
     "metadata": {},
     "output_type": "display_data"
    },
    {
     "data": {
      "application/vnd.jupyter.widget-view+json": {
       "model_id": "0f54456fefa34f1cb0af3ed1805ed9ee",
       "version_major": 2,
       "version_minor": 0
      },
      "text/plain": [
       "Validation: |          | 0/? [00:00<?, ?it/s]"
      ]
     },
     "metadata": {},
     "output_type": "display_data"
    },
    {
     "name": "stderr",
     "output_type": "stream",
     "text": [
      "`Trainer.fit` stopped: `max_steps=500` reached.\n"
     ]
    }
   ],
   "source": [
    "nf = NeuralForecast(\n",
    "    models=[model_tn, model_if],\n",
    "    freq='5T'  # Change as per actual granularity\n",
    ")\n",
    "\n",
    "# Fit models\n",
    "nf.fit(\n",
    "    df=df,\n",
    "    id_col='unique_id',\n",
    "    time_col='ds',\n",
    "    target_col='y'\n",
    ")\n"
   ]
  },
  {
   "cell_type": "markdown",
   "id": "49d993e3",
   "metadata": {},
   "source": [
    "6. Generate Predictions"
   ]
  },
  {
   "cell_type": "code",
   "execution_count": null,
   "id": "7e125262",
   "metadata": {},
   "outputs": [
    {
     "name": "stderr",
     "output_type": "stream",
     "text": [
      "c:\\Users\\rebek\\anaconda3\\Lib\\site-packages\\utilsforecast\\processing.py:384: FutureWarning: 'T' is deprecated and will be removed in a future version, please use 'min' instead.\n",
      "  freq = pd.tseries.frequencies.to_offset(freq)\n",
      "c:\\Users\\rebek\\anaconda3\\Lib\\site-packages\\utilsforecast\\processing.py:440: FutureWarning: 'T' is deprecated and will be removed in a future version, please use 'min' instead.\n",
      "  freq = pd.tseries.frequencies.to_offset(freq)\n",
      "GPU available: True (cuda), used: True\n",
      "TPU available: False, using: 0 TPU cores\n",
      "HPU available: False, using: 0 HPUs\n",
      "LOCAL_RANK: 0 - CUDA_VISIBLE_DEVICES: [0]\n"
     ]
    },
    {
     "data": {
      "application/vnd.jupyter.widget-view+json": {
       "model_id": "1a6b7cb64bda4046be4ae12b53ba58d7",
       "version_major": 2,
       "version_minor": 0
      },
      "text/plain": [
       "Predicting: |          | 0/? [00:00<?, ?it/s]"
      ]
     },
     "metadata": {},
     "output_type": "display_data"
    },
    {
     "name": "stderr",
     "output_type": "stream",
     "text": [
      "GPU available: True (cuda), used: True\n",
      "TPU available: False, using: 0 TPU cores\n",
      "HPU available: False, using: 0 HPUs\n",
      "LOCAL_RANK: 0 - CUDA_VISIBLE_DEVICES: [0]\n"
     ]
    },
    {
     "data": {
      "application/vnd.jupyter.widget-view+json": {
       "model_id": "3ff7ff518f1c46de8c84b8c64edacc9a",
       "version_major": 2,
       "version_minor": 0
      },
      "text/plain": [
       "Predicting: |          | 0/? [00:00<?, ?it/s]"
      ]
     },
     "metadata": {},
     "output_type": "display_data"
    }
   ],
   "source": [
    "pred_df = nf.predict()\n"
   ]
  },
  {
   "cell_type": "code",
   "execution_count": null,
   "id": "f33dc6fb",
   "metadata": {},
   "outputs": [
    {
     "name": "stdout",
     "output_type": "stream",
     "text": [
      "Index(['unique_id', 'ds', 'TimesNet', 'Informer'], dtype='object')\n"
     ]
    }
   ],
   "source": [
    "print(pred_df.columns)\n"
   ]
  },
  {
   "cell_type": "code",
   "execution_count": null,
   "id": "78c1dfdb",
   "metadata": {},
   "outputs": [],
   "source": [
    "# Ensure datetime format consistency\n",
    "df['ds'] = pd.to_datetime(df['ds'])\n",
    "pred_df['ds'] = pd.to_datetime(pred_df['ds'])\n",
    "\n",
    "# If rounding needed to match granularity\n",
    "df['ds'] = df['ds'].dt.round('1min')\n",
    "pred_df['ds'] = pred_df['ds'].dt.round('1min')\n"
   ]
  },
  {
   "cell_type": "code",
   "execution_count": null,
   "id": "0a808fde",
   "metadata": {},
   "outputs": [
    {
     "name": "stdout",
     "output_type": "stream",
     "text": [
      "DF unique_ids: ['ElBorn' 'LesCorts' 'PobleSec']\n",
      "Pred unique_ids: ['ElBorn' 'LesCorts' 'PobleSec']\n"
     ]
    }
   ],
   "source": [
    "print(\"DF unique_ids:\", df['unique_id'].unique())\n",
    "print(\"Pred unique_ids:\", pred_df['unique_id'].unique())\n"
   ]
  },
  {
   "cell_type": "code",
   "execution_count": null,
   "id": "c3a35dfd",
   "metadata": {},
   "outputs": [
    {
     "name": "stdout",
     "output_type": "stream",
     "text": [
      "Merged rows: 0\n"
     ]
    }
   ],
   "source": [
    "# Merge and drop missing predictions\n",
    "merged = df.merge(pred_df, on=['unique_id', 'ds'], how='inner')\n",
    "merged = merged.dropna(subset=['TimesNet'])  # or 'Informer'\n",
    "\n",
    "print(f\"Merged rows: {len(merged)}\")\n"
   ]
  },
  {
   "cell_type": "markdown",
   "id": "56a7d7f6",
   "metadata": {},
   "source": [
    "7. Evaluate Predictions"
   ]
  },
  {
   "cell_type": "code",
   "execution_count": 21,
   "id": "cdc7c411",
   "metadata": {},
   "outputs": [
    {
     "name": "stdout",
     "output_type": "stream",
     "text": [
      "No overlapping timestamps between actual and predicted data.\n"
     ]
    }
   ],
   "source": [
    "from sklearn.metrics import mean_absolute_error, mean_squared_error\n",
    "import numpy as np\n",
    "\n",
    "# Evaluate if data exists\n",
    "if len(merged) > 0:\n",
    "    mae_tn = mean_absolute_error(merged['y'], merged['TimesNet'])\n",
    "    rmse_tn = np.sqrt(mean_squared_error(merged['y'], merged['TimesNet']))\n",
    "    print(f\"TimesNet MAE: {mae_tn:.2f}, RMSE: {rmse_tn:.2f}\")\n",
    "else:\n",
    "    print(\"No overlapping timestamps between actual and predicted data.\")\n"
   ]
  },
  {
   "cell_type": "markdown",
   "id": "faca9c4b",
   "metadata": {},
   "source": [
    "8. Per-Slice Evaluation"
   ]
  },
  {
   "cell_type": "code",
   "execution_count": 24,
   "id": "df73c744",
   "metadata": {},
   "outputs": [
    {
     "name": "stdout",
     "output_type": "stream",
     "text": [
      "No overlapping timestamps between actual and predicted data.\n",
      "df sample:   unique_id                  ds\n",
      "0    ElBorn 2018-03-28 15:56:00\n",
      "1    ElBorn 2018-03-28 15:58:00\n",
      "2    ElBorn 2018-03-28 16:00:00\n",
      "3    ElBorn 2018-03-28 16:02:00\n",
      "4    ElBorn 2018-03-28 16:04:00\n",
      "pred_df sample:   unique_id                  ds\n",
      "0    ElBorn 2018-04-03 11:43:00\n",
      "1    ElBorn 2018-04-03 11:48:00\n",
      "2    ElBorn 2018-04-03 11:53:00\n",
      "3    ElBorn 2018-04-03 11:58:00\n",
      "4    ElBorn 2018-04-03 12:03:00\n"
     ]
    }
   ],
   "source": [
    "from sklearn.metrics import mean_absolute_error\n",
    "\n",
    "df['ds'] = pd.to_datetime(df['ds'])\n",
    "pred_df['ds'] = pd.to_datetime(pred_df['ds'])\n",
    "\n",
    "# Attach slice_label to prediction\n",
    "pred_df = pred_df.merge(df[['unique_id', 'ds', 'slice_label']], on=['unique_id', 'ds'], how='left')\n",
    "\n",
    "# Now merge original data and predictions (including slice_label)\n",
    "merged = df.merge(pred_df, on=['unique_id', 'ds'], how='inner')\n",
    "\n",
    "if merged.empty:\n",
    "    print(\"No overlapping timestamps between actual and predicted data.\")\n",
    "    print(\"df sample:\", df[['unique_id', 'ds']].head())\n",
    "    print(\"pred_df sample:\", pred_df[['unique_id', 'ds']].head())\n",
    "else:\n",
    "    for sl in merged['slice_label'].unique():\n",
    "        subset = merged[merged['slice_label'] == sl]\n",
    "        print(f\"\\nSlice {sl}:\")\n",
    "        print(f\"TimesNet MAE: {mean_absolute_error(subset['y'], subset['TimesNet']):.2f}\")\n",
    "        print(f\"Informer MAE: {mean_absolute_error(subset['y'], subset['Informer']):.2f}\")"
   ]
  },
  {
   "cell_type": "markdown",
   "id": "c4c6449f",
   "metadata": {},
   "source": [
    " Informer work with slice-specific forecasting"
   ]
  },
  {
   "cell_type": "markdown",
   "id": "d4e0338d",
   "metadata": {},
   "source": [
    "Approach 1: Per-Slice Informer Training (Loop over Cluster Labels)\n",
    "\n",
    "\n",
    "    - Train a separate Informer model for each pseudo-slice (slice_label). This mimics slice-aware modeling."
   ]
  },
  {
   "cell_type": "code",
   "execution_count": 41,
   "id": "2631735e",
   "metadata": {},
   "outputs": [
    {
     "name": "stderr",
     "output_type": "stream",
     "text": [
      "Seed set to 1\n",
      "GPU available: True (cuda), used: True\n",
      "TPU available: False, using: 0 TPU cores\n",
      "HPU available: False, using: 0 HPUs\n",
      "LOCAL_RANK: 0 - CUDA_VISIBLE_DEVICES: [0]\n"
     ]
    },
    {
     "name": "stdout",
     "output_type": "stream",
     "text": [
      "\n",
      "Training Informer model for slice 0...\n"
     ]
    },
    {
     "name": "stderr",
     "output_type": "stream",
     "text": [
      "\n",
      "  | Name          | Type          | Params | Mode \n",
      "--------------------------------------------------------\n",
      "0 | loss          | MAE           | 0      | train\n",
      "1 | padder_train  | ConstantPad1d | 0      | train\n",
      "2 | scaler        | TemporalNorm  | 0      | train\n",
      "3 | enc_embedding | DataEmbedding | 192    | train\n",
      "4 | dec_embedding | DataEmbedding | 192    | train\n",
      "5 | encoder       | TransEncoder  | 54.8 K | train\n",
      "6 | decoder       | TransDecoder  | 38.0 K | train\n",
      "--------------------------------------------------------\n",
      "93.2 K    Trainable params\n",
      "0         Non-trainable params\n",
      "93.2 K    Total params\n",
      "0.373     Total estimated model params size (MB)\n",
      "73        Modules in train mode\n",
      "0         Modules in eval mode\n"
     ]
    },
    {
     "data": {
      "application/vnd.jupyter.widget-view+json": {
       "model_id": "680dcfbb53ac4587adc2cfa4e6b49cff",
       "version_major": 2,
       "version_minor": 0
      },
      "text/plain": [
       "Sanity Checking: |          | 0/? [00:00<?, ?it/s]"
      ]
     },
     "metadata": {},
     "output_type": "display_data"
    },
    {
     "data": {
      "application/vnd.jupyter.widget-view+json": {
       "model_id": "cce4a88cb9ac4cf6969f48c9f244b80a",
       "version_major": 2,
       "version_minor": 0
      },
      "text/plain": [
       "Training: |          | 0/? [00:00<?, ?it/s]"
      ]
     },
     "metadata": {},
     "output_type": "display_data"
    },
    {
     "data": {
      "application/vnd.jupyter.widget-view+json": {
       "model_id": "bcb50a4ad15a45f2b0644ccba0c55e5d",
       "version_major": 2,
       "version_minor": 0
      },
      "text/plain": [
       "Validation: |          | 0/? [00:00<?, ?it/s]"
      ]
     },
     "metadata": {},
     "output_type": "display_data"
    },
    {
     "data": {
      "application/vnd.jupyter.widget-view+json": {
       "model_id": "58e17ef8898f434797ea59880a0d1e1b",
       "version_major": 2,
       "version_minor": 0
      },
      "text/plain": [
       "Validation: |          | 0/? [00:00<?, ?it/s]"
      ]
     },
     "metadata": {},
     "output_type": "display_data"
    },
    {
     "data": {
      "application/vnd.jupyter.widget-view+json": {
       "model_id": "f00b674f3cb8487ea24de12250df18e9",
       "version_major": 2,
       "version_minor": 0
      },
      "text/plain": [
       "Validation: |          | 0/? [00:00<?, ?it/s]"
      ]
     },
     "metadata": {},
     "output_type": "display_data"
    },
    {
     "name": "stderr",
     "output_type": "stream",
     "text": [
      "`Trainer.fit` stopped: `max_steps=300` reached.\n",
      "c:\\Users\\rebek\\anaconda3\\Lib\\site-packages\\utilsforecast\\processing.py:384: FutureWarning: 'T' is deprecated and will be removed in a future version, please use 'min' instead.\n",
      "  freq = pd.tseries.frequencies.to_offset(freq)\n",
      "c:\\Users\\rebek\\anaconda3\\Lib\\site-packages\\utilsforecast\\processing.py:440: FutureWarning: 'T' is deprecated and will be removed in a future version, please use 'min' instead.\n",
      "  freq = pd.tseries.frequencies.to_offset(freq)\n",
      "GPU available: True (cuda), used: True\n",
      "TPU available: False, using: 0 TPU cores\n",
      "HPU available: False, using: 0 HPUs\n",
      "LOCAL_RANK: 0 - CUDA_VISIBLE_DEVICES: [0]\n"
     ]
    },
    {
     "data": {
      "application/vnd.jupyter.widget-view+json": {
       "model_id": "68622d7b93c64262b317d551ff237347",
       "version_major": 2,
       "version_minor": 0
      },
      "text/plain": [
       "Predicting: |          | 0/? [00:00<?, ?it/s]"
      ]
     },
     "metadata": {},
     "output_type": "display_data"
    },
    {
     "name": "stderr",
     "output_type": "stream",
     "text": [
      "Seed set to 1\n",
      "GPU available: True (cuda), used: True\n",
      "TPU available: False, using: 0 TPU cores\n",
      "HPU available: False, using: 0 HPUs\n",
      "LOCAL_RANK: 0 - CUDA_VISIBLE_DEVICES: [0]\n",
      "\n",
      "  | Name          | Type          | Params | Mode \n",
      "--------------------------------------------------------\n",
      "0 | loss          | MAE           | 0      | train\n",
      "1 | padder_train  | ConstantPad1d | 0      | train\n",
      "2 | scaler        | TemporalNorm  | 0      | train\n",
      "3 | enc_embedding | DataEmbedding | 192    | train\n",
      "4 | dec_embedding | DataEmbedding | 192    | train\n",
      "5 | encoder       | TransEncoder  | 54.8 K | train\n",
      "6 | decoder       | TransDecoder  | 38.0 K | train\n",
      "--------------------------------------------------------\n",
      "93.2 K    Trainable params\n",
      "0         Non-trainable params\n",
      "93.2 K    Total params\n",
      "0.373     Total estimated model params size (MB)\n",
      "73        Modules in train mode\n",
      "0         Modules in eval mode\n"
     ]
    },
    {
     "name": "stdout",
     "output_type": "stream",
     "text": [
      "\n",
      "Training Informer model for slice 1...\n"
     ]
    },
    {
     "data": {
      "application/vnd.jupyter.widget-view+json": {
       "model_id": "be96186a034941f681fe95b3e9a69547",
       "version_major": 2,
       "version_minor": 0
      },
      "text/plain": [
       "Sanity Checking: |          | 0/? [00:00<?, ?it/s]"
      ]
     },
     "metadata": {},
     "output_type": "display_data"
    },
    {
     "data": {
      "application/vnd.jupyter.widget-view+json": {
       "model_id": "9951a891bb4f4ca9959e82fa967df6b3",
       "version_major": 2,
       "version_minor": 0
      },
      "text/plain": [
       "Training: |          | 0/? [00:00<?, ?it/s]"
      ]
     },
     "metadata": {},
     "output_type": "display_data"
    },
    {
     "data": {
      "application/vnd.jupyter.widget-view+json": {
       "model_id": "24ddfaa00db54e6899ca7e7894617baf",
       "version_major": 2,
       "version_minor": 0
      },
      "text/plain": [
       "Validation: |          | 0/? [00:00<?, ?it/s]"
      ]
     },
     "metadata": {},
     "output_type": "display_data"
    },
    {
     "data": {
      "application/vnd.jupyter.widget-view+json": {
       "model_id": "a3d24939e57442b8865bc910cacf6c22",
       "version_major": 2,
       "version_minor": 0
      },
      "text/plain": [
       "Validation: |          | 0/? [00:00<?, ?it/s]"
      ]
     },
     "metadata": {},
     "output_type": "display_data"
    },
    {
     "data": {
      "application/vnd.jupyter.widget-view+json": {
       "model_id": "77ee6546937944e083a2b3912c64702c",
       "version_major": 2,
       "version_minor": 0
      },
      "text/plain": [
       "Validation: |          | 0/? [00:00<?, ?it/s]"
      ]
     },
     "metadata": {},
     "output_type": "display_data"
    },
    {
     "name": "stderr",
     "output_type": "stream",
     "text": [
      "`Trainer.fit` stopped: `max_steps=300` reached.\n",
      "c:\\Users\\rebek\\anaconda3\\Lib\\site-packages\\utilsforecast\\processing.py:384: FutureWarning: 'T' is deprecated and will be removed in a future version, please use 'min' instead.\n",
      "  freq = pd.tseries.frequencies.to_offset(freq)\n",
      "c:\\Users\\rebek\\anaconda3\\Lib\\site-packages\\utilsforecast\\processing.py:440: FutureWarning: 'T' is deprecated and will be removed in a future version, please use 'min' instead.\n",
      "  freq = pd.tseries.frequencies.to_offset(freq)\n",
      "GPU available: True (cuda), used: True\n",
      "TPU available: False, using: 0 TPU cores\n",
      "HPU available: False, using: 0 HPUs\n",
      "LOCAL_RANK: 0 - CUDA_VISIBLE_DEVICES: [0]\n"
     ]
    },
    {
     "data": {
      "application/vnd.jupyter.widget-view+json": {
       "model_id": "d133bf82432b47618cef3eb3e21d7baa",
       "version_major": 2,
       "version_minor": 0
      },
      "text/plain": [
       "Predicting: |          | 0/? [00:00<?, ?it/s]"
      ]
     },
     "metadata": {},
     "output_type": "display_data"
    },
    {
     "name": "stderr",
     "output_type": "stream",
     "text": [
      "Seed set to 1\n",
      "GPU available: True (cuda), used: True\n",
      "TPU available: False, using: 0 TPU cores\n",
      "HPU available: False, using: 0 HPUs\n",
      "LOCAL_RANK: 0 - CUDA_VISIBLE_DEVICES: [0]\n",
      "\n",
      "  | Name          | Type          | Params | Mode \n",
      "--------------------------------------------------------\n",
      "0 | loss          | MAE           | 0      | train\n",
      "1 | padder_train  | ConstantPad1d | 0      | train\n",
      "2 | scaler        | TemporalNorm  | 0      | train\n",
      "3 | enc_embedding | DataEmbedding | 192    | train\n",
      "4 | dec_embedding | DataEmbedding | 192    | train\n",
      "5 | encoder       | TransEncoder  | 54.8 K | train\n",
      "6 | decoder       | TransDecoder  | 38.0 K | train\n",
      "--------------------------------------------------------\n",
      "93.2 K    Trainable params\n",
      "0         Non-trainable params\n",
      "93.2 K    Total params\n",
      "0.373     Total estimated model params size (MB)\n",
      "73        Modules in train mode\n",
      "0         Modules in eval mode\n"
     ]
    },
    {
     "name": "stdout",
     "output_type": "stream",
     "text": [
      "\n",
      "Training Informer model for slice 2...\n"
     ]
    },
    {
     "data": {
      "application/vnd.jupyter.widget-view+json": {
       "model_id": "30efd49d93a7461499421e907e5072ab",
       "version_major": 2,
       "version_minor": 0
      },
      "text/plain": [
       "Sanity Checking: |          | 0/? [00:00<?, ?it/s]"
      ]
     },
     "metadata": {},
     "output_type": "display_data"
    },
    {
     "data": {
      "application/vnd.jupyter.widget-view+json": {
       "model_id": "d820641446834e419b8396e5040d1aa7",
       "version_major": 2,
       "version_minor": 0
      },
      "text/plain": [
       "Training: |          | 0/? [00:00<?, ?it/s]"
      ]
     },
     "metadata": {},
     "output_type": "display_data"
    },
    {
     "data": {
      "application/vnd.jupyter.widget-view+json": {
       "model_id": "94eed485bdcb472d9dd24d58e5621659",
       "version_major": 2,
       "version_minor": 0
      },
      "text/plain": [
       "Validation: |          | 0/? [00:00<?, ?it/s]"
      ]
     },
     "metadata": {},
     "output_type": "display_data"
    },
    {
     "data": {
      "application/vnd.jupyter.widget-view+json": {
       "model_id": "a5d385ce5a6b4e89a8b0c691a18373f4",
       "version_major": 2,
       "version_minor": 0
      },
      "text/plain": [
       "Validation: |          | 0/? [00:00<?, ?it/s]"
      ]
     },
     "metadata": {},
     "output_type": "display_data"
    },
    {
     "data": {
      "application/vnd.jupyter.widget-view+json": {
       "model_id": "044f48da676c472c958173e00082df37",
       "version_major": 2,
       "version_minor": 0
      },
      "text/plain": [
       "Validation: |          | 0/? [00:00<?, ?it/s]"
      ]
     },
     "metadata": {},
     "output_type": "display_data"
    },
    {
     "name": "stderr",
     "output_type": "stream",
     "text": [
      "`Trainer.fit` stopped: `max_steps=300` reached.\n",
      "c:\\Users\\rebek\\anaconda3\\Lib\\site-packages\\utilsforecast\\processing.py:384: FutureWarning: 'T' is deprecated and will be removed in a future version, please use 'min' instead.\n",
      "  freq = pd.tseries.frequencies.to_offset(freq)\n",
      "c:\\Users\\rebek\\anaconda3\\Lib\\site-packages\\utilsforecast\\processing.py:440: FutureWarning: 'T' is deprecated and will be removed in a future version, please use 'min' instead.\n",
      "  freq = pd.tseries.frequencies.to_offset(freq)\n",
      "GPU available: True (cuda), used: True\n",
      "TPU available: False, using: 0 TPU cores\n",
      "HPU available: False, using: 0 HPUs\n",
      "LOCAL_RANK: 0 - CUDA_VISIBLE_DEVICES: [0]\n"
     ]
    },
    {
     "data": {
      "application/vnd.jupyter.widget-view+json": {
       "model_id": "59d5cd9a6b244750a32bb11fea154d4a",
       "version_major": 2,
       "version_minor": 0
      },
      "text/plain": [
       "Predicting: |          | 0/? [00:00<?, ?it/s]"
      ]
     },
     "metadata": {},
     "output_type": "display_data"
    }
   ],
   "source": [
    "import pandas as pd\n",
    "from neuralforecast import NeuralForecast\n",
    "from neuralforecast.models import Informer\n",
    "from neuralforecast.losses.pytorch import MAE\n",
    "\n",
    "# Load and prepare the dataset\n",
    "df = pd.read_csv(\"../dataset/combined_with_cluster_feature.csv\")\n",
    "df['ds'] = pd.to_datetime(df['time'])\n",
    "df = df.rename(columns={'down': 'y', 'District': 'unique_id', 'Cluster_Feature': 'slice_label'})\n",
    "df = df[['unique_id', 'ds', 'y', 'slice_label']]\n",
    "\n",
    "results = []\n",
    "\n",
    "# Loop over each slice_label (pseudo-slice cluster)\n",
    "for slice_val in df['slice_label'].unique():\n",
    "    print(f\"\\nTraining Informer model for slice {slice_val}...\")\n",
    "    \n",
    "    df_slice = df[df['slice_label'] == slice_val]\n",
    "\n",
    "    # Define Informer model\n",
    "    model_if = Informer(\n",
    "        h=6,\n",
    "        input_size=12,\n",
    "        hidden_size=64,\n",
    "        n_head=4,\n",
    "        factor=3,\n",
    "        encoder_layers=2,\n",
    "        decoder_layers=1,\n",
    "        dropout=0.05,\n",
    "        distil=True,\n",
    "        loss=MAE(),\n",
    "        max_steps=300,\n",
    "        batch_size=32,\n",
    "    )\n",
    "\n",
    "    nf = NeuralForecast(\n",
    "        models=[model_if],\n",
    "        freq='5T'\n",
    "    )\n",
    "\n",
    "    # Fit model\n",
    "    nf.fit(\n",
    "        df=df_slice,\n",
    "        id_col='unique_id',\n",
    "        time_col='ds',\n",
    "        target_col='y'\n",
    "    )\n",
    "\n",
    "    # Predict\n",
    "    pred = nf.predict()\n",
    "    pred['slice_label'] = slice_val\n",
    "    results.append(pred)\n",
    "\n",
    "# Combine results from all slices\n",
    "final_preds = pd.concat(results)\n",
    "final_preds.to_csv(\"../dataset/predictions_informer_slice_aware.csv\", index=False)\n"
   ]
  },
  {
   "cell_type": "markdown",
   "id": "2bf68159",
   "metadata": {},
   "source": [
    "Approach 2: Use NHITS\n",
    "\n",
    "    - use the same model for all slices, but still provide slice_label as a feature"
   ]
  },
  {
   "cell_type": "code",
   "execution_count": 42,
   "id": "d78c505c",
   "metadata": {},
   "outputs": [
    {
     "name": "stderr",
     "output_type": "stream",
     "text": [
      "Seed set to 1\n",
      "GPU available: True (cuda), used: True\n",
      "TPU available: False, using: 0 TPU cores\n",
      "HPU available: False, using: 0 HPUs\n",
      "LOCAL_RANK: 0 - CUDA_VISIBLE_DEVICES: [0]\n",
      "\n",
      "  | Name         | Type          | Params | Mode \n",
      "-------------------------------------------------------\n",
      "0 | loss         | MAE           | 0      | train\n",
      "1 | padder_train | ConstantPad1d | 0      | train\n",
      "2 | scaler       | TemporalNorm  | 0      | train\n",
      "3 | blocks       | ModuleList    | 2.4 M  | train\n",
      "-------------------------------------------------------\n",
      "2.4 M     Trainable params\n",
      "0         Non-trainable params\n",
      "2.4 M     Total params\n",
      "9.654     Total estimated model params size (MB)\n",
      "34        Modules in train mode\n",
      "0         Modules in eval mode\n"
     ]
    },
    {
     "data": {
      "application/vnd.jupyter.widget-view+json": {
       "model_id": "73c1687ff1134cfb8e7210ef83eb474d",
       "version_major": 2,
       "version_minor": 0
      },
      "text/plain": [
       "Sanity Checking: |          | 0/? [00:00<?, ?it/s]"
      ]
     },
     "metadata": {},
     "output_type": "display_data"
    },
    {
     "data": {
      "application/vnd.jupyter.widget-view+json": {
       "model_id": "a6bdac7d53054ac3834dbb23118e9cc0",
       "version_major": 2,
       "version_minor": 0
      },
      "text/plain": [
       "Training: |          | 0/? [00:00<?, ?it/s]"
      ]
     },
     "metadata": {},
     "output_type": "display_data"
    },
    {
     "data": {
      "application/vnd.jupyter.widget-view+json": {
       "model_id": "e4364695325b4e6b90b3e7cf92847ec9",
       "version_major": 2,
       "version_minor": 0
      },
      "text/plain": [
       "Validation: |          | 0/? [00:00<?, ?it/s]"
      ]
     },
     "metadata": {},
     "output_type": "display_data"
    },
    {
     "data": {
      "application/vnd.jupyter.widget-view+json": {
       "model_id": "cf6d3716405642e59dffc87c462574ed",
       "version_major": 2,
       "version_minor": 0
      },
      "text/plain": [
       "Validation: |          | 0/? [00:00<?, ?it/s]"
      ]
     },
     "metadata": {},
     "output_type": "display_data"
    },
    {
     "data": {
      "application/vnd.jupyter.widget-view+json": {
       "model_id": "28d63baedeb74fe491b2c8b873489bcd",
       "version_major": 2,
       "version_minor": 0
      },
      "text/plain": [
       "Validation: |          | 0/? [00:00<?, ?it/s]"
      ]
     },
     "metadata": {},
     "output_type": "display_data"
    },
    {
     "data": {
      "application/vnd.jupyter.widget-view+json": {
       "model_id": "3f2fb3638a9f466bab0fcd6211aa22ca",
       "version_major": 2,
       "version_minor": 0
      },
      "text/plain": [
       "Validation: |          | 0/? [00:00<?, ?it/s]"
      ]
     },
     "metadata": {},
     "output_type": "display_data"
    },
    {
     "data": {
      "application/vnd.jupyter.widget-view+json": {
       "model_id": "6d89bcf8edbf4a7b9796c54b9b733e3d",
       "version_major": 2,
       "version_minor": 0
      },
      "text/plain": [
       "Validation: |          | 0/? [00:00<?, ?it/s]"
      ]
     },
     "metadata": {},
     "output_type": "display_data"
    },
    {
     "name": "stderr",
     "output_type": "stream",
     "text": [
      "`Trainer.fit` stopped: `max_steps=500` reached.\n",
      "c:\\Users\\rebek\\anaconda3\\Lib\\site-packages\\utilsforecast\\processing.py:384: FutureWarning: 'T' is deprecated and will be removed in a future version, please use 'min' instead.\n",
      "  freq = pd.tseries.frequencies.to_offset(freq)\n",
      "c:\\Users\\rebek\\anaconda3\\Lib\\site-packages\\utilsforecast\\processing.py:440: FutureWarning: 'T' is deprecated and will be removed in a future version, please use 'min' instead.\n",
      "  freq = pd.tseries.frequencies.to_offset(freq)\n",
      "GPU available: True (cuda), used: True\n",
      "TPU available: False, using: 0 TPU cores\n",
      "HPU available: False, using: 0 HPUs\n",
      "LOCAL_RANK: 0 - CUDA_VISIBLE_DEVICES: [0]\n"
     ]
    },
    {
     "data": {
      "application/vnd.jupyter.widget-view+json": {
       "model_id": "ca471a8ea0664ea78c1ee96b339e112d",
       "version_major": 2,
       "version_minor": 0
      },
      "text/plain": [
       "Predicting: |          | 0/? [00:00<?, ?it/s]"
      ]
     },
     "metadata": {},
     "output_type": "display_data"
    }
   ],
   "source": [
    "from neuralforecast import NeuralForecast\n",
    "from neuralforecast.models import NHITS\n",
    "from neuralforecast.losses.pytorch import MAE\n",
    "\n",
    "# Make sure 'slice_label' is present for every row in df\n",
    "# df should already have columns: ['unique_id', 'ds', 'y', 'slice_label']\n",
    "\n",
    "model_nhits = NHITS(\n",
    "    h=6,                      # Forecast horizon\n",
    "    input_size=12,            # Look-back window\n",
    "    max_steps=500,\n",
    "    batch_size=32,\n",
    "    hist_exog_list=['slice_label'],  # Add slice_label as historical exogenous\n",
    "    loss=MAE()\n",
    ")\n",
    "\n",
    "nf = NeuralForecast(\n",
    "    models=[model_nhits],\n",
    "    freq='5T'\n",
    ")\n",
    "\n",
    "nf.fit(\n",
    "    df=df,\n",
    "    id_col='unique_id',\n",
    "    time_col='ds',\n",
    "    target_col='y'\n",
    ")\n",
    "\n",
    "pred_nhits = nf.predict()\n",
    "pred_nhits.to_csv(\"../dataset/predictions_nhits_with_slice.csv\", index=False)"
   ]
  },
  {
   "cell_type": "code",
   "execution_count": 43,
   "id": "3b09d8dc",
   "metadata": {},
   "outputs": [
    {
     "name": "stderr",
     "output_type": "stream",
     "text": [
      "Seed set to 1\n",
      "GPU available: True (cuda), used: True\n",
      "TPU available: False, using: 0 TPU cores\n",
      "HPU available: False, using: 0 HPUs\n",
      "LOCAL_RANK: 0 - CUDA_VISIBLE_DEVICES: [0]\n"
     ]
    },
    {
     "name": "stdout",
     "output_type": "stream",
     "text": [
      "\n",
      "Training TimesNet model for slice 0...\n"
     ]
    },
    {
     "name": "stderr",
     "output_type": "stream",
     "text": [
      "\n",
      "  | Name           | Type          | Params | Mode \n",
      "---------------------------------------------------------\n",
      "0 | loss           | MAE           | 0      | train\n",
      "1 | padder_train   | ConstantPad1d | 0      | train\n",
      "2 | scaler         | TemporalNorm  | 0      | train\n",
      "3 | model          | ModuleList    | 688 K  | train\n",
      "4 | enc_embedding  | DataEmbedding | 192    | train\n",
      "5 | layer_norm     | LayerNorm     | 128    | train\n",
      "6 | predict_linear | Linear        | 234    | train\n",
      "7 | projection     | Linear        | 65     | train\n",
      "---------------------------------------------------------\n",
      "689 K     Trainable params\n",
      "0         Non-trainable params\n",
      "689 K     Total params\n",
      "2.758     Total estimated model params size (MB)\n",
      "42        Modules in train mode\n",
      "0         Modules in eval mode\n"
     ]
    },
    {
     "data": {
      "application/vnd.jupyter.widget-view+json": {
       "model_id": "a2caff8617fc4ad2a2dfca9232b6a3a8",
       "version_major": 2,
       "version_minor": 0
      },
      "text/plain": [
       "Sanity Checking: |          | 0/? [00:00<?, ?it/s]"
      ]
     },
     "metadata": {},
     "output_type": "display_data"
    },
    {
     "data": {
      "application/vnd.jupyter.widget-view+json": {
       "model_id": "0411e3f1ca084dee9d1d647d9f802daf",
       "version_major": 2,
       "version_minor": 0
      },
      "text/plain": [
       "Training: |          | 0/? [00:00<?, ?it/s]"
      ]
     },
     "metadata": {},
     "output_type": "display_data"
    },
    {
     "data": {
      "application/vnd.jupyter.widget-view+json": {
       "model_id": "504793b1e991419e895a76e45826adf3",
       "version_major": 2,
       "version_minor": 0
      },
      "text/plain": [
       "Validation: |          | 0/? [00:00<?, ?it/s]"
      ]
     },
     "metadata": {},
     "output_type": "display_data"
    },
    {
     "data": {
      "application/vnd.jupyter.widget-view+json": {
       "model_id": "bd3e38821b7d466791e8a311986a1417",
       "version_major": 2,
       "version_minor": 0
      },
      "text/plain": [
       "Validation: |          | 0/? [00:00<?, ?it/s]"
      ]
     },
     "metadata": {},
     "output_type": "display_data"
    },
    {
     "data": {
      "application/vnd.jupyter.widget-view+json": {
       "model_id": "e2efebde0147438fbef3780cc6da438f",
       "version_major": 2,
       "version_minor": 0
      },
      "text/plain": [
       "Validation: |          | 0/? [00:00<?, ?it/s]"
      ]
     },
     "metadata": {},
     "output_type": "display_data"
    },
    {
     "data": {
      "application/vnd.jupyter.widget-view+json": {
       "model_id": "53191b237bee4d008bb7e39035b93855",
       "version_major": 2,
       "version_minor": 0
      },
      "text/plain": [
       "Validation: |          | 0/? [00:00<?, ?it/s]"
      ]
     },
     "metadata": {},
     "output_type": "display_data"
    },
    {
     "data": {
      "application/vnd.jupyter.widget-view+json": {
       "model_id": "a99872acaa6c40b89f78c077231b3f9c",
       "version_major": 2,
       "version_minor": 0
      },
      "text/plain": [
       "Validation: |          | 0/? [00:00<?, ?it/s]"
      ]
     },
     "metadata": {},
     "output_type": "display_data"
    },
    {
     "name": "stderr",
     "output_type": "stream",
     "text": [
      "`Trainer.fit` stopped: `max_steps=500` reached.\n",
      "c:\\Users\\rebek\\anaconda3\\Lib\\site-packages\\utilsforecast\\processing.py:384: FutureWarning: 'T' is deprecated and will be removed in a future version, please use 'min' instead.\n",
      "  freq = pd.tseries.frequencies.to_offset(freq)\n",
      "c:\\Users\\rebek\\anaconda3\\Lib\\site-packages\\utilsforecast\\processing.py:440: FutureWarning: 'T' is deprecated and will be removed in a future version, please use 'min' instead.\n",
      "  freq = pd.tseries.frequencies.to_offset(freq)\n",
      "GPU available: True (cuda), used: True\n",
      "TPU available: False, using: 0 TPU cores\n",
      "HPU available: False, using: 0 HPUs\n",
      "LOCAL_RANK: 0 - CUDA_VISIBLE_DEVICES: [0]\n"
     ]
    },
    {
     "data": {
      "application/vnd.jupyter.widget-view+json": {
       "model_id": "3439d020344049dd91f771c05e3014af",
       "version_major": 2,
       "version_minor": 0
      },
      "text/plain": [
       "Predicting: |          | 0/? [00:00<?, ?it/s]"
      ]
     },
     "metadata": {},
     "output_type": "display_data"
    },
    {
     "name": "stderr",
     "output_type": "stream",
     "text": [
      "Seed set to 1\n",
      "GPU available: True (cuda), used: True\n",
      "TPU available: False, using: 0 TPU cores\n",
      "HPU available: False, using: 0 HPUs\n",
      "LOCAL_RANK: 0 - CUDA_VISIBLE_DEVICES: [0]\n",
      "\n",
      "  | Name           | Type          | Params | Mode \n",
      "---------------------------------------------------------\n",
      "0 | loss           | MAE           | 0      | train\n",
      "1 | padder_train   | ConstantPad1d | 0      | train\n",
      "2 | scaler         | TemporalNorm  | 0      | train\n",
      "3 | model          | ModuleList    | 688 K  | train\n",
      "4 | enc_embedding  | DataEmbedding | 192    | train\n",
      "5 | layer_norm     | LayerNorm     | 128    | train\n",
      "6 | predict_linear | Linear        | 234    | train\n",
      "7 | projection     | Linear        | 65     | train\n",
      "---------------------------------------------------------\n",
      "689 K     Trainable params\n",
      "0         Non-trainable params\n",
      "689 K     Total params\n",
      "2.758     Total estimated model params size (MB)\n",
      "42        Modules in train mode\n",
      "0         Modules in eval mode\n"
     ]
    },
    {
     "name": "stdout",
     "output_type": "stream",
     "text": [
      "\n",
      "Training TimesNet model for slice 1...\n"
     ]
    },
    {
     "data": {
      "application/vnd.jupyter.widget-view+json": {
       "model_id": "997f2c7678b44308a7d440f0fa246222",
       "version_major": 2,
       "version_minor": 0
      },
      "text/plain": [
       "Sanity Checking: |          | 0/? [00:00<?, ?it/s]"
      ]
     },
     "metadata": {},
     "output_type": "display_data"
    },
    {
     "data": {
      "application/vnd.jupyter.widget-view+json": {
       "model_id": "3546ce05f5bb4092a40dcf6f8ad4894f",
       "version_major": 2,
       "version_minor": 0
      },
      "text/plain": [
       "Training: |          | 0/? [00:00<?, ?it/s]"
      ]
     },
     "metadata": {},
     "output_type": "display_data"
    },
    {
     "data": {
      "application/vnd.jupyter.widget-view+json": {
       "model_id": "6abe06268cfb43ce9dac4c31fcb7ce75",
       "version_major": 2,
       "version_minor": 0
      },
      "text/plain": [
       "Validation: |          | 0/? [00:00<?, ?it/s]"
      ]
     },
     "metadata": {},
     "output_type": "display_data"
    },
    {
     "data": {
      "application/vnd.jupyter.widget-view+json": {
       "model_id": "97ae616d9824440e9b09089ef1b25a64",
       "version_major": 2,
       "version_minor": 0
      },
      "text/plain": [
       "Validation: |          | 0/? [00:00<?, ?it/s]"
      ]
     },
     "metadata": {},
     "output_type": "display_data"
    },
    {
     "data": {
      "application/vnd.jupyter.widget-view+json": {
       "model_id": "c89749510cce4cb4865efa6ca33ba8a3",
       "version_major": 2,
       "version_minor": 0
      },
      "text/plain": [
       "Validation: |          | 0/? [00:00<?, ?it/s]"
      ]
     },
     "metadata": {},
     "output_type": "display_data"
    },
    {
     "data": {
      "application/vnd.jupyter.widget-view+json": {
       "model_id": "eefc2ec3a77b4c30a7d43fa87a02a9bf",
       "version_major": 2,
       "version_minor": 0
      },
      "text/plain": [
       "Validation: |          | 0/? [00:00<?, ?it/s]"
      ]
     },
     "metadata": {},
     "output_type": "display_data"
    },
    {
     "data": {
      "application/vnd.jupyter.widget-view+json": {
       "model_id": "c3eeb9108f7547ada76feb5b8d2e95f8",
       "version_major": 2,
       "version_minor": 0
      },
      "text/plain": [
       "Validation: |          | 0/? [00:00<?, ?it/s]"
      ]
     },
     "metadata": {},
     "output_type": "display_data"
    },
    {
     "name": "stderr",
     "output_type": "stream",
     "text": [
      "`Trainer.fit` stopped: `max_steps=500` reached.\n",
      "c:\\Users\\rebek\\anaconda3\\Lib\\site-packages\\utilsforecast\\processing.py:384: FutureWarning: 'T' is deprecated and will be removed in a future version, please use 'min' instead.\n",
      "  freq = pd.tseries.frequencies.to_offset(freq)\n",
      "c:\\Users\\rebek\\anaconda3\\Lib\\site-packages\\utilsforecast\\processing.py:440: FutureWarning: 'T' is deprecated and will be removed in a future version, please use 'min' instead.\n",
      "  freq = pd.tseries.frequencies.to_offset(freq)\n",
      "GPU available: True (cuda), used: True\n",
      "TPU available: False, using: 0 TPU cores\n",
      "HPU available: False, using: 0 HPUs\n",
      "LOCAL_RANK: 0 - CUDA_VISIBLE_DEVICES: [0]\n"
     ]
    },
    {
     "data": {
      "application/vnd.jupyter.widget-view+json": {
       "model_id": "09f573c643104df59ee2f14fb5804d36",
       "version_major": 2,
       "version_minor": 0
      },
      "text/plain": [
       "Predicting: |          | 0/? [00:00<?, ?it/s]"
      ]
     },
     "metadata": {},
     "output_type": "display_data"
    },
    {
     "name": "stderr",
     "output_type": "stream",
     "text": [
      "Seed set to 1\n",
      "GPU available: True (cuda), used: True\n",
      "TPU available: False, using: 0 TPU cores\n",
      "HPU available: False, using: 0 HPUs\n",
      "LOCAL_RANK: 0 - CUDA_VISIBLE_DEVICES: [0]\n",
      "\n",
      "  | Name           | Type          | Params | Mode \n",
      "---------------------------------------------------------\n",
      "0 | loss           | MAE           | 0      | train\n",
      "1 | padder_train   | ConstantPad1d | 0      | train\n",
      "2 | scaler         | TemporalNorm  | 0      | train\n",
      "3 | model          | ModuleList    | 688 K  | train\n",
      "4 | enc_embedding  | DataEmbedding | 192    | train\n",
      "5 | layer_norm     | LayerNorm     | 128    | train\n",
      "6 | predict_linear | Linear        | 234    | train\n",
      "7 | projection     | Linear        | 65     | train\n",
      "---------------------------------------------------------\n",
      "689 K     Trainable params\n",
      "0         Non-trainable params\n",
      "689 K     Total params\n",
      "2.758     Total estimated model params size (MB)\n",
      "42        Modules in train mode\n",
      "0         Modules in eval mode\n"
     ]
    },
    {
     "name": "stdout",
     "output_type": "stream",
     "text": [
      "\n",
      "Training TimesNet model for slice 2...\n"
     ]
    },
    {
     "data": {
      "application/vnd.jupyter.widget-view+json": {
       "model_id": "18c35c4d880b491cbc1aaa907a0d6da8",
       "version_major": 2,
       "version_minor": 0
      },
      "text/plain": [
       "Sanity Checking: |          | 0/? [00:00<?, ?it/s]"
      ]
     },
     "metadata": {},
     "output_type": "display_data"
    },
    {
     "data": {
      "application/vnd.jupyter.widget-view+json": {
       "model_id": "d2c8dd079001492b87cd2f95698e25fd",
       "version_major": 2,
       "version_minor": 0
      },
      "text/plain": [
       "Training: |          | 0/? [00:00<?, ?it/s]"
      ]
     },
     "metadata": {},
     "output_type": "display_data"
    },
    {
     "data": {
      "application/vnd.jupyter.widget-view+json": {
       "model_id": "cd29c614c3cf49aaa92ba9727802a815",
       "version_major": 2,
       "version_minor": 0
      },
      "text/plain": [
       "Validation: |          | 0/? [00:00<?, ?it/s]"
      ]
     },
     "metadata": {},
     "output_type": "display_data"
    },
    {
     "data": {
      "application/vnd.jupyter.widget-view+json": {
       "model_id": "a68ed4e750484fcfb6ebb60c5390c215",
       "version_major": 2,
       "version_minor": 0
      },
      "text/plain": [
       "Validation: |          | 0/? [00:00<?, ?it/s]"
      ]
     },
     "metadata": {},
     "output_type": "display_data"
    },
    {
     "data": {
      "application/vnd.jupyter.widget-view+json": {
       "model_id": "fc3da58316fa4ede884b75b9fee3ab9d",
       "version_major": 2,
       "version_minor": 0
      },
      "text/plain": [
       "Validation: |          | 0/? [00:00<?, ?it/s]"
      ]
     },
     "metadata": {},
     "output_type": "display_data"
    },
    {
     "data": {
      "application/vnd.jupyter.widget-view+json": {
       "model_id": "bd5bbc3af7d94c92b46ea1576a1f8187",
       "version_major": 2,
       "version_minor": 0
      },
      "text/plain": [
       "Validation: |          | 0/? [00:00<?, ?it/s]"
      ]
     },
     "metadata": {},
     "output_type": "display_data"
    },
    {
     "data": {
      "application/vnd.jupyter.widget-view+json": {
       "model_id": "e246f8251cbf4eceaa79281683df92fc",
       "version_major": 2,
       "version_minor": 0
      },
      "text/plain": [
       "Validation: |          | 0/? [00:00<?, ?it/s]"
      ]
     },
     "metadata": {},
     "output_type": "display_data"
    },
    {
     "name": "stderr",
     "output_type": "stream",
     "text": [
      "`Trainer.fit` stopped: `max_steps=500` reached.\n",
      "c:\\Users\\rebek\\anaconda3\\Lib\\site-packages\\utilsforecast\\processing.py:384: FutureWarning: 'T' is deprecated and will be removed in a future version, please use 'min' instead.\n",
      "  freq = pd.tseries.frequencies.to_offset(freq)\n",
      "c:\\Users\\rebek\\anaconda3\\Lib\\site-packages\\utilsforecast\\processing.py:440: FutureWarning: 'T' is deprecated and will be removed in a future version, please use 'min' instead.\n",
      "  freq = pd.tseries.frequencies.to_offset(freq)\n",
      "GPU available: True (cuda), used: True\n",
      "TPU available: False, using: 0 TPU cores\n",
      "HPU available: False, using: 0 HPUs\n",
      "LOCAL_RANK: 0 - CUDA_VISIBLE_DEVICES: [0]\n"
     ]
    },
    {
     "data": {
      "application/vnd.jupyter.widget-view+json": {
       "model_id": "fbed4c320f80433fb86d23004efa008d",
       "version_major": 2,
       "version_minor": 0
      },
      "text/plain": [
       "Predicting: |          | 0/? [00:00<?, ?it/s]"
      ]
     },
     "metadata": {},
     "output_type": "display_data"
    }
   ],
   "source": [
    "from neuralforecast import NeuralForecast\n",
    "from neuralforecast.models import TimesNet\n",
    "from neuralforecast.losses.pytorch import MAE\n",
    "\n",
    "results = []\n",
    "\n",
    "for sl in df['slice_label'].unique():\n",
    "    print(f\"\\nTraining TimesNet model for slice {sl}...\")\n",
    "    df_slice = df[df['slice_label'] == sl]\n",
    "\n",
    "    model_tn = TimesNet(\n",
    "        h=6,\n",
    "        input_size=12,\n",
    "        hidden_size=64,\n",
    "        conv_hidden_size=32,\n",
    "        num_kernels=4,\n",
    "        encoder_layers=2,\n",
    "        loss=MAE(),\n",
    "        max_steps=500,\n",
    "        batch_size=32\n",
    "    )\n",
    "\n",
    "    nf = NeuralForecast(\n",
    "        models=[model_tn],\n",
    "        freq='5T'\n",
    "    )\n",
    "\n",
    "    nf.fit(\n",
    "        df=df_slice,\n",
    "        id_col='unique_id',\n",
    "        time_col='ds',\n",
    "        target_col='y'\n",
    "    )\n",
    "\n",
    "    pred = nf.predict()\n",
    "    pred['slice_label'] = sl\n",
    "    results.append(pred)\n",
    "\n",
    "# Combine predictions from all slices\n",
    "final_preds = pd.concat(results)\n",
    "final_preds.to_csv(\"../dataset/predictions_timesnet_slice_aware.csv\", index=False)"
   ]
  },
  {
   "cell_type": "markdown",
   "id": "b8b1564e",
   "metadata": {},
   "source": [
    "Evaluation"
   ]
  },
  {
   "cell_type": "code",
   "execution_count": 45,
   "id": "88dc829c",
   "metadata": {},
   "outputs": [
    {
     "name": "stdout",
     "output_type": "stream",
     "text": [
      "=== Overall Evaluation ===\n",
      "Informer: MAE=78035131.35, RMSE=99209541.34\n",
      "TimesNet: MAE=191806176.00, RMSE=261388187.27\n"
     ]
    }
   ],
   "source": [
    "import pandas as pd\n",
    "from sklearn.metrics import mean_absolute_error, mean_squared_error\n",
    "import numpy as np\n",
    "\n",
    "# Load ground truth\n",
    "df = pd.read_csv(\"../dataset/combined_with_cluster_feature.csv\")\n",
    "df['ds'] = pd.to_datetime(df['time'])\n",
    "df = df.rename(columns={'down': 'y', 'District': 'unique_id'})\n",
    "df = df[['unique_id', 'ds', 'y']]\n",
    "\n",
    "# Load predictions\n",
    "pred_inf = pd.read_csv(\"../dataset/predictions_informer_slice_aware.csv\")\n",
    "pred_inf['ds'] = pd.to_datetime(pred_inf['ds'])\n",
    "\n",
    "pred_tn = pd.read_csv(\"../dataset/predictions_timesnet_slice_aware.csv\")\n",
    "pred_tn['ds'] = pd.to_datetime(pred_tn['ds'])\n",
    "\n",
    "# Merge predictions with ground truth\n",
    "merged = df.merge(pred_inf[['unique_id', 'ds', 'Informer']], on=['unique_id', 'ds'], how='left')\n",
    "merged = merged.merge(pred_tn[['unique_id', 'ds', 'TimesNet']], on=['unique_id', 'ds'], how='left')\n",
    "\n",
    "print(\"=== Overall Evaluation ===\")\n",
    "for model in ['Informer', 'TimesNet']:\n",
    "    valid = merged[['y', model]].dropna()\n",
    "    if len(valid) > 0:\n",
    "        mae = mean_absolute_error(valid['y'], valid[model])\n",
    "        rmse = np.sqrt(mean_squared_error(valid['y'], valid[model]))\n",
    "        print(f\"{model}: MAE={mae:.2f}, RMSE={rmse:.2f}\")\n",
    "    else:\n",
    "        print(f\"{model}: No predictions available.\")"
   ]
  }
 ],
 "metadata": {
  "kernelspec": {
   "display_name": "base",
   "language": "python",
   "name": "python3"
  },
  "language_info": {
   "codemirror_mode": {
    "name": "ipython",
    "version": 3
   },
   "file_extension": ".py",
   "mimetype": "text/x-python",
   "name": "python",
   "nbconvert_exporter": "python",
   "pygments_lexer": "ipython3",
   "version": "3.11.5"
  }
 },
 "nbformat": 4,
 "nbformat_minor": 5
}
