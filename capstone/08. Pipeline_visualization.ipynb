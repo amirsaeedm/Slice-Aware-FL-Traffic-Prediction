{
 "cells": [
  {
   "cell_type": "code",
   "execution_count": 1,
   "id": "501d6e82",
   "metadata": {},
   "outputs": [],
   "source": [
    "import os, sys, warnings, re\n",
    "warnings.filterwarnings(\"ignore\")\n",
    "\n",
    "import numpy as np\n",
    "import pandas as pd\n",
    "from argparse import Namespace\n",
    "\n",
    "import torch\n",
    "import torch.nn as nn\n",
    "from torch.utils.data import DataLoader, TensorDataset\n",
    "\n",
    "from sklearn.preprocessing import MinMaxScaler, StandardScaler\n",
    "\n",
    "import plotly.graph_objects as go\n",
    "from plotly.subplots import make_subplots\n",
    "\n",
    "# Make sure we can import your project modules\n",
    "sys.path.append(os.path.abspath(os.path.join(os.getcwd(), '..')))\n",
    "\n",
    "from ml.models.seq2seq_lstm import Seq2SeqLSTM\n",
    "from ml.models.transformer import TimeSeriesTransformer"
   ]
  },
  {
   "cell_type": "code",
   "execution_count": 2,
   "id": "05e459ea",
   "metadata": {},
   "outputs": [],
   "source": [
    "# -----------------------------\n",
    "# Config\n",
    "# -----------------------------\n",
    "DATA_PATH = \"../dataset/combined_with_cluster_feature.csv\"   # clustered dataset\n",
    "DEVICE    = torch.device(\"cuda\" if torch.cuda.is_available() else \"cpu\")\n",
    "\n",
    "# Choose station + model here\n",
    "STATION   = \"ElBorn\"     # one of: \"ElBorn\", \"LesCorts\", \"PobleSec\"\n",
    "MODEL_SEL = \"Seq2Seq\"    # \"Seq2Seq\" or \"Transformer\"\n",
    "\n",
    "L = 10  # num_lags\n",
    "H = 6   # forecast steps\n",
    "TARGETS = ['rnti_count','rb_down','rb_up','down','up']  # T=5\n",
    "\n",
    "CKPT_SEQ2SEQ = \"seq2seq_cluster_huber.pt\"\n",
    "CKPT_TRANS   = \"transformer_multistep_cluster.pt\""
   ]
  },
  {
   "cell_type": "code",
   "execution_count": 3,
   "id": "6ca399ec",
   "metadata": {},
   "outputs": [],
   "source": [
    "# -----------------------------\n",
    "# Helpers\n",
    "# -----------------------------\n",
    "def clamp_nonneg(x):\n",
    "    return np.maximum(x, 0.0)\n",
    "\n",
    "def ensure_time(df):\n",
    "    \"\"\"Ensure a proper datetime 'time' column exists and sorted.\"\"\"\n",
    "    if 'time' not in df.columns:\n",
    "        raise ValueError(\"Dataset must have a 'time' column.\")\n",
    "    df = df.copy()\n",
    "    df['time'] = pd.to_datetime(df['time'], errors='coerce')\n",
    "    df = df.dropna(subset=['time']).sort_values('time')\n",
    "    return df\n",
    "\n",
    "def split_xy_build_single_sample(df_station, L, H, targets, x_scaler_type='minmax', y_scaler_type='minmax'):\n",
    "    \"\"\"\n",
    "    From a single-station dataframe, build a single sample at the last valid index:\n",
    "      - build lag features for ALL numeric X columns\n",
    "      - build multi-step targets for 'targets'\n",
    "      - return: (X_sample_scaled [1,L,D], y_future_scaled [1,H,T], y_scaler, lag_times, future_times)\n",
    "      - also return lagged ORIGINAL target values for plotting (inverse from df directly)\n",
    "    \"\"\"\n",
    "    df = df_station.copy()\n",
    "    df = ensure_time(df)\n",
    "\n",
    "    # Separate inputs and targets\n",
    "    X_raw = df.drop(columns=[c for c in targets if c in df.columns], errors='ignore')\n",
    "    # Keep only numeric for X\n",
    "    X_raw = X_raw.select_dtypes(include=[np.number]).copy()\n",
    "\n",
    "    # Targets\n",
    "    y_raw = df[targets].copy()\n",
    "\n",
    "    # Fit scalers (minmax by default, to mimic your training)\n",
    "    x_scaler = MinMaxScaler() if x_scaler_type == 'minmax' else StandardScaler()\n",
    "    y_scaler = MinMaxScaler() if y_scaler_type == 'minmax' else StandardScaler()\n",
    "\n",
    "    X_scaled = pd.DataFrame(x_scaler.fit_transform(X_raw), columns=X_raw.columns, index=X_raw.index)\n",
    "    y_scaled = pd.DataFrame(y_scaler.fit_transform(y_raw), columns=y_raw.columns, index=y_raw.index)\n",
    "\n",
    "    # Generate lag features for X\n",
    "    X_lagged = []\n",
    "    lag_cols = []\n",
    "    for col in X_scaled.columns:\n",
    "        for lag in range(1, L+1):\n",
    "            X_lagged.append(X_scaled[col].shift(lag))\n",
    "            lag_cols.append(f\"{col}_lag_{lag}\")\n",
    "    X_lagged = pd.concat(X_lagged, axis=1)\n",
    "    X_lagged.columns = lag_cols\n",
    "\n",
    "    # Build multi-step future targets on scaled space\n",
    "    y_future_cols = []\n",
    "    for step in range(1, H+1):\n",
    "        for tcol in targets:\n",
    "            y_future_cols.append(y_scaled[tcol].shift(-step))\n",
    "    y_future = pd.concat(y_future_cols, axis=1)\n",
    "    y_future.columns = [f\"{c}_step_{i}\" for i in range(1, H+1) for c in targets]\n",
    "\n",
    "    data = pd.concat([df[['time']], X_lagged, y_future, y_scaled], axis=1).dropna()\n",
    "    # We'll select the last fully valid row as our anchor\n",
    "    last_idx = data.index[-1]\n",
    "\n",
    "    # Reconstruct X window [L, D] from columns\n",
    "    X_final = data.loc[:, X_lagged.columns].to_numpy()    # [N, L*D_all]\n",
    "    N, LD   = X_final.shape\n",
    "    D_all   = LD // L\n",
    "    X_final = X_final.reshape(N, L, D_all)\n",
    "\n",
    "    # reshape y_future to [N,H,T]\n",
    "    y_final = data.loc[:, y_future.columns].to_numpy().reshape(N, H, len(targets))\n",
    "\n",
    "    # select the last sample\n",
    "    X_sample = X_final[-1:, :, :]      # [1,L,D]\n",
    "    y_sample = y_final[-1:, :, :]      # [1,H,T]  (scaled)\n",
    "\n",
    "    # Times to plot\n",
    "    # lag times: last L time stamps ending at last_idx's time; compute based on original df time\n",
    "    # We need the row position in df\n",
    "    pos_in_df = df.index.get_loc(last_idx)\n",
    "    if isinstance(pos_in_df, slice):\n",
    "        # get the end of slice\n",
    "        pos_in_df = pos_in_df.stop - 1\n",
    "    # take last L times (ensure bounds)\n",
    "    start_pos = max(0, pos_in_df - L)\n",
    "    lag_times = df.iloc[start_pos:pos_in_df]['time'].tolist() + [df.iloc[pos_in_df]['time']]\n",
    "    lag_times = lag_times[-L:]  # exactly L\n",
    "    # future times: next H rows if they exist, else infer by frequency (use df time gaps)\n",
    "    future_times = []\n",
    "    if pos_in_df + H < len(df):\n",
    "        future_times = df.iloc[pos_in_df+1:pos_in_df+1+H]['time'].tolist()\n",
    "    else:\n",
    "        # infer frequency from median delta\n",
    "        times = df['time'].sort_values().values\n",
    "        if len(times) >= 2:\n",
    "            freq = pd.to_timedelta(pd.Series(times).diff().dropna()).median()\n",
    "        else:\n",
    "            freq = pd.to_timedelta(\"2min\")\n",
    "        t0 = df.iloc[pos_in_df]['time']\n",
    "        future_times = [t0 + (i+1)*freq for i in range(H)]\n",
    "\n",
    "    # Also capture the ORIGINAL (unscaled) lag target values to plot left side\n",
    "    lag_targets_orig = df[targets].iloc[pos_in_df-L+1:pos_in_df+1].to_numpy()  # [L,T]\n",
    "\n",
    "    return X_sample, y_sample, y_scaler, lag_times, future_times, lag_targets_orig\n",
    "\n",
    "def load_model(model_sel, D, T, H, device):\n",
    "    if model_sel == \"Seq2Seq\":\n",
    "        model = Seq2SeqLSTM(\n",
    "            input_size=D, hidden_size=64,\n",
    "            output_size=T, forecast_steps=H, num_layers=1\n",
    "        ).to(device)\n",
    "        model.load_state_dict(torch.load(CKPT_SEQ2SEQ, map_location=device), strict=True)\n",
    "    elif model_sel == \"Transformer\":\n",
    "        model = TimeSeriesTransformer(\n",
    "            input_size=D, output_size=T, forecast_steps=H,\n",
    "            d_model=128, nhead=4,\n",
    "            num_encoder_layers=2, num_decoder_layers=2,\n",
    "            dim_feedforward=256, dropout=0.1\n",
    "        ).to(device)\n",
    "        model.load_state_dict(torch.load(CKPT_TRANS, map_location=device), strict=True)\n",
    "    else:\n",
    "        raise ValueError(\"MODEL_SEL must be 'Seq2Seq' or 'Transformer'\")\n",
    "    model.eval()\n",
    "    return model\n",
    "\n",
    "def inverse_targets_scaled(y_scaled_2d, y_scaler):\n",
    "    \"\"\"\n",
    "    Inverse-transform a 2D array [N, T] (here we pass [H, T] or [1, T]).\n",
    "    \"\"\"\n",
    "    return y_scaler.inverse_transform(y_scaled_2d)"
   ]
  },
  {
   "cell_type": "code",
   "execution_count": 4,
   "id": "e3c5d03a",
   "metadata": {},
   "outputs": [],
   "source": [
    "# -----------------------------\n",
    "# 1) Load & filter data\n",
    "# -----------------------------\n",
    "df_all = pd.read_csv(DATA_PATH)\n",
    "if 'District' not in df_all.columns:\n",
    "    raise ValueError(\"Expected a 'District' column in the dataset.\")\n",
    "\n",
    "df_station = df_all[df_all['District'] == STATION].copy()\n",
    "if df_station.empty:\n",
    "    raise ValueError(f\"No rows for station '{STATION}' found in {DATA_PATH}.\")\n",
    "df_station = ensure_time(df_station)"
   ]
  },
  {
   "cell_type": "code",
   "execution_count": 5,
   "id": "a4fc8825",
   "metadata": {},
   "outputs": [],
   "source": [
    "# -----------------------------\n",
    "# 2) Build a single sample & times\n",
    "# -----------------------------\n",
    "X_sample, y_sample_scaled, y_scaler, lag_times, future_times, lag_targets_orig = \\\n",
    "    split_xy_build_single_sample(df_station, L=L, H=H, targets=TARGETS,\n",
    "                                 x_scaler_type='minmax', y_scaler_type='minmax')"
   ]
  },
  {
   "cell_type": "code",
   "execution_count": 6,
   "id": "becdfdac",
   "metadata": {},
   "outputs": [],
   "source": [
    "# -----------------------------\n",
    "# 3) Load model & predict\n",
    "# -----------------------------\n",
    "_, L_, D = X_sample.shape\n",
    "T = len(TARGETS)\n",
    "\n",
    "model = load_model(MODEL_SEL, D=D, T=T, H=H, device=DEVICE)\n",
    "\n",
    "with torch.no_grad():\n",
    "    xb = torch.tensor(X_sample, dtype=torch.float32, device=DEVICE)   # [1,L,D]\n",
    "    if MODEL_SEL == \"Seq2Seq\":\n",
    "        preds_scaled = model(xb, teacher_forcing_ratio=0.0)           # [1,H,T]\n",
    "    else:\n",
    "        preds_scaled = model(xb)                                      # [1,H,T]\n",
    "preds_scaled = preds_scaled.squeeze(0).cpu().numpy()                  # [H,T]\n",
    "\n",
    "# Inverse-transform predictions to ORIGINAL space\n",
    "preds_orig = inverse_targets_scaled(preds_scaled, y_scaler)           # [H,T]\n",
    "preds_orig = clamp_nonneg(preds_orig)"
   ]
  },
  {
   "cell_type": "code",
   "execution_count": 7,
   "id": "cb01e035",
   "metadata": {},
   "outputs": [
    {
     "data": {
      "application/vnd.plotly.v1+json": {
       "config": {
        "plotlyServerURL": "https://plot.ly"
       },
       "data": [
        {
         "mode": "lines+markers",
         "name": "rnti_count (lags)",
         "showlegend": true,
         "type": "scatter",
         "x": [
          "2018-04-03T11:08:00",
          "2018-04-03T11:10:00",
          "2018-04-03T11:12:00",
          "2018-04-03T11:14:00",
          "2018-04-03T11:16:00",
          "2018-04-03T11:18:00",
          "2018-04-03T11:20:00",
          "2018-04-03T11:22:00",
          "2018-04-03T11:24:00",
          "2018-04-03T11:26:00"
         ],
         "xaxis": "x",
         "y": [
          10498,
          7648,
          10094,
          9063,
          8234,
          8775,
          9875,
          10517,
          9023,
          8584
         ],
         "yaxis": "y"
        },
        {
         "line": {
          "dash": "dash"
         },
         "mode": "lines+markers",
         "name": "rnti_count (pred t+1..t+6)",
         "showlegend": true,
         "type": "scatter",
         "x": [
          "2018-04-03T11:28:00",
          "2018-04-03T11:30:00",
          "2018-04-03T11:32:00",
          "2018-04-03T11:34:00",
          "2018-04-03T11:36:00",
          "2018-04-03T11:38:00"
         ],
         "xaxis": "x",
         "y": [
          9845.478,
          9817.961,
          9754.083,
          9660.374,
          9578.082,
          9526.433
         ],
         "yaxis": "y"
        },
        {
         "mode": "lines+markers",
         "name": "rb_down (lags)",
         "showlegend": false,
         "type": "scatter",
         "x": [
          "2018-04-03T11:08:00",
          "2018-04-03T11:10:00",
          "2018-04-03T11:12:00",
          "2018-04-03T11:14:00",
          "2018-04-03T11:16:00",
          "2018-04-03T11:18:00",
          "2018-04-03T11:20:00",
          "2018-04-03T11:22:00",
          "2018-04-03T11:24:00",
          "2018-04-03T11:26:00"
         ],
         "xaxis": "x2",
         "y": [
          0.0305488333333333,
          0.0214975833333333,
          0.0286566666666666,
          0.0254754999999999,
          0.023525,
          0.02489975,
          0.0285835833333333,
          0.0298398333333333,
          0.02519525,
          0.02385675
         ],
         "yaxis": "y2"
        },
        {
         "line": {
          "dash": "dash"
         },
         "mode": "lines+markers",
         "name": "rb_down (pred t+1..t+6)",
         "showlegend": false,
         "type": "scatter",
         "x": [
          "2018-04-03T11:28:00",
          "2018-04-03T11:30:00",
          "2018-04-03T11:32:00",
          "2018-04-03T11:34:00",
          "2018-04-03T11:36:00",
          "2018-04-03T11:38:00"
         ],
         "xaxis": "x2",
         "y": [
          0.026035983,
          0.027521335,
          0.02749158,
          0.027697686,
          0.027870513,
          0.02809822
         ],
         "yaxis": "y2"
        },
        {
         "mode": "lines+markers",
         "name": "rb_up (lags)",
         "showlegend": false,
         "type": "scatter",
         "x": [
          "2018-04-03T11:08:00",
          "2018-04-03T11:10:00",
          "2018-04-03T11:12:00",
          "2018-04-03T11:14:00",
          "2018-04-03T11:16:00",
          "2018-04-03T11:18:00",
          "2018-04-03T11:20:00",
          "2018-04-03T11:22:00",
          "2018-04-03T11:24:00",
          "2018-04-03T11:26:00"
         ],
         "xaxis": "x3",
         "y": [
          0.0005569166666666,
          0.0002645,
          0.0004894166666666,
          0.0003945,
          0.0003604166666666,
          0.0004133333333333,
          0.0004039166666666,
          0.000473,
          0.0003918333333333,
          0.0003800833333333
         ],
         "yaxis": "y3"
        },
        {
         "line": {
          "dash": "dash"
         },
         "mode": "lines+markers",
         "name": "rb_up (pred t+1..t+6)",
         "showlegend": false,
         "type": "scatter",
         "x": [
          "2018-04-03T11:28:00",
          "2018-04-03T11:30:00",
          "2018-04-03T11:32:00",
          "2018-04-03T11:34:00",
          "2018-04-03T11:36:00",
          "2018-04-03T11:38:00"
         ],
         "xaxis": "x3",
         "y": [
          0.007497647,
          0.006751114,
          0.0053438693,
          0.0044984366,
          0.0041342406,
          0.0041506933
         ],
         "yaxis": "y3"
        },
        {
         "mode": "lines+markers",
         "name": "down (lags)",
         "showlegend": false,
         "type": "scatter",
         "x": [
          "2018-04-03T11:08:00",
          "2018-04-03T11:10:00",
          "2018-04-03T11:12:00",
          "2018-04-03T11:14:00",
          "2018-04-03T11:16:00",
          "2018-04-03T11:18:00",
          "2018-04-03T11:20:00",
          "2018-04-03T11:22:00",
          "2018-04-03T11:24:00",
          "2018-04-03T11:26:00"
         ],
         "xaxis": "x4",
         "y": [
          179069992,
          127116616,
          166917816,
          150972688,
          140227744,
          146779032,
          168454952,
          179212664,
          148594944,
          141018024
         ],
         "yaxis": "y4"
        },
        {
         "line": {
          "dash": "dash"
         },
         "mode": "lines+markers",
         "name": "down (pred t+1..t+6)",
         "showlegend": false,
         "type": "scatter",
         "x": [
          "2018-04-03T11:28:00",
          "2018-04-03T11:30:00",
          "2018-04-03T11:32:00",
          "2018-04-03T11:34:00",
          "2018-04-03T11:36:00",
          "2018-04-03T11:38:00"
         ],
         "xaxis": "x4",
         "y": [
          141536380,
          150786620,
          153680540,
          153963520,
          153632460,
          153658750
         ],
         "yaxis": "y4"
        },
        {
         "mode": "lines+markers",
         "name": "up (lags)",
         "showlegend": false,
         "type": "scatter",
         "x": [
          "2018-04-03T11:08:00",
          "2018-04-03T11:10:00",
          "2018-04-03T11:12:00",
          "2018-04-03T11:14:00",
          "2018-04-03T11:16:00",
          "2018-04-03T11:18:00",
          "2018-04-03T11:20:00",
          "2018-04-03T11:22:00",
          "2018-04-03T11:24:00",
          "2018-04-03T11:26:00"
         ],
         "xaxis": "x5",
         "y": [
          1634208,
          799160,
          1437560,
          1336128,
          1237888,
          1396208,
          1105272,
          1490944,
          1231984,
          1263840
         ],
         "yaxis": "y5"
        },
        {
         "line": {
          "dash": "dash"
         },
         "mode": "lines+markers",
         "name": "up (pred t+1..t+6)",
         "showlegend": false,
         "type": "scatter",
         "x": [
          "2018-04-03T11:28:00",
          "2018-04-03T11:30:00",
          "2018-04-03T11:32:00",
          "2018-04-03T11:34:00",
          "2018-04-03T11:36:00",
          "2018-04-03T11:38:00"
         ],
         "xaxis": "x5",
         "y": [
          21962014,
          19684918,
          16459445,
          14411397,
          13629058,
          13903045
         ],
         "yaxis": "y5"
        }
       ],
       "layout": {
        "annotations": [
         {
          "font": {
           "size": 16
          },
          "showarrow": false,
          "text": "rnti_count",
          "x": 0.5,
          "xanchor": "center",
          "xref": "paper",
          "y": 1,
          "yanchor": "bottom",
          "yref": "paper"
         },
         {
          "font": {
           "size": 16
          },
          "showarrow": false,
          "text": "rb_down",
          "x": 0.5,
          "xanchor": "center",
          "xref": "paper",
          "y": 0.7859999999999999,
          "yanchor": "bottom",
          "yref": "paper"
         },
         {
          "font": {
           "size": 16
          },
          "showarrow": false,
          "text": "rb_up",
          "x": 0.5,
          "xanchor": "center",
          "xref": "paper",
          "y": 0.572,
          "yanchor": "bottom",
          "yref": "paper"
         },
         {
          "font": {
           "size": 16
          },
          "showarrow": false,
          "text": "down",
          "x": 0.5,
          "xanchor": "center",
          "xref": "paper",
          "y": 0.358,
          "yanchor": "bottom",
          "yref": "paper"
         },
         {
          "font": {
           "size": 16
          },
          "showarrow": false,
          "text": "up",
          "x": 0.5,
          "xanchor": "center",
          "xref": "paper",
          "y": 0.144,
          "yanchor": "bottom",
          "yref": "paper"
         }
        ],
        "height": 1500,
        "hovermode": "x unified",
        "legend": {
         "orientation": "h",
         "x": 1,
         "xanchor": "right",
         "y": 1.02,
         "yanchor": "bottom"
        },
        "shapes": [
         {
          "line": {
           "color": "gray",
           "dash": "dot",
           "width": 2
          },
          "type": "line",
          "x0": "2018-04-03T11:26:00",
          "x1": "2018-04-03T11:26:00",
          "xref": "x",
          "y0": 0,
          "y1": 1,
          "yref": "y domain"
         },
         {
          "line": {
           "color": "gray",
           "dash": "dot",
           "width": 2
          },
          "type": "line",
          "x0": "2018-04-03T11:26:00",
          "x1": "2018-04-03T11:26:00",
          "xref": "x2",
          "y0": 0,
          "y1": 1,
          "yref": "y2 domain"
         },
         {
          "line": {
           "color": "gray",
           "dash": "dot",
           "width": 2
          },
          "type": "line",
          "x0": "2018-04-03T11:26:00",
          "x1": "2018-04-03T11:26:00",
          "xref": "x3",
          "y0": 0,
          "y1": 1,
          "yref": "y3 domain"
         },
         {
          "line": {
           "color": "gray",
           "dash": "dot",
           "width": 2
          },
          "type": "line",
          "x0": "2018-04-03T11:26:00",
          "x1": "2018-04-03T11:26:00",
          "xref": "x4",
          "y0": 0,
          "y1": 1,
          "yref": "y4 domain"
         },
         {
          "line": {
           "color": "gray",
           "dash": "dot",
           "width": 2
          },
          "type": "line",
          "x0": "2018-04-03T11:26:00",
          "x1": "2018-04-03T11:26:00",
          "xref": "x5",
          "y0": 0,
          "y1": 1,
          "yref": "y5 domain"
         }
        ],
        "template": {
         "data": {
          "bar": [
           {
            "error_x": {
             "color": "#2a3f5f"
            },
            "error_y": {
             "color": "#2a3f5f"
            },
            "marker": {
             "line": {
              "color": "#E5ECF6",
              "width": 0.5
             },
             "pattern": {
              "fillmode": "overlay",
              "size": 10,
              "solidity": 0.2
             }
            },
            "type": "bar"
           }
          ],
          "barpolar": [
           {
            "marker": {
             "line": {
              "color": "#E5ECF6",
              "width": 0.5
             },
             "pattern": {
              "fillmode": "overlay",
              "size": 10,
              "solidity": 0.2
             }
            },
            "type": "barpolar"
           }
          ],
          "carpet": [
           {
            "aaxis": {
             "endlinecolor": "#2a3f5f",
             "gridcolor": "white",
             "linecolor": "white",
             "minorgridcolor": "white",
             "startlinecolor": "#2a3f5f"
            },
            "baxis": {
             "endlinecolor": "#2a3f5f",
             "gridcolor": "white",
             "linecolor": "white",
             "minorgridcolor": "white",
             "startlinecolor": "#2a3f5f"
            },
            "type": "carpet"
           }
          ],
          "choropleth": [
           {
            "colorbar": {
             "outlinewidth": 0,
             "ticks": ""
            },
            "type": "choropleth"
           }
          ],
          "contour": [
           {
            "colorbar": {
             "outlinewidth": 0,
             "ticks": ""
            },
            "colorscale": [
             [
              0,
              "#0d0887"
             ],
             [
              0.1111111111111111,
              "#46039f"
             ],
             [
              0.2222222222222222,
              "#7201a8"
             ],
             [
              0.3333333333333333,
              "#9c179e"
             ],
             [
              0.4444444444444444,
              "#bd3786"
             ],
             [
              0.5555555555555556,
              "#d8576b"
             ],
             [
              0.6666666666666666,
              "#ed7953"
             ],
             [
              0.7777777777777778,
              "#fb9f3a"
             ],
             [
              0.8888888888888888,
              "#fdca26"
             ],
             [
              1,
              "#f0f921"
             ]
            ],
            "type": "contour"
           }
          ],
          "contourcarpet": [
           {
            "colorbar": {
             "outlinewidth": 0,
             "ticks": ""
            },
            "type": "contourcarpet"
           }
          ],
          "heatmap": [
           {
            "colorbar": {
             "outlinewidth": 0,
             "ticks": ""
            },
            "colorscale": [
             [
              0,
              "#0d0887"
             ],
             [
              0.1111111111111111,
              "#46039f"
             ],
             [
              0.2222222222222222,
              "#7201a8"
             ],
             [
              0.3333333333333333,
              "#9c179e"
             ],
             [
              0.4444444444444444,
              "#bd3786"
             ],
             [
              0.5555555555555556,
              "#d8576b"
             ],
             [
              0.6666666666666666,
              "#ed7953"
             ],
             [
              0.7777777777777778,
              "#fb9f3a"
             ],
             [
              0.8888888888888888,
              "#fdca26"
             ],
             [
              1,
              "#f0f921"
             ]
            ],
            "type": "heatmap"
           }
          ],
          "heatmapgl": [
           {
            "colorbar": {
             "outlinewidth": 0,
             "ticks": ""
            },
            "colorscale": [
             [
              0,
              "#0d0887"
             ],
             [
              0.1111111111111111,
              "#46039f"
             ],
             [
              0.2222222222222222,
              "#7201a8"
             ],
             [
              0.3333333333333333,
              "#9c179e"
             ],
             [
              0.4444444444444444,
              "#bd3786"
             ],
             [
              0.5555555555555556,
              "#d8576b"
             ],
             [
              0.6666666666666666,
              "#ed7953"
             ],
             [
              0.7777777777777778,
              "#fb9f3a"
             ],
             [
              0.8888888888888888,
              "#fdca26"
             ],
             [
              1,
              "#f0f921"
             ]
            ],
            "type": "heatmapgl"
           }
          ],
          "histogram": [
           {
            "marker": {
             "pattern": {
              "fillmode": "overlay",
              "size": 10,
              "solidity": 0.2
             }
            },
            "type": "histogram"
           }
          ],
          "histogram2d": [
           {
            "colorbar": {
             "outlinewidth": 0,
             "ticks": ""
            },
            "colorscale": [
             [
              0,
              "#0d0887"
             ],
             [
              0.1111111111111111,
              "#46039f"
             ],
             [
              0.2222222222222222,
              "#7201a8"
             ],
             [
              0.3333333333333333,
              "#9c179e"
             ],
             [
              0.4444444444444444,
              "#bd3786"
             ],
             [
              0.5555555555555556,
              "#d8576b"
             ],
             [
              0.6666666666666666,
              "#ed7953"
             ],
             [
              0.7777777777777778,
              "#fb9f3a"
             ],
             [
              0.8888888888888888,
              "#fdca26"
             ],
             [
              1,
              "#f0f921"
             ]
            ],
            "type": "histogram2d"
           }
          ],
          "histogram2dcontour": [
           {
            "colorbar": {
             "outlinewidth": 0,
             "ticks": ""
            },
            "colorscale": [
             [
              0,
              "#0d0887"
             ],
             [
              0.1111111111111111,
              "#46039f"
             ],
             [
              0.2222222222222222,
              "#7201a8"
             ],
             [
              0.3333333333333333,
              "#9c179e"
             ],
             [
              0.4444444444444444,
              "#bd3786"
             ],
             [
              0.5555555555555556,
              "#d8576b"
             ],
             [
              0.6666666666666666,
              "#ed7953"
             ],
             [
              0.7777777777777778,
              "#fb9f3a"
             ],
             [
              0.8888888888888888,
              "#fdca26"
             ],
             [
              1,
              "#f0f921"
             ]
            ],
            "type": "histogram2dcontour"
           }
          ],
          "mesh3d": [
           {
            "colorbar": {
             "outlinewidth": 0,
             "ticks": ""
            },
            "type": "mesh3d"
           }
          ],
          "parcoords": [
           {
            "line": {
             "colorbar": {
              "outlinewidth": 0,
              "ticks": ""
             }
            },
            "type": "parcoords"
           }
          ],
          "pie": [
           {
            "automargin": true,
            "type": "pie"
           }
          ],
          "scatter": [
           {
            "fillpattern": {
             "fillmode": "overlay",
             "size": 10,
             "solidity": 0.2
            },
            "type": "scatter"
           }
          ],
          "scatter3d": [
           {
            "line": {
             "colorbar": {
              "outlinewidth": 0,
              "ticks": ""
             }
            },
            "marker": {
             "colorbar": {
              "outlinewidth": 0,
              "ticks": ""
             }
            },
            "type": "scatter3d"
           }
          ],
          "scattercarpet": [
           {
            "marker": {
             "colorbar": {
              "outlinewidth": 0,
              "ticks": ""
             }
            },
            "type": "scattercarpet"
           }
          ],
          "scattergeo": [
           {
            "marker": {
             "colorbar": {
              "outlinewidth": 0,
              "ticks": ""
             }
            },
            "type": "scattergeo"
           }
          ],
          "scattergl": [
           {
            "marker": {
             "colorbar": {
              "outlinewidth": 0,
              "ticks": ""
             }
            },
            "type": "scattergl"
           }
          ],
          "scattermapbox": [
           {
            "marker": {
             "colorbar": {
              "outlinewidth": 0,
              "ticks": ""
             }
            },
            "type": "scattermapbox"
           }
          ],
          "scatterpolar": [
           {
            "marker": {
             "colorbar": {
              "outlinewidth": 0,
              "ticks": ""
             }
            },
            "type": "scatterpolar"
           }
          ],
          "scatterpolargl": [
           {
            "marker": {
             "colorbar": {
              "outlinewidth": 0,
              "ticks": ""
             }
            },
            "type": "scatterpolargl"
           }
          ],
          "scatterternary": [
           {
            "marker": {
             "colorbar": {
              "outlinewidth": 0,
              "ticks": ""
             }
            },
            "type": "scatterternary"
           }
          ],
          "surface": [
           {
            "colorbar": {
             "outlinewidth": 0,
             "ticks": ""
            },
            "colorscale": [
             [
              0,
              "#0d0887"
             ],
             [
              0.1111111111111111,
              "#46039f"
             ],
             [
              0.2222222222222222,
              "#7201a8"
             ],
             [
              0.3333333333333333,
              "#9c179e"
             ],
             [
              0.4444444444444444,
              "#bd3786"
             ],
             [
              0.5555555555555556,
              "#d8576b"
             ],
             [
              0.6666666666666666,
              "#ed7953"
             ],
             [
              0.7777777777777778,
              "#fb9f3a"
             ],
             [
              0.8888888888888888,
              "#fdca26"
             ],
             [
              1,
              "#f0f921"
             ]
            ],
            "type": "surface"
           }
          ],
          "table": [
           {
            "cells": {
             "fill": {
              "color": "#EBF0F8"
             },
             "line": {
              "color": "white"
             }
            },
            "header": {
             "fill": {
              "color": "#C8D4E3"
             },
             "line": {
              "color": "white"
             }
            },
            "type": "table"
           }
          ]
         },
         "layout": {
          "annotationdefaults": {
           "arrowcolor": "#2a3f5f",
           "arrowhead": 0,
           "arrowwidth": 1
          },
          "autotypenumbers": "strict",
          "coloraxis": {
           "colorbar": {
            "outlinewidth": 0,
            "ticks": ""
           }
          },
          "colorscale": {
           "diverging": [
            [
             0,
             "#8e0152"
            ],
            [
             0.1,
             "#c51b7d"
            ],
            [
             0.2,
             "#de77ae"
            ],
            [
             0.3,
             "#f1b6da"
            ],
            [
             0.4,
             "#fde0ef"
            ],
            [
             0.5,
             "#f7f7f7"
            ],
            [
             0.6,
             "#e6f5d0"
            ],
            [
             0.7,
             "#b8e186"
            ],
            [
             0.8,
             "#7fbc41"
            ],
            [
             0.9,
             "#4d9221"
            ],
            [
             1,
             "#276419"
            ]
           ],
           "sequential": [
            [
             0,
             "#0d0887"
            ],
            [
             0.1111111111111111,
             "#46039f"
            ],
            [
             0.2222222222222222,
             "#7201a8"
            ],
            [
             0.3333333333333333,
             "#9c179e"
            ],
            [
             0.4444444444444444,
             "#bd3786"
            ],
            [
             0.5555555555555556,
             "#d8576b"
            ],
            [
             0.6666666666666666,
             "#ed7953"
            ],
            [
             0.7777777777777778,
             "#fb9f3a"
            ],
            [
             0.8888888888888888,
             "#fdca26"
            ],
            [
             1,
             "#f0f921"
            ]
           ],
           "sequentialminus": [
            [
             0,
             "#0d0887"
            ],
            [
             0.1111111111111111,
             "#46039f"
            ],
            [
             0.2222222222222222,
             "#7201a8"
            ],
            [
             0.3333333333333333,
             "#9c179e"
            ],
            [
             0.4444444444444444,
             "#bd3786"
            ],
            [
             0.5555555555555556,
             "#d8576b"
            ],
            [
             0.6666666666666666,
             "#ed7953"
            ],
            [
             0.7777777777777778,
             "#fb9f3a"
            ],
            [
             0.8888888888888888,
             "#fdca26"
            ],
            [
             1,
             "#f0f921"
            ]
           ]
          },
          "colorway": [
           "#636efa",
           "#EF553B",
           "#00cc96",
           "#ab63fa",
           "#FFA15A",
           "#19d3f3",
           "#FF6692",
           "#B6E880",
           "#FF97FF",
           "#FECB52"
          ],
          "font": {
           "color": "#2a3f5f"
          },
          "geo": {
           "bgcolor": "white",
           "lakecolor": "white",
           "landcolor": "#E5ECF6",
           "showlakes": true,
           "showland": true,
           "subunitcolor": "white"
          },
          "hoverlabel": {
           "align": "left"
          },
          "hovermode": "closest",
          "mapbox": {
           "style": "light"
          },
          "paper_bgcolor": "white",
          "plot_bgcolor": "#E5ECF6",
          "polar": {
           "angularaxis": {
            "gridcolor": "white",
            "linecolor": "white",
            "ticks": ""
           },
           "bgcolor": "#E5ECF6",
           "radialaxis": {
            "gridcolor": "white",
            "linecolor": "white",
            "ticks": ""
           }
          },
          "scene": {
           "xaxis": {
            "backgroundcolor": "#E5ECF6",
            "gridcolor": "white",
            "gridwidth": 2,
            "linecolor": "white",
            "showbackground": true,
            "ticks": "",
            "zerolinecolor": "white"
           },
           "yaxis": {
            "backgroundcolor": "#E5ECF6",
            "gridcolor": "white",
            "gridwidth": 2,
            "linecolor": "white",
            "showbackground": true,
            "ticks": "",
            "zerolinecolor": "white"
           },
           "zaxis": {
            "backgroundcolor": "#E5ECF6",
            "gridcolor": "white",
            "gridwidth": 2,
            "linecolor": "white",
            "showbackground": true,
            "ticks": "",
            "zerolinecolor": "white"
           }
          },
          "shapedefaults": {
           "line": {
            "color": "#2a3f5f"
           }
          },
          "ternary": {
           "aaxis": {
            "gridcolor": "white",
            "linecolor": "white",
            "ticks": ""
           },
           "baxis": {
            "gridcolor": "white",
            "linecolor": "white",
            "ticks": ""
           },
           "bgcolor": "#E5ECF6",
           "caxis": {
            "gridcolor": "white",
            "linecolor": "white",
            "ticks": ""
           }
          },
          "title": {
           "x": 0.05
          },
          "xaxis": {
           "automargin": true,
           "gridcolor": "white",
           "linecolor": "white",
           "ticks": "",
           "title": {
            "standoff": 15
           },
           "zerolinecolor": "white",
           "zerolinewidth": 2
          },
          "yaxis": {
           "automargin": true,
           "gridcolor": "white",
           "linecolor": "white",
           "ticks": "",
           "title": {
            "standoff": 15
           },
           "zerolinecolor": "white",
           "zerolinewidth": 2
          }
         }
        },
        "title": {
         "text": "ElBorn — Seq2Seq forecasts (lags L=10 → t+1..t+6)"
        },
        "width": 1100,
        "xaxis": {
         "anchor": "y",
         "domain": [
          0,
          1
         ]
        },
        "xaxis2": {
         "anchor": "y2",
         "domain": [
          0,
          1
         ]
        },
        "xaxis3": {
         "anchor": "y3",
         "domain": [
          0,
          1
         ]
        },
        "xaxis4": {
         "anchor": "y4",
         "domain": [
          0,
          1
         ]
        },
        "xaxis5": {
         "anchor": "y5",
         "domain": [
          0,
          1
         ]
        },
        "yaxis": {
         "anchor": "x",
         "domain": [
          0.856,
          1
         ],
         "title": {
          "text": "rnti_count"
         }
        },
        "yaxis2": {
         "anchor": "x2",
         "domain": [
          0.6419999999999999,
          0.7859999999999999
         ],
         "title": {
          "text": "rb_down"
         }
        },
        "yaxis3": {
         "anchor": "x3",
         "domain": [
          0.428,
          0.572
         ],
         "title": {
          "text": "rb_up"
         }
        },
        "yaxis4": {
         "anchor": "x4",
         "domain": [
          0.214,
          0.358
         ],
         "title": {
          "text": "down"
         }
        },
        "yaxis5": {
         "anchor": "x5",
         "domain": [
          0,
          0.144
         ],
         "title": {
          "text": "up"
         }
        }
       }
      }
     },
     "metadata": {},
     "output_type": "display_data"
    }
   ],
   "source": [
    "# -----------------------------\n",
    "# 4) Plot 5 line charts (Plotly)\n",
    "# -----------------------------\n",
    "fig = make_subplots(rows=5, cols=1, shared_xaxes=False,\n",
    "                    vertical_spacing=0.07,\n",
    "                    subplot_titles=TARGETS)\n",
    "\n",
    "for i, tgt in enumerate(TARGETS, start=1):\n",
    "    # Left series (lagged ground truth, ORIGINAL)\n",
    "    y_lag = lag_targets_orig[:, TARGETS.index(tgt)]   # [L]\n",
    "    x_lag = lag_times\n",
    "\n",
    "    # Right series (predictions t+1..t+6)\n",
    "    y_pred = preds_orig[:, TARGETS.index(tgt)]        # [H]\n",
    "    x_pred = future_times\n",
    "\n",
    "    # Plot lagged segment as a line\n",
    "    fig.add_trace(\n",
    "        go.Scatter(x=x_lag, y=y_lag, mode='lines+markers',\n",
    "                   name=f\"{tgt} (lags)\", showlegend=(i==1)),\n",
    "        row=i, col=1\n",
    "    )\n",
    "\n",
    "    # Plot predicted segment as a line with a different dash\n",
    "    fig.add_trace(\n",
    "        go.Scatter(x=x_pred, y=y_pred, mode='lines+markers',\n",
    "                   name=f\"{tgt} (pred t+1..t+6)\", line=dict(dash='dash'), showlegend=(i==1)),\n",
    "        row=i, col=1\n",
    "    )\n",
    "\n",
    "    # Add vertical separator at the last lag time\n",
    "    sep_time = x_lag[-1]\n",
    "    fig.add_vline(x=sep_time, line_width=2, line_dash=\"dot\", line_color=\"gray\", row=i, col=1)\n",
    "\n",
    "    # Aesthetic touches\n",
    "    fig.update_yaxes(title_text=tgt, row=i, col=1)\n",
    "\n",
    "fig.update_layout(\n",
    "    title=f\"{STATION} — {MODEL_SEL} forecasts (lags L={L} → t+1..t+{H})\",\n",
    "    height=300*5, width=1100,\n",
    "    legend=dict(orientation=\"h\", yanchor=\"bottom\", y=1.02, xanchor=\"right\", x=1.0),\n",
    "    hovermode=\"x unified\",\n",
    ")\n",
    "\n",
    "fig.show()"
   ]
  },
  {
   "cell_type": "code",
   "execution_count": null,
   "id": "35e2e87e",
   "metadata": {},
   "outputs": [],
   "source": []
  }
 ],
 "metadata": {
  "kernelspec": {
   "display_name": "ua",
   "language": "python",
   "name": "python3"
  },
  "language_info": {
   "codemirror_mode": {
    "name": "ipython",
    "version": 3
   },
   "file_extension": ".py",
   "mimetype": "text/x-python",
   "name": "python",
   "nbconvert_exporter": "python",
   "pygments_lexer": "ipython3",
   "version": "3.9.18"
  }
 },
 "nbformat": 4,
 "nbformat_minor": 5
}
