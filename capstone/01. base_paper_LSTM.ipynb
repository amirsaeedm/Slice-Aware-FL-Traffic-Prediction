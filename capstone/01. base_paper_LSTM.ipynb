{
 "cells": [
  {
   "cell_type": "code",
   "execution_count": null,
   "id": "085b32e0",
   "metadata": {},
   "outputs": [],
   "source": [
    "import torch\n",
    "import torch.nn as nn\n",
    "from torch.utils.data import DataLoader, TensorDataset\n",
    "import numpy as np\n",
    "import sys, os\n",
    "sys.path.append(os.path.abspath(os.path.join(os.getcwd(), '..')))\n",
    "\n",
    "from ml.models.lstm import LSTM\n",
    "from ml.utils.data_utils import prepare_dataset\n",
    "from argparse import Namespace"
   ]
  },
  {
   "cell_type": "code",
   "execution_count": null,
   "id": "7da2f401",
   "metadata": {},
   "outputs": [],
   "source": [
    "# Define Configuration\n",
    "args = Namespace(\n",
    "    data_path='../dataset/full_dataset.csv',\n",
    "    targets=['rnti_count', 'rb_down', 'rb_up', 'down', 'up'],\n",
    "    num_lags=10,\n",
    "    forecast_steps=1,     # Single step\n",
    "    test_size=0.2,\n",
    "    ignore_cols=None,\n",
    "    identifier='District',\n",
    "    nan_constant=0,\n",
    "    x_scaler='minmax',\n",
    "    y_scaler='minmax',\n",
    "    outlier_detection=True,\n",
    "    epochs=10,\n",
    "    batch_size=64,\n",
    "    lr=0.001,\n",
    "    hidden_size=128,\n",
    "    num_layers=2,\n",
    "    device='cuda' if torch.cuda.is_available() else 'cpu'\n",
    ")"
   ]
  },
  {
   "cell_type": "code",
   "execution_count": null,
   "id": "e4d98348",
   "metadata": {},
   "outputs": [],
   "source": [
    "# Prepare Data\n",
    "X_train, y_train, X_test, y_test, _, _, _, _ = prepare_dataset(args)\n",
    "y_train_single = y_train[:, 0, :]  # Use only t+1\n",
    "y_test_single = y_test[:, 0, :]"
   ]
  },
  {
   "cell_type": "code",
   "execution_count": null,
   "id": "cf354066",
   "metadata": {},
   "outputs": [],
   "source": [
    "train_loader = DataLoader(TensorDataset(torch.Tensor(X_train), torch.Tensor(y_train_single)), batch_size=args.batch_size, shuffle=True)"
   ]
  },
  {
   "cell_type": "code",
   "execution_count": null,
   "id": "6f24dcea",
   "metadata": {},
   "outputs": [],
   "source": [
    "# Model\n",
    "input_dim = X_train.shape[2]\n",
    "output_dim = y_train_single.shape[1]\n",
    "model = LSTM(input_dim=input_dim, lstm_hidden_size=args.hidden_size,\n",
    "             num_lstm_layers=args.num_layers, num_outputs=output_dim).to(args.device)\n",
    "\n",
    "optimizer = torch.optim.Adam(model.parameters(), lr=args.lr)\n",
    "criterion = nn.MSELoss()"
   ]
  },
  {
   "cell_type": "code",
   "execution_count": null,
   "id": "a6d7a314",
   "metadata": {},
   "outputs": [],
   "source": [
    "# Train\n",
    "for epoch in range(args.epochs):\n",
    "    model.train()\n",
    "    total_loss = 0\n",
    "    for xb, yb in train_loader:\n",
    "        xb, yb = xb.to(args.device), yb.to(args.device)\n",
    "        optimizer.zero_grad()\n",
    "        preds = model(xb, device=args.device)\n",
    "        loss = criterion(preds, yb)\n",
    "        loss.backward()\n",
    "        optimizer.step()\n",
    "        total_loss += loss.item()\n",
    "    print(f\"[{epoch+1}/{args.epochs}] Train Loss: {total_loss/len(train_loader):.4f}\")"
   ]
  },
  {
   "cell_type": "code",
   "execution_count": null,
   "id": "38139e93",
   "metadata": {},
   "outputs": [],
   "source": [
    "torch.save(model.state_dict(), \"basepaper_lstm.pt\")"
   ]
  },
  {
   "cell_type": "code",
   "execution_count": null,
   "id": "2dc0db88",
   "metadata": {},
   "outputs": [],
   "source": [
    "import torch\n",
    "import numpy as np\n",
    "import matplotlib.pyplot as plt\n",
    "from argparse import Namespace\n",
    "from sklearn.metrics import mean_squared_error, mean_absolute_error, r2_score\n",
    "\n",
    "from ml.models.lstm import LSTM\n",
    "from ml.utils.data_utils import prepare_dataset"
   ]
  },
  {
   "cell_type": "code",
   "execution_count": null,
   "id": "84e5d151",
   "metadata": {},
   "outputs": [],
   "source": [
    "args = Namespace(\n",
    "    data_path='../dataset/full_dataset.csv',\n",
    "    targets=['rnti_count', 'rb_down', 'rb_up', 'down', 'up'],\n",
    "    num_lags=10,\n",
    "    forecast_steps=1,\n",
    "    test_size=0.2,\n",
    "    ignore_cols=None,\n",
    "    identifier='District',\n",
    "    nan_constant=0,\n",
    "    x_scaler='minmax',\n",
    "    y_scaler='minmax',\n",
    "    outlier_detection=True,\n",
    "    hidden_size=128,\n",
    "    num_layers=2,\n",
    "    device='cuda' if torch.cuda.is_available() else 'cpu'\n",
    ")"
   ]
  },
  {
   "cell_type": "code",
   "execution_count": null,
   "id": "003e144d",
   "metadata": {},
   "outputs": [],
   "source": [
    "# Load Data\n",
    "X_train, y_train, X_test, y_test, _, _, _, _ = prepare_dataset(args)\n",
    "y_test_single = y_test[:, 0, :]  # Only t+1\n",
    "\n",
    "# Load Model\n",
    "input_dim = X_test.shape[2]\n",
    "output_dim = y_test_single.shape[1]\n",
    "model = LSTM(input_dim=input_dim, lstm_hidden_size=args.hidden_size,\n",
    "             num_lstm_layers=args.num_layers, num_outputs=output_dim).to(args.device)\n",
    "model.load_state_dict(torch.load(\"basepaper_lstm.pt\"))\n",
    "model.eval()"
   ]
  },
  {
   "cell_type": "code",
   "execution_count": null,
   "id": "9d5da56d",
   "metadata": {},
   "outputs": [],
   "source": [
    "# Predict\n",
    "with torch.no_grad():\n",
    "    preds = model(torch.Tensor(X_test).to(args.device), device=args.device).cpu().numpy()"
   ]
  },
  {
   "cell_type": "code",
   "execution_count": null,
   "id": "cd42cfc5",
   "metadata": {},
   "outputs": [],
   "source": [
    "# Flatten and evaluate\n",
    "print(\"\\nEvaluation Metrics for All 5 Targets (t+1 only):\")\n",
    "for i, var in enumerate(args.targets):\n",
    "    true_vals = y_test_single[:, i]\n",
    "    pred_vals = preds[:, i]\n",
    "\n",
    "    mse = mean_squared_error(true_vals, pred_vals)\n",
    "    rmse = mean_squared_error(true_vals, pred_vals, squared=False)\n",
    "    mae = mean_absolute_error(true_vals, pred_vals)\n",
    "    r2 = r2_score(true_vals, pred_vals)\n",
    "    nrmse = rmse / (true_vals.max() - true_vals.min())\n",
    "\n",
    "    print(f\"\\n{var} Metrics:\")\n",
    "    print(f\"  MSE   : {mse:.4f}\")\n",
    "    print(f\"  RMSE  : {rmse:.4f}\")\n",
    "    print(f\"  MAE   : {mae:.4f}\")\n",
    "    print(f\"  R²    : {r2:.4f}\")\n",
    "    print(f\"  NRMSE : {nrmse:.4f}\")"
   ]
  },
  {
   "cell_type": "code",
   "execution_count": null,
   "id": "1fe3cf53",
   "metadata": {},
   "outputs": [],
   "source": [
    "# ─────────────────────────────────────────────\n",
    "# STEP 6: Visualizations\n",
    "\n",
    "def plot_predictions(true, pred, var_name):\n",
    "    plt.figure(figsize=(10, 3))\n",
    "    plt.plot(true, label=\"Actual\", alpha=0.7)\n",
    "    plt.plot(pred, label=\"Predicted\", linestyle='--')\n",
    "    plt.title(f\"{var_name} — Forecast for t+1\")\n",
    "    plt.grid(True)\n",
    "    plt.legend()\n",
    "    plt.tight_layout()\n",
    "    plt.show()\n",
    "\n",
    "for var in ['rb_down', 'down']:\n",
    "    i = args.targets.index(var)\n",
    "    plot_predictions(y_test_single[:, i], preds[:, i], var)"
   ]
  }
 ],
 "metadata": {
  "kernelspec": {
   "display_name": "ua",
   "language": "python",
   "name": "python3"
  },
  "language_info": {
   "name": "python",
   "version": "3.9.23"
  }
 },
 "nbformat": 4,
 "nbformat_minor": 5
}
